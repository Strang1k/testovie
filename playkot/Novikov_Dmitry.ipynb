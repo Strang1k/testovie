{
 "cells": [
  {
   "attachments": {},
   "cell_type": "markdown",
   "metadata": {},
   "source": [
    "# Задание 1. Маректинговые метрики\n",
    "\n",
    "Известные мне метрики: Показы, клики, ctr (клики / показы)*100%, уникальные/активные пользователи в (день/неделя/месяц/год), <br/>\n",
    "конверсия (целевое действие / клики)*100%, количество просмотренных страниц, среднее время в приложении, цена за клик (или фикс, или стоимость рекламы / клики), <br/>\n",
    "расходы(цена) за целевое действие/(лид), стоимость привлечения нового пользователя (затраты на рекламу / новые пользователи),  <br/>\n",
    "средняя прибыль на пользователя (прибыль / количество пользователей), стоимость удержания (недополученная прибыль в результате промо(?) + ретаргетинг), количество сессий в день, <br/>\n",
    "ltv - средняя прибыль на пользователя (прибыль за все время пользования - (стоимость привлечения + удержания)) <br/>\n",
    "roi - окупаемость вложений ( (прибыль- затраты) / затраты)*100% <br/>\n",
    "Догуглил: <br/>\n",
    "arppu - средяя выручка на платящего пользователя; разновидость ltv с платящими пользователями вместо всех пользователей <br/>\n",
    "churn rate - коэф оттока (пользователи в начале периода - в конце периода)/в начале периода <br/>\n",
    "retention rate - коэф удержания (пользователи в конце периода / пользователи в начале периода) #пользователи одни и те же <br/>\n",
    "stickness - коэф ~лояльности (активные пользователи в день / активные пользователи в месяц) <br/>\n",
    "\n",
    "\n",
    "Выведу в качестве топ 5 по важности (без формул, т.к. указал их выше), предполагая, что будут рассчитаны по каналу привлечения/для рекламной кампании:\n",
    "1. ctr+конверсия (клики/показы)\n",
    "2. Стоимость привлечения нового пользователя (затраты на рекламу / новые пользователи)\n",
    "3. roi ((прибыль- затраты) / затраты)*100%\n",
    "4. Уникальные пользователи в день/месяц\n",
    "5. Средняя прибыль на пользователя\n",
    "\n",
    "Не стоимостные факторы:\n",
    "1. Репутация компании\n",
    "2. Предварительный анализ рынка, каналов привлечения, аудитории\n",
    "3. Сезонность\n",
    "4. Тренды и их соблюдение/создание\n",
    "5. Сложившаяся аудитория"
   ]
  },
  {
   "cell_type": "code",
   "execution_count": 2,
   "metadata": {},
   "outputs": [],
   "source": [
    "import sqlite3\n",
    "import pandas as pd\n",
    "\n",
    "from math import inf as infinite\n",
    "\n",
    "import seaborn as sns\n",
    "sns.set(rc={'figure.figsize':(12 , 8)})"
   ]
  },
  {
   "cell_type": "code",
   "execution_count": 267,
   "metadata": {},
   "outputs": [],
   "source": [
    "con = sqlite3.connect('mydb.db')\n",
    "wb = pd.read_excel('dataset.xlsx', sheet_name=None)\n",
    "\n",
    "#Если база уже создана, то будет ошибка, иначе раскомментить\n",
    "# for sheet in wb:\n",
    "#     wb[sheet].to_sql(sheet, con, index=False)\n",
    "#     con.commit()"
   ]
  },
  {
   "cell_type": "code",
   "execution_count": 268,
   "metadata": {},
   "outputs": [
    {
     "name": "stdout",
     "output_type": "stream",
     "text": [
      "[('in_app_events',), ('cost',)]\n"
     ]
    }
   ],
   "source": [
    "cursor = con.cursor()\n",
    "\n",
    "cursor.execute(\"\"\"\n",
    "                SELECT name \n",
    "                FROM sqlite_master \n",
    "                WHERE type='table' \n",
    "                    \"\"\")\n",
    "\n",
    "\n",
    "tables = cursor.fetchall()\n",
    "print(tables)"
   ]
  },
  {
   "cell_type": "code",
   "execution_count": 276,
   "metadata": {},
   "outputs": [
    {
     "name": "stdout",
     "output_type": "stream",
     "text": [
      "CREATE TABLE \"in_app_events\" (\n",
      "\"install_date\" TIMESTAMP,\n",
      "  \"event_date\" TIMESTAMP,\n",
      "  \"event_name\" TEXT,\n",
      "  \"gross_event_revenue_usd\" REAL,\n",
      "  \"net_event_revenue_usd\" REAL,\n",
      "  \"event_source\" TEXT,\n",
      "  \"media_channel \" TEXT,\n",
      "  \"campaign\" TEXT,\n",
      "  \"country_code\" TEXT,\n",
      "  \"customer_user_id\" TEXT,\n",
      "  \"platform_id\" TEXT\n",
      ")\n",
      "-----------------------\n",
      "CREATE TABLE \"cost\" (\n",
      "\"date\" TIMESTAMP,\n",
      "  \"campaign\" TEXT,\n",
      "  \"media_channel\" TEXT,\n",
      "  \"platform\" TEXT,\n",
      "  \"country_code\" TEXT,\n",
      "  \"cost\" REAL\n",
      ")\n"
     ]
    }
   ],
   "source": [
    "print(tables[0][4])\n",
    "print('-----------------------')\n",
    "print(tables[1][4])"
   ]
  },
  {
   "attachments": {},
   "cell_type": "markdown",
   "metadata": {},
   "source": [
    "# 2.1\n",
    "Метрики"
   ]
  },
  {
   "cell_type": "code",
   "execution_count": 33,
   "metadata": {},
   "outputs": [
    {
     "name": "stdout",
     "output_type": "stream",
     "text": [
      "('campaign_1', 123)\n",
      "('campaign_2', 156)\n",
      "('campaign_3', 122)\n",
      "('campaign_4', 104)\n",
      "('campaign_5', 94)\n",
      "('campaign_6', 114)\n"
     ]
    }
   ],
   "source": [
    "#количество уникальных установок\n",
    "\n",
    "with con:\n",
    "    data = con.execute(\"\"\"\n",
    "                        SELECT campaign, count(*)\n",
    "                        FROM in_app_events \n",
    "                        WHERE event_name = 'install'\n",
    "                        GROUP BY campaign\n",
    "                        \n",
    "                       \"\"\")\n",
    "    for row in data:\n",
    "        print(row)"
   ]
  },
  {
   "cell_type": "code",
   "execution_count": 46,
   "metadata": {},
   "outputs": [
    {
     "name": "stdout",
     "output_type": "stream",
     "text": [
      "('campaign_1', 23)\n",
      "('campaign_2', 26)\n",
      "('campaign_3', 6)\n",
      "('campaign_4', 18)\n",
      "('campaign_5', 16)\n",
      "('campaign_6', 16)\n"
     ]
    }
   ],
   "source": [
    "#количество уникальных плательщиков\n",
    "\n",
    "with con:\n",
    "    data = con.execute(\"\"\"\n",
    "                        SELECT campaign, count(distinct customer_user_id)\n",
    "                        FROM in_app_events \n",
    "                        WHERE event_name = 'purchase'\n",
    "                        GROUP BY campaign\n",
    "                        \n",
    "                       \"\"\")\n",
    "    for row in data:\n",
    "        print(row)"
   ]
  },
  {
   "cell_type": "code",
   "execution_count": 48,
   "metadata": {},
   "outputs": [
    {
     "name": "stdout",
     "output_type": "stream",
     "text": [
      "('campaign_1', 327633.0)\n",
      "('campaign_2', 511958.0)\n",
      "('campaign_3', 122298.0)\n",
      "('campaign_4', 281037.0)\n",
      "('campaign_5', 95042.0)\n",
      "('campaign_6', 120435.0)\n"
     ]
    }
   ],
   "source": [
    "#суммарные затраты на проведение рекламных кампаний\n",
    "\n",
    "with con:\n",
    "    data = con.execute(\"\"\"\n",
    "                        SELECT campaign, sum(cost)\n",
    "                        FROM cost \n",
    "                        \n",
    "                        GROUP BY campaign\n",
    "                        \n",
    "                       \"\"\")\n",
    "    for row in data:\n",
    "        print(row)"
   ]
  },
  {
   "cell_type": "code",
   "execution_count": 54,
   "metadata": {},
   "outputs": [
    {
     "name": "stdout",
     "output_type": "stream",
     "text": [
      "('campaign_1', 25081.12)\n",
      "('campaign_2', 42505.39)\n",
      "('campaign_3', 177.34)\n",
      "('campaign_4', 71798.65)\n",
      "('campaign_5', 192.05)\n",
      "('campaign_6', 363.31)\n"
     ]
    }
   ],
   "source": [
    "# суммарная выручка привлеченных пользователей\n",
    "with con:\n",
    "    data = con.execute(\"\"\"\n",
    "                        SELECT campaign, round(sum(gross_event_revenue_usd), 2)\n",
    "                        FROM in_app_events \n",
    "                        \n",
    "                        GROUP BY campaign\n",
    "                        \n",
    "                       \"\"\")\n",
    "    for row in data:\n",
    "        print(row)\n"
   ]
  },
  {
   "cell_type": "code",
   "execution_count": 57,
   "metadata": {},
   "outputs": [
    {
     "name": "stdout",
     "output_type": "stream",
     "text": [
      "('campaign_1', 1913)\n",
      "('campaign_2', 1961)\n",
      "('campaign_3', 31)\n",
      "('campaign_4', 3429)\n",
      "('campaign_5', 82)\n",
      "('campaign_6', 90)\n"
     ]
    }
   ],
   "source": [
    "# количество платежей привлеченных пользователей\n",
    "\n",
    "with con:\n",
    "    data = con.execute(\"\"\"\n",
    "                        SELECT campaign, count(gross_event_revenue_usd)\n",
    "                        FROM in_app_events \n",
    "                        WHERE event_name = 'purchase'\n",
    "                        GROUP BY campaign\n",
    "                        \n",
    "                       \"\"\")\n",
    "    for row in data:\n",
    "        print(row)"
   ]
  },
  {
   "attachments": {},
   "cell_type": "markdown",
   "metadata": {},
   "source": [
    "# 2.2\n",
    "Метрики из задания 1"
   ]
  },
  {
   "cell_type": "code",
   "execution_count": 198,
   "metadata": {},
   "outputs": [],
   "source": [
    "#ctr и конверсия считаются просто, но нет данных"
   ]
  },
  {
   "cell_type": "code",
   "execution_count": 116,
   "metadata": {},
   "outputs": [
    {
     "name": "stdout",
     "output_type": "stream",
     "text": [
      "('campaign_1', 2663.68)\n",
      "('campaign_2', 3281.78)\n",
      "('campaign_3', 1002.44)\n",
      "('campaign_4', 2702.28)\n",
      "('campaign_5', 1011.09)\n",
      "('campaign_6', 1056.45)\n"
     ]
    }
   ],
   "source": [
    "# Стоимость привлечения\n",
    "\n",
    "with con:\n",
    "    data = con.execute(\"\"\"\n",
    "                        SELECT campaign, round((cost/count), 2) as cpu\n",
    "                        FROM (\n",
    "                            SELECT cost.campaign, sum(cost.cost) as cost, count --затраты\n",
    "                            FROM cost \n",
    "                            \n",
    "                            join (\n",
    "\n",
    "                            SELECT campaign, count(*) as count --новые пользователи\n",
    "                            FROM in_app_events \n",
    "                            WHERE event_name = 'install'\n",
    "                            GROUP BY campaign\n",
    "                            ) tmp on tmp.campaign = cost.campaign\n",
    "                            \n",
    "                            GROUP BY cost.campaign\n",
    "                        )tmp\n",
    "                        \n",
    "                        GROUP BY campaign\n",
    "                        \n",
    "                       \"\"\")\n",
    "    for row in data:\n",
    "        print(row)\n"
   ]
  },
  {
   "cell_type": "code",
   "execution_count": 251,
   "metadata": {},
   "outputs": [
    {
     "name": "stdout",
     "output_type": "stream",
     "text": [
      "('campaign_1', '-95.58%')\n",
      "('campaign_2', '-94.19%')\n",
      "('campaign_3', '-99.91%')\n",
      "('campaign_4', '-83.32%')\n",
      "('campaign_5', '-99.88%')\n",
      "('campaign_6', '-99.81%')\n"
     ]
    }
   ],
   "source": [
    "# roi\n",
    "\n",
    "with con:\n",
    "    data = con.execute(\"\"\"\n",
    "                        SELECT campaign, round( ((prof-cost)/cost) *100, 2)||'%'  --тут || вместо concat(...,'%')\n",
    "                        FROM (\n",
    "                            SELECT cost.campaign, sum(cost.cost) as cost, prof  --затраты\n",
    "                            FROM cost \n",
    "                            \n",
    "                            join (\n",
    "                            \n",
    "                                SELECT campaign, sum(net_event_revenue_usd) as prof --прибыль\n",
    "                                FROM in_app_events \n",
    "                                GROUP BY campaign\n",
    "\n",
    "                                ) tmp on tmp.campaign = cost.campaign\n",
    "                            \n",
    "                            GROUP BY cost.campaign\n",
    "                        )tmp\n",
    "                        \n",
    "                        GROUP BY campaign\n",
    "                        \n",
    "                       \"\"\")\n",
    "    for row in data:\n",
    "        print(row)"
   ]
  },
  {
   "cell_type": "code",
   "execution_count": 197,
   "metadata": {},
   "outputs": [
    {
     "name": "stdout",
     "output_type": "stream",
     "text": [
      "('campaign_1', '2021 01', 2)\n",
      "('campaign_1', '2021 02', 3)\n",
      "('campaign_1', '2021 03', 4)\n",
      "('campaign_1', '2021 04', 6)\n",
      "('campaign_1', '2021 05', 7)\n",
      "('campaign_1', '2021 06', 5)\n",
      "('campaign_1', '2021 07', 6)\n",
      "('campaign_1', '2021 08', 3)\n",
      "('campaign_1', '2021 09', 5)\n",
      "('campaign_1', '2021 10', 6)\n",
      "('campaign_1', '2021 11', 4)\n",
      "('campaign_1', '2021 12', 3)\n",
      "('campaign_1', '2022 01', 4)\n",
      "('campaign_1', '2022 02', 5)\n",
      "('campaign_1', '2022 03', 5)\n",
      "('campaign_1', '2022 04', 6)\n",
      "('campaign_1', '2022 05', 3)\n",
      "('campaign_1', '2022 06', 5)\n",
      "('campaign_1', '2022 07', 3)\n",
      "('campaign_1', '2022 08', 4)\n",
      "('campaign_1', '2022 09', 4)\n",
      "('campaign_1', '2022 10', 3)\n",
      "('campaign_1', '2022 11', 3)\n",
      "('campaign_1', '2022 12', 3)\n",
      "('campaign_1', '2023 01', 3)\n",
      "('campaign_1', '2023 02', 2)\n",
      "('campaign_2', '2021 01', 23)\n",
      "('campaign_2', '2021 02', 5)\n",
      "('campaign_2', '2021 03', 5)\n",
      "('campaign_2', '2021 04', 5)\n",
      "('campaign_2', '2021 05', 4)\n",
      "('campaign_2', '2021 06', 3)\n",
      "('campaign_2', '2021 07', 3)\n",
      "('campaign_2', '2021 08', 4)\n",
      "('campaign_2', '2021 09', 3)\n",
      "('campaign_2', '2021 10', 3)\n",
      "('campaign_2', '2021 11', 3)\n",
      "('campaign_2', '2021 12', 3)\n",
      "('campaign_2', '2022 01', 4)\n",
      "('campaign_2', '2022 02', 3)\n",
      "('campaign_2', '2022 03', 3)\n",
      "('campaign_2', '2022 04', 3)\n",
      "('campaign_2', '2022 05', 3)\n",
      "('campaign_2', '2022 06', 3)\n",
      "('campaign_2', '2022 07', 4)\n",
      "('campaign_2', '2022 08', 4)\n",
      "('campaign_2', '2022 09', 5)\n",
      "('campaign_2', '2022 10', 4)\n",
      "('campaign_2', '2022 11', 4)\n",
      "('campaign_2', '2022 12', 3)\n",
      "('campaign_2', '2023 01', 4)\n",
      "('campaign_2', '2023 02', 3)\n",
      "('campaign_3', '2021 04', 6)\n",
      "('campaign_3', '2021 05', 1)\n",
      "('campaign_4', '2021 12', 11)\n",
      "('campaign_4', '2022 01', 12)\n",
      "('campaign_4', '2022 02', 3)\n",
      "('campaign_4', '2022 03', 2)\n",
      "('campaign_4', '2022 04', 2)\n",
      "('campaign_4', '2022 05', 3)\n",
      "('campaign_4', '2022 06', 2)\n",
      "('campaign_4', '2022 07', 1)\n",
      "('campaign_4', '2022 08', 2)\n",
      "('campaign_4', '2022 09', 2)\n",
      "('campaign_4', '2022 10', 2)\n",
      "('campaign_4', '2022 11', 2)\n",
      "('campaign_4', '2022 12', 2)\n",
      "('campaign_4', '2023 01', 2)\n",
      "('campaign_4', '2023 02', 2)\n",
      "('campaign_5', '2021 12', 8)\n",
      "('campaign_5', '2022 01', 10)\n",
      "('campaign_5', '2022 02', 1)\n",
      "('campaign_6', '2021 12', 9)\n",
      "('campaign_6', '2022 01', 10)\n",
      "('campaign_6', '2022 02', 3)\n",
      "('campaign_6', '2022 03', 1)\n",
      "('campaign_6', '2022 05', 2)\n",
      "('campaign_6', '2022 07', 1)\n",
      "('campaign_6', '2022 09', 1)\n",
      "('campaign_6', '2022 10', 1)\n"
     ]
    }
   ],
   "source": [
    "# уникальные пользователи в месяц (уникальные плательщики) --в pandas построены графики\n",
    "\n",
    "with con:\n",
    "    data = con.execute(\"\"\"\n",
    "                        SELECT campaign,strftime('%Y %m', event_date), COUNT(distinct customer_user_id) \n",
    "                        FROM in_app_events \n",
    "                        WHERE event_name = 'purchase'\n",
    "                        GROUP BY strftime('%Y %m', event_date), campaign\n",
    "                        ORDER BY campaign\n",
    "                        \n",
    "                       \"\"\")\n",
    "    for row in data:\n",
    "        print(row)"
   ]
  },
  {
   "cell_type": "code",
   "execution_count": 266,
   "metadata": {},
   "outputs": [
    {
     "name": "stdout",
     "output_type": "stream",
     "text": [
      "('campaign_1', 117.63)\n",
      "('campaign_2', 190.82)\n",
      "('campaign_3', 0.91)\n",
      "('campaign_4', 450.7)\n",
      "('campaign_5', 1.19)\n",
      "('campaign_6', 2.01)\n"
     ]
    }
   ],
   "source": [
    "# средняя прибыль на пользователя\n",
    "\n",
    "with con:\n",
    "    data = con.execute(\"\"\"\n",
    "                        SELECT tmp.campaign, round((prof/count), 2) as ppu\n",
    "\n",
    "                        FROM (\n",
    "\n",
    "                            SELECT tmp.campaign, count(*) as count, prof --новые пользователи\n",
    "                            \n",
    "                            FROM in_app_events \n",
    "                            \n",
    "\n",
    "                            join (\n",
    "                        \n",
    "                                SELECT campaign, sum(net_event_revenue_usd) as prof --прибыль\n",
    "                                FROM in_app_events \n",
    "                                GROUP BY campaign\n",
    "                            \n",
    "                                ) tmp on tmp.campaign = in_app_events.campaign\n",
    "\n",
    "                            WHERE event_name = 'install'\n",
    "                            GROUP BY in_app_events.campaign\n",
    "\n",
    "                        )tmp\n",
    "                            \n",
    "                       \"\"\")\n",
    "    for row in data:\n",
    "        print(row)"
   ]
  },
  {
   "attachments": {},
   "cell_type": "markdown",
   "metadata": {},
   "source": [
    "# Pandas"
   ]
  },
  {
   "cell_type": "code",
   "execution_count": 27,
   "metadata": {},
   "outputs": [],
   "source": [
    "df = pd.read_excel('dataset.xlsx')"
   ]
  },
  {
   "cell_type": "code",
   "execution_count": 3,
   "metadata": {},
   "outputs": [],
   "source": [
    "costs = pd.read_excel('dataset.xlsx', sheet_name=1)"
   ]
  },
  {
   "cell_type": "code",
   "execution_count": 4,
   "metadata": {},
   "outputs": [
    {
     "data": {
      "text/html": [
       "<div>\n",
       "<style scoped>\n",
       "    .dataframe tbody tr th:only-of-type {\n",
       "        vertical-align: middle;\n",
       "    }\n",
       "\n",
       "    .dataframe tbody tr th {\n",
       "        vertical-align: top;\n",
       "    }\n",
       "\n",
       "    .dataframe thead th {\n",
       "        text-align: right;\n",
       "    }\n",
       "</style>\n",
       "<table border=\"1\" class=\"dataframe\">\n",
       "  <thead>\n",
       "    <tr style=\"text-align: right;\">\n",
       "      <th></th>\n",
       "      <th>install_date</th>\n",
       "      <th>event_date</th>\n",
       "      <th>event_name</th>\n",
       "      <th>gross_event_revenue_usd</th>\n",
       "      <th>net_event_revenue_usd</th>\n",
       "      <th>event_source</th>\n",
       "      <th>media_channel</th>\n",
       "      <th>campaign</th>\n",
       "      <th>country_code</th>\n",
       "      <th>customer_user_id</th>\n",
       "      <th>platform_id</th>\n",
       "    </tr>\n",
       "  </thead>\n",
       "  <tbody>\n",
       "    <tr>\n",
       "      <th>0</th>\n",
       "      <td>2021-12-30</td>\n",
       "      <td>2022-03-01</td>\n",
       "      <td>purchase</td>\n",
       "      <td>5.35</td>\n",
       "      <td>3.493</td>\n",
       "      <td>S2S</td>\n",
       "      <td>Facebook Ads</td>\n",
       "      <td>campaign_6</td>\n",
       "      <td>US</td>\n",
       "      <td>user_1</td>\n",
       "      <td>android</td>\n",
       "    </tr>\n",
       "    <tr>\n",
       "      <th>1</th>\n",
       "      <td>2021-12-30</td>\n",
       "      <td>2022-01-04</td>\n",
       "      <td>purchase</td>\n",
       "      <td>21.64</td>\n",
       "      <td>13.993</td>\n",
       "      <td>S2S</td>\n",
       "      <td>Facebook Ads</td>\n",
       "      <td>campaign_4</td>\n",
       "      <td>US</td>\n",
       "      <td>user_2</td>\n",
       "      <td>android</td>\n",
       "    </tr>\n",
       "    <tr>\n",
       "      <th>2</th>\n",
       "      <td>2021-12-31</td>\n",
       "      <td>2022-02-09</td>\n",
       "      <td>purchase</td>\n",
       "      <td>10.71</td>\n",
       "      <td>6.993</td>\n",
       "      <td>S2S</td>\n",
       "      <td>Facebook Ads</td>\n",
       "      <td>campaign_4</td>\n",
       "      <td>US</td>\n",
       "      <td>user_3</td>\n",
       "      <td>android</td>\n",
       "    </tr>\n",
       "    <tr>\n",
       "      <th>3</th>\n",
       "      <td>2021-12-31</td>\n",
       "      <td>2022-07-25</td>\n",
       "      <td>purchase</td>\n",
       "      <td>3.21</td>\n",
       "      <td>2.093</td>\n",
       "      <td>S2S</td>\n",
       "      <td>Facebook Ads</td>\n",
       "      <td>campaign_4</td>\n",
       "      <td>US</td>\n",
       "      <td>user_3</td>\n",
       "      <td>android</td>\n",
       "    </tr>\n",
       "    <tr>\n",
       "      <th>4</th>\n",
       "      <td>2021-12-31</td>\n",
       "      <td>2022-08-23</td>\n",
       "      <td>purchase</td>\n",
       "      <td>5.35</td>\n",
       "      <td>3.493</td>\n",
       "      <td>S2S</td>\n",
       "      <td>Facebook Ads</td>\n",
       "      <td>campaign_4</td>\n",
       "      <td>US</td>\n",
       "      <td>user_3</td>\n",
       "      <td>android</td>\n",
       "    </tr>\n",
       "  </tbody>\n",
       "</table>\n",
       "</div>"
      ],
      "text/plain": [
       "  install_date event_date event_name  gross_event_revenue_usd  \\\n",
       "0   2021-12-30 2022-03-01   purchase                     5.35   \n",
       "1   2021-12-30 2022-01-04   purchase                    21.64   \n",
       "2   2021-12-31 2022-02-09   purchase                    10.71   \n",
       "3   2021-12-31 2022-07-25   purchase                     3.21   \n",
       "4   2021-12-31 2022-08-23   purchase                     5.35   \n",
       "\n",
       "   net_event_revenue_usd event_source media_channel     campaign country_code  \\\n",
       "0                  3.493          S2S   Facebook Ads  campaign_6           US   \n",
       "1                 13.993          S2S   Facebook Ads  campaign_4           US   \n",
       "2                  6.993          S2S   Facebook Ads  campaign_4           US   \n",
       "3                  2.093          S2S   Facebook Ads  campaign_4           US   \n",
       "4                  3.493          S2S   Facebook Ads  campaign_4           US   \n",
       "\n",
       "  customer_user_id platform_id  \n",
       "0           user_1     android  \n",
       "1           user_2     android  \n",
       "2           user_3     android  \n",
       "3           user_3     android  \n",
       "4           user_3     android  "
      ]
     },
     "execution_count": 4,
     "metadata": {},
     "output_type": "execute_result"
    }
   ],
   "source": [
    "df.head()"
   ]
  },
  {
   "cell_type": "code",
   "execution_count": 5,
   "metadata": {},
   "outputs": [
    {
     "data": {
      "text/plain": [
       "730"
      ]
     },
     "execution_count": 5,
     "metadata": {},
     "output_type": "execute_result"
    }
   ],
   "source": [
    "len(df.customer_user_id.unique()) #уникальных пользователей"
   ]
  },
  {
   "cell_type": "code",
   "execution_count": 6,
   "metadata": {},
   "outputs": [
    {
     "data": {
      "text/plain": [
       "purchase    7506\n",
       "install      713\n",
       "Name: event_name, dtype: int64"
      ]
     },
     "execution_count": 6,
     "metadata": {},
     "output_type": "execute_result"
    }
   ],
   "source": [
    "df.event_name.value_counts() #установок"
   ]
  },
  {
   "cell_type": "code",
   "execution_count": 7,
   "metadata": {},
   "outputs": [
    {
     "data": {
      "text/plain": [
       "1"
      ]
     },
     "execution_count": 7,
     "metadata": {},
     "output_type": "execute_result"
    }
   ],
   "source": [
    "df[['event_name','customer_user_id']].where(df['event_name'] == 'install').value_counts().max() # проверил на отсутствие повторений в установках таким образом"
   ]
  },
  {
   "attachments": {},
   "cell_type": "markdown",
   "metadata": {},
   "source": [
    "Единственное предположение почему пользователи и установки могут не совпадать - регистрация вне приложения без последующей установки"
   ]
  },
  {
   "attachments": {},
   "cell_type": "markdown",
   "metadata": {},
   "source": [
    "# 2.1 Пользуясь данными из датасета посчитайте итоговые результаты проведения каждой рекламной кампании\n",
    "1. количество уникальных установок\n",
    "2. количество уникальных плательщиков\n",
    "3. суммарные затраты на проведение рекламных кампаний\n",
    "4. суммарную выручку привлеченных пользователей\n",
    "5. количество платежей привлеченных пользователей\n"
   ]
  },
  {
   "cell_type": "code",
   "execution_count": 8,
   "metadata": {},
   "outputs": [
    {
     "data": {
      "text/plain": [
       "array(['campaign_6', 'campaign_4', 'campaign_2', 'campaign_5',\n",
       "       'campaign_1', 'campaign_3'], dtype=object)"
      ]
     },
     "execution_count": 8,
     "metadata": {},
     "output_type": "execute_result"
    }
   ],
   "source": [
    "df.campaign.unique()"
   ]
  },
  {
   "cell_type": "code",
   "execution_count": 37,
   "metadata": {},
   "outputs": [
    {
     "name": "stdout",
     "output_type": "stream",
     "text": [
      "campaign_6 114\n",
      "campaign_4 104\n",
      "campaign_2 156\n",
      "campaign_5 94\n",
      "campaign_1 123\n",
      "campaign_3 122\n"
     ]
    }
   ],
   "source": [
    "#2.1.1 количество уникальных установок\n",
    "un_installs = {}\n",
    "\n",
    "for each in df.campaign.unique():\n",
    "    un_installs[each] = df[['campaign','event_name']].where(df['campaign'] == each).where(df['event_name'] == 'install').value_counts()[0] \n",
    "    print(each, un_installs[each]) #value_counts пропускает NaN"
   ]
  },
  {
   "cell_type": "code",
   "execution_count": 10,
   "metadata": {},
   "outputs": [
    {
     "name": "stdout",
     "output_type": "stream",
     "text": [
      "campaign_6 16\n",
      "campaign_4 18\n",
      "campaign_2 26\n",
      "campaign_5 16\n",
      "campaign_1 23\n",
      "campaign_3 6\n"
     ]
    }
   ],
   "source": [
    "#2.1.2 количество уникальных плательщиков\n",
    "un_payers = {}\n",
    "\n",
    "for each in df.campaign.unique():\n",
    "    un_payers[each] = len(df[['campaign','event_name','customer_user_id']].where(df['campaign'] == each).where(df['event_name'] == 'purchase').customer_user_id.dropna().unique())\n",
    "    print(each, un_payers[each]) "
   ]
  },
  {
   "cell_type": "code",
   "execution_count": 11,
   "metadata": {},
   "outputs": [
    {
     "name": "stdout",
     "output_type": "stream",
     "text": [
      "campaign_3 122298.0\n",
      "campaign_2 511958.0\n",
      "campaign_1 327633.0\n",
      "campaign_5 95042.0\n",
      "campaign_6 120435.0\n",
      "campaign_4 281037.0\n"
     ]
    }
   ],
   "source": [
    "#2.1.3 суммарные затраты на проведение рекламных кампаний\n",
    "cost_per_mark_camp = {}\n",
    "\n",
    "for each in costs.campaign.unique():\n",
    "    cost_per_mark_camp[each] = costs[['campaign','cost']].where(costs['campaign'] == each).cost.sum()\n",
    "    print(each, cost_per_mark_camp[each] ) "
   ]
  },
  {
   "cell_type": "code",
   "execution_count": 12,
   "metadata": {},
   "outputs": [
    {
     "name": "stdout",
     "output_type": "stream",
     "text": [
      "campaign_6 363.31\n",
      "campaign_4 71798.65\n",
      "campaign_2 42505.39\n",
      "campaign_5 192.05\n",
      "campaign_1 25081.12\n",
      "campaign_3 177.34\n"
     ]
    }
   ],
   "source": [
    "#2.1.4 суммарная выручка привлеченных пользователей\n",
    "sum_rev_per_camp = {}\n",
    "\n",
    "for each in df.campaign.unique():\n",
    "    sum_rev_per_camp[each] = df[['campaign','event_name', 'gross_event_revenue_usd']].where(df['campaign'] == each).where(df['event_name'] == 'purchase').gross_event_revenue_usd.sum()\n",
    "    print(each, round(sum_rev_per_camp[each], 2)) "
   ]
  },
  {
   "cell_type": "code",
   "execution_count": 65,
   "metadata": {},
   "outputs": [
    {
     "name": "stdout",
     "output_type": "stream",
     "text": [
      "campaign_6 90\n",
      "campaign_4 3429\n",
      "campaign_2 1961\n",
      "campaign_5 82\n",
      "campaign_1 1913\n",
      "campaign_3 31\n"
     ]
    }
   ],
   "source": [
    "#2.1.5 количество платежей привлеченных пользователей\n",
    "user_paym_per_camp = {}\n",
    "\n",
    "for each in df.campaign.unique():\n",
    "    user_paym_per_camp[each] = df[['campaign','event_name','customer_user_id']].where(df['campaign'] == each).where(df['event_name'] == 'purchase').customer_user_id.dropna().value_counts().sum()\n",
    "    print(each, user_paym_per_camp[each]) "
   ]
  },
  {
   "attachments": {},
   "cell_type": "markdown",
   "metadata": {},
   "source": [
    "# 2.2 Пользуясь теоретической базой из п.1 посчитайте метрики эффективности для каждой кампании из Задания 1"
   ]
  },
  {
   "cell_type": "code",
   "execution_count": 14,
   "metadata": {},
   "outputs": [
    {
     "data": {
      "text/plain": [
       "purchase    7506\n",
       "Name: event_name, dtype: int64"
      ]
     },
     "execution_count": 14,
     "metadata": {},
     "output_type": "execute_result"
    }
   ],
   "source": [
    "df.where(df['event_name'] == 'purchase').event_name.value_counts()"
   ]
  },
  {
   "cell_type": "code",
   "execution_count": 67,
   "metadata": {},
   "outputs": [],
   "source": [
    "#2.2.1 Возможно это намек на неважность, но недостаточно данных для того, чтобы посчитать ctr и/или конверсию,\n",
    "# но они и считаются достаточно легко"
   ]
  },
  {
   "cell_type": "code",
   "execution_count": 16,
   "metadata": {},
   "outputs": [
    {
     "name": "stdout",
     "output_type": "stream",
     "text": [
      "campaign_3 1002.44\n",
      "campaign_2 3281.78\n",
      "campaign_1 2663.68\n",
      "campaign_5 1011.09\n",
      "campaign_6 1056.45\n",
      "campaign_4 2702.28\n"
     ]
    }
   ],
   "source": [
    "#2.2.2 Стоимость привлечения: затраты на рекламу п2.1.3 / новые пользователи п2.1.1\n",
    "cost_per_new_user = {}\n",
    "\n",
    "for each in cost_per_mark_camp.keys():\n",
    "    cost_per_new_user[each] = cost_per_mark_camp[each] / un_installs[each]\n",
    "    print(each, round(cost_per_new_user[each], 2))"
   ]
  },
  {
   "cell_type": "code",
   "execution_count": 17,
   "metadata": {},
   "outputs": [
    {
     "name": "stdout",
     "output_type": "stream",
     "text": [
      "campaign_6 -99.81%\n",
      "campaign_4 -83.32%\n",
      "campaign_2 -94.19%\n",
      "campaign_5 -99.88%\n",
      "campaign_1 -95.58%\n",
      "campaign_3 -99.91%\n"
     ]
    }
   ],
   "source": [
    "#2.2.3 roi: (прибыль с кампании - суммарные затраты п2.1.3) / затраты \n",
    "\n",
    "#прибыль с кампании\n",
    "sum_profit_per_camp = {}\n",
    "\n",
    "for each in df.campaign.unique():\n",
    "    sum_profit_per_camp[each] = df.where(df['campaign'] == each).where(df['event_name'] == 'purchase').net_event_revenue_usd.sum()\n",
    "\n",
    "\n",
    "roi = {}\n",
    "\n",
    "for each in sum_profit_per_camp.keys():\n",
    "    roi[each] = str( round(\n",
    "         ((sum_profit_per_camp[each] - cost_per_mark_camp[each]) / cost_per_mark_camp[each] )*100, 2))+'%'\n",
    "    print(each, roi[each])"
   ]
  },
  {
   "cell_type": "code",
   "execution_count": 18,
   "metadata": {},
   "outputs": [],
   "source": [
    "#2.2.4 Уникальные пользователи в месяц (тут посчитаю и визуализирую уникальных плательщиков в месяц, подход похож)\n",
    "\n",
    "\n",
    "dfmap = df.sort_values(by='event_date').where(df['event_name'] == 'purchase').dropna().copy() #df с покупками\n",
    "\n",
    "dfmap['event_date'] = dfmap['event_date'].dt.to_period('M') #оставляю только месяц для удобства\n",
    "\n",
    "act_pay_m_c = []\n",
    "for ed in dfmap.event_date.unique():\n",
    "    for camp in dfmap.campaign.unique():\n",
    "        act_pay_m_c.append(\n",
    "\n",
    "             (ed, camp, len(dfmap.where(dfmap.event_date == ed).where(dfmap.campaign == camp).customer_user_id.dropna().unique()))\n",
    "             \n",
    "               ) #собираю отдельный список с кортежами (год-месяц, кампания, количество уникальных плательщиков)\n",
    "\n",
    "dff = pd.DataFrame(list(act_pay_m_c), columns=['date','campaign','payers']) #из этого списка соберу новый df по которому буду строить график"
   ]
  },
  {
   "cell_type": "code",
   "execution_count": 19,
   "metadata": {},
   "outputs": [
    {
     "data": {
      "image/png": "[encoded data removed]",
      "text/plain": [
       "<Figure size 864x576 with 1 Axes>"
      ]
     },
     "metadata": {},
     "output_type": "display_data"
    },
    {
     "data": {
      "image/png": "[encoded data removed]",
      "text/plain": [
       "<Figure size 864x576 with 1 Axes>"
      ]
     },
     "metadata": {},
     "output_type": "display_data"
    },
    {
     "data": {
      "image/png": "[encoded data removed]",
      "text/plain": [
       "<Figure size 864x576 with 1 Axes>"
      ]
     },
     "metadata": {},
     "output_type": "display_data"
    },
    {
     "data": {
      "image/png": "[encoded data removed]",
      "text/plain": [
       "<Figure size 864x576 with 1 Axes>"
      ]
     },
     "metadata": {},
     "output_type": "display_data"
    },
    {
     "data": {
      "image/png": "[encoded data removed]",
      "text/plain": [
       "<Figure size 864x576 with 1 Axes>"
      ]
     },
     "metadata": {},
     "output_type": "display_data"
    },
    {
     "data": {
      "image/png": "[encoded data removed]",
      "text/plain": [
       "<Figure size 864x576 with 1 Axes>"
      ]
     },
     "metadata": {},
     "output_type": "display_data"
    }
   ],
   "source": [
    "for campaign in sorted(dff.campaign.unique()):\n",
    "    subdf = dff.where(dff.campaign == campaign).dropna()\n",
    "    subdf.plot(\n",
    "        x = 'date',\n",
    "        y = 'payers',\n",
    "        kind='bar',\n",
    "        title = campaign\n",
    "    )"
   ]
  },
  {
   "cell_type": "code",
   "execution_count": 20,
   "metadata": {},
   "outputs": [
    {
     "name": "stdout",
     "output_type": "stream",
     "text": [
      "campaign_6 2.01\n",
      "campaign_4 450.7\n",
      "campaign_2 190.82\n",
      "campaign_5 1.19\n",
      "campaign_1 117.63\n",
      "campaign_3 0.91\n"
     ]
    }
   ],
   "source": [
    "#2.2.5 средняя прибыль на пользователя (за все время): прибыль с кампании / количество новых пользователей\n",
    "avg_profit_per_user_per_camp = {}\n",
    "\n",
    "for each in sum_profit_per_camp.keys():\n",
    "    avg_profit_per_user_per_camp[each] = sum_profit_per_camp[each] / un_installs[each]\n",
    "    print(each, round(avg_profit_per_user_per_camp[each], 2))"
   ]
  },
  {
   "attachments": {},
   "cell_type": "markdown",
   "metadata": {},
   "source": [
    "# Задание 2.3 \n",
    "Выберете по вашему мнению самый \n",
    "1. эффективный канал (media_channel),\n",
    "2. географию (country_code) и \n",
    "3. платформу (platform)\n",
    "\n",
    "Объясните свой выбор на данных. "
   ]
  },
  {
   "cell_type": "code",
   "execution_count": 21,
   "metadata": {},
   "outputs": [
    {
     "data": {
      "text/plain": [
       "Index(['install_date', 'event_date', 'event_name', 'gross_event_revenue_usd',\n",
       "       'net_event_revenue_usd', 'event_source', 'media_channel ', 'campaign',\n",
       "       'country_code', 'customer_user_id', 'platform_id'],\n",
       "      dtype='object')"
      ]
     },
     "execution_count": 21,
     "metadata": {},
     "output_type": "execute_result"
    }
   ],
   "source": [
    "df.columns"
   ]
  },
  {
   "cell_type": "code",
   "execution_count": 22,
   "metadata": {},
   "outputs": [
    {
     "data": {
      "text/plain": [
       "Index(['date', 'campaign', 'media_channel', 'platform', 'country_code',\n",
       "       'cost'],\n",
       "      dtype='object')"
      ]
     },
     "execution_count": 22,
     "metadata": {},
     "output_type": "execute_result"
    }
   ],
   "source": [
    "costs.columns"
   ]
  },
  {
   "cell_type": "code",
   "execution_count": 23,
   "metadata": {},
   "outputs": [],
   "source": [
    "df = df.rename(columns={'media_channel ':'media_channel'}) #пробел затесался\n",
    "\n",
    "#приведем к одной форме\n",
    "df = df.rename(columns={'platform_id':'platform'})\n",
    "costs.platform = costs.platform.map({'IOS':'ios', 'ANDROID':'android'})"
   ]
  },
  {
   "attachments": {},
   "cell_type": "markdown",
   "metadata": {},
   "source": [
    "* В качестве метрик выберу: <br/>\n",
    "    установки, затраты, стоимость привлечения одного пользователя, суммарная прибыль, средняя прибыль на пользователя, roi"
   ]
  },
  {
   "cell_type": "code",
   "execution_count": 24,
   "metadata": {},
   "outputs": [],
   "source": [
    "def gimmistats(df, costs, param):\n",
    "    \n",
    "\n",
    "    #количество уникальных установок\n",
    "    mch_un_installs = {}\n",
    "\n",
    "    for each in sorted(df[param].unique()):\n",
    "        try:\n",
    "            mch_un_installs[each] = df.where(df[param] == each).where(df.event_name == 'install')[param].value_counts()[0]\n",
    "        except IndexError:\n",
    "            mch_un_installs[each] = 0\n",
    "        \n",
    "\n",
    "    #суммарные затраты на проведение рекламных кампаний\n",
    "    cost_per_mch = {}\n",
    "\n",
    "    for each in sorted(costs[param].dropna().unique()):\n",
    "        try:\n",
    "            cost_per_mch[each] = costs.where(costs[param] == each).cost.sum()\n",
    "        except IndexError:\n",
    "            cost_per_mch[each] = 0\n",
    "        \n",
    "\n",
    "    #суммарная прибыль от привлеченных пользователей\n",
    "    sum_prof_per_mch = {}\n",
    "\n",
    "    for each in sorted(df[param].unique()):\n",
    "        try:\n",
    "            sum_prof_per_mch[each] = round(df.where(df[param] == each).where(df.event_name == 'purchase').net_event_revenue_usd.sum(), 2)\n",
    "        except IndexError:\n",
    "            sum_prof_per_mch[each] = 0\n",
    "\n",
    "\n",
    "    #Стоимость привлечения\n",
    "    cost_per_new_user_mch = {}\n",
    "\n",
    "    for each in cost_per_mch.keys():\n",
    "        try:\n",
    "            cost_per_new_user_mch[each] = round(cost_per_mch[each] / mch_un_installs[each], 2)\n",
    "        except KeyError:\n",
    "            cost_per_new_user_mch[each] = infinite\n",
    "        except ZeroDivisionError:\n",
    "            if cost_per_mch[each] == 0:\n",
    "                cost_per_new_user_mch[each] = 0\n",
    "            elif mch_un_installs[each] == 0:\n",
    "                cost_per_new_user_mch[each] = infinite\n",
    "\n",
    "\n",
    "    #Средняя прибыль на пользователя\n",
    "    avg_prof_per_user_per_mch = {}\n",
    "\n",
    "    for each in sum_prof_per_mch.keys():\n",
    "        try:\n",
    "            avg_prof_per_user_per_mch[each] = round(sum_prof_per_mch[each] / mch_un_installs[each], 2)\n",
    "        except ZeroDivisionError:\n",
    "            if sum_prof_per_mch[each] == 0:\n",
    "                avg_prof_per_user_per_mch[each] = 0\n",
    "            elif mch_un_installs[each] == 0:\n",
    "                avg_prof_per_user_per_mch[each] = infinite\n",
    "\n",
    " \n",
    "    #roi\n",
    "    mch_roi = {}\n",
    "\n",
    "    for each in sum_prof_per_mch.keys():\n",
    "        if cost_per_mch[each] != 0: #в такой конструкции, т.к. вместо ошибки отдает nan\n",
    "            mch_roi[each] = round(\n",
    "                ((sum_prof_per_mch[each] - cost_per_mch[each]) / cost_per_mch[each] )*100, 2)\n",
    "        else:\n",
    "            mch_roi[each] = infinite\n",
    "\n",
    "    #Объединение\n",
    "    predf = []\n",
    "    for mch in sorted(df[param].unique()):\n",
    "        predf.append( \n",
    "            (mch, mch_un_installs[mch], cost_per_mch[mch], cost_per_new_user_mch[mch], \n",
    "            sum_prof_per_mch[mch], avg_prof_per_user_per_mch[mch], mch_roi[mch] )\n",
    "        )\n",
    "\n",
    "\n",
    "\n",
    "    return predf"
   ]
  },
  {
   "attachments": {},
   "cell_type": "markdown",
   "metadata": {},
   "source": [
    "# канал (media_channel)"
   ]
  },
  {
   "cell_type": "code",
   "execution_count": 25,
   "metadata": {},
   "outputs": [
    {
     "data": {
      "text/html": [
       "<div>\n",
       "<style scoped>\n",
       "    .dataframe tbody tr th:only-of-type {\n",
       "        vertical-align: middle;\n",
       "    }\n",
       "\n",
       "    .dataframe tbody tr th {\n",
       "        vertical-align: top;\n",
       "    }\n",
       "\n",
       "    .dataframe thead th {\n",
       "        text-align: right;\n",
       "    }\n",
       "</style>\n",
       "<table border=\"1\" class=\"dataframe\">\n",
       "  <thead>\n",
       "    <tr style=\"text-align: right;\">\n",
       "      <th></th>\n",
       "      <th>media_channel</th>\n",
       "      <th>unq_installs</th>\n",
       "      <th>cost</th>\n",
       "      <th>cost_per_user</th>\n",
       "      <th>sum_prof</th>\n",
       "      <th>prof_per_user</th>\n",
       "      <th>roi %</th>\n",
       "    </tr>\n",
       "  </thead>\n",
       "  <tbody>\n",
       "    <tr>\n",
       "      <th>0</th>\n",
       "      <td>Apple Search Ads</td>\n",
       "      <td>123</td>\n",
       "      <td>327633.0</td>\n",
       "      <td>2663.68</td>\n",
       "      <td>14467.94</td>\n",
       "      <td>117.63</td>\n",
       "      <td>-95.58</td>\n",
       "    </tr>\n",
       "    <tr>\n",
       "      <th>1</th>\n",
       "      <td>Facebook Ads</td>\n",
       "      <td>496</td>\n",
       "      <td>1035728.0</td>\n",
       "      <td>2088.16</td>\n",
       "      <td>76979.62</td>\n",
       "      <td>155.20</td>\n",
       "      <td>-92.57</td>\n",
       "    </tr>\n",
       "    <tr>\n",
       "      <th>2</th>\n",
       "      <td>moloco_int</td>\n",
       "      <td>94</td>\n",
       "      <td>95042.0</td>\n",
       "      <td>1011.09</td>\n",
       "      <td>111.81</td>\n",
       "      <td>1.19</td>\n",
       "      <td>-99.88</td>\n",
       "    </tr>\n",
       "  </tbody>\n",
       "</table>\n",
       "</div>"
      ],
      "text/plain": [
       "      media_channel  unq_installs       cost  cost_per_user  sum_prof  \\\n",
       "0  Apple Search Ads           123   327633.0        2663.68  14467.94   \n",
       "1      Facebook Ads           496  1035728.0        2088.16  76979.62   \n",
       "2        moloco_int            94    95042.0        1011.09    111.81   \n",
       "\n",
       "   prof_per_user  roi %  \n",
       "0         117.63 -95.58  \n",
       "1         155.20 -92.57  \n",
       "2           1.19 -99.88  "
      ]
     },
     "execution_count": 25,
     "metadata": {},
     "output_type": "execute_result"
    }
   ],
   "source": [
    "#media channel\n",
    "\n",
    "predf =  gimmistats(df, costs, 'media_channel')\n",
    "pd.DataFrame(list(predf), columns=['media_channel','unq_installs', 'cost', 'cost_per_user', 'sum_prof', 'prof_per_user', 'roi %'])"
   ]
  },
  {
   "attachments": {},
   "cell_type": "markdown",
   "metadata": {},
   "source": [
    "# Ответ"
   ]
  },
  {
   "attachments": {},
   "cell_type": "markdown",
   "metadata": {},
   "source": [
    "Самым эффективным каналом привлечения выберу Facebook Ads с меньшей стоимостью за одного пользователя, большей прибылью с пользователя и большим roi"
   ]
  },
  {
   "attachments": {},
   "cell_type": "markdown",
   "metadata": {},
   "source": [
    "# география (country_code)"
   ]
  },
  {
   "cell_type": "code",
   "execution_count": null,
   "metadata": {},
   "outputs": [],
   "source": [
    "#country code\n",
    "\n",
    "predf = gimmistats(df, costs, 'country_code')\n",
    "ccdf = pd.DataFrame(list(predf), columns=['country_code','unq_installs', 'cost', 'cost_per_user', 'sum_prof', 'prof_per_user', 'roi %'])"
   ]
  },
  {
   "cell_type": "code",
   "execution_count": 27,
   "metadata": {},
   "outputs": [
    {
     "data": {
      "text/html": [
       "<div>\n",
       "<style scoped>\n",
       "    .dataframe tbody tr th:only-of-type {\n",
       "        vertical-align: middle;\n",
       "    }\n",
       "\n",
       "    .dataframe tbody tr th {\n",
       "        vertical-align: top;\n",
       "    }\n",
       "\n",
       "    .dataframe thead th {\n",
       "        text-align: right;\n",
       "    }\n",
       "</style>\n",
       "<table border=\"1\" class=\"dataframe\">\n",
       "  <thead>\n",
       "    <tr style=\"text-align: right;\">\n",
       "      <th></th>\n",
       "      <th>country_code</th>\n",
       "      <th>unq_installs</th>\n",
       "      <th>cost</th>\n",
       "      <th>cost_per_user</th>\n",
       "      <th>sum_prof</th>\n",
       "      <th>prof_per_user</th>\n",
       "      <th>roi %</th>\n",
       "    </tr>\n",
       "  </thead>\n",
       "  <tbody>\n",
       "    <tr>\n",
       "      <th>33</th>\n",
       "      <td>IR</td>\n",
       "      <td>4</td>\n",
       "      <td>0.0</td>\n",
       "      <td>0.00</td>\n",
       "      <td>0.00</td>\n",
       "      <td>0.00</td>\n",
       "      <td>inf</td>\n",
       "    </tr>\n",
       "    <tr>\n",
       "      <th>58</th>\n",
       "      <td>RS</td>\n",
       "      <td>4</td>\n",
       "      <td>553.0</td>\n",
       "      <td>138.25</td>\n",
       "      <td>79.90</td>\n",
       "      <td>19.98</td>\n",
       "      <td>-85.55</td>\n",
       "    </tr>\n",
       "    <tr>\n",
       "      <th>17</th>\n",
       "      <td>DK</td>\n",
       "      <td>32</td>\n",
       "      <td>84576.0</td>\n",
       "      <td>2643.00</td>\n",
       "      <td>11781.33</td>\n",
       "      <td>368.17</td>\n",
       "      <td>-86.07</td>\n",
       "    </tr>\n",
       "    <tr>\n",
       "      <th>66</th>\n",
       "      <td>US</td>\n",
       "      <td>272</td>\n",
       "      <td>822360.0</td>\n",
       "      <td>3023.38</td>\n",
       "      <td>76722.48</td>\n",
       "      <td>282.07</td>\n",
       "      <td>-90.67</td>\n",
       "    </tr>\n",
       "    <tr>\n",
       "      <th>12</th>\n",
       "      <td>CO</td>\n",
       "      <td>1</td>\n",
       "      <td>668.0</td>\n",
       "      <td>668.00</td>\n",
       "      <td>45.30</td>\n",
       "      <td>45.30</td>\n",
       "      <td>-93.22</td>\n",
       "    </tr>\n",
       "  </tbody>\n",
       "</table>\n",
       "</div>"
      ],
      "text/plain": [
       "   country_code  unq_installs      cost  cost_per_user  sum_prof  \\\n",
       "33           IR             4       0.0           0.00      0.00   \n",
       "58           RS             4     553.0         138.25     79.90   \n",
       "17           DK            32   84576.0        2643.00  11781.33   \n",
       "66           US           272  822360.0        3023.38  76722.48   \n",
       "12           CO             1     668.0         668.00     45.30   \n",
       "\n",
       "    prof_per_user  roi %  \n",
       "33           0.00    inf  \n",
       "58          19.98 -85.55  \n",
       "17         368.17 -86.07  \n",
       "66         282.07 -90.67  \n",
       "12          45.30 -93.22  "
      ]
     },
     "execution_count": 27,
     "metadata": {},
     "output_type": "execute_result"
    }
   ],
   "source": [
    "ccdf.sort_values(by=['roi %','unq_installs', 'prof_per_user'], ascending=False).head(5)"
   ]
  },
  {
   "cell_type": "code",
   "execution_count": 28,
   "metadata": {},
   "outputs": [
    {
     "data": {
      "text/html": [
       "<div>\n",
       "<style scoped>\n",
       "    .dataframe tbody tr th:only-of-type {\n",
       "        vertical-align: middle;\n",
       "    }\n",
       "\n",
       "    .dataframe tbody tr th {\n",
       "        vertical-align: top;\n",
       "    }\n",
       "\n",
       "    .dataframe thead th {\n",
       "        text-align: right;\n",
       "    }\n",
       "</style>\n",
       "<table border=\"1\" class=\"dataframe\">\n",
       "  <thead>\n",
       "    <tr style=\"text-align: right;\">\n",
       "      <th></th>\n",
       "      <th>country_code</th>\n",
       "      <th>unq_installs</th>\n",
       "      <th>cost</th>\n",
       "      <th>cost_per_user</th>\n",
       "      <th>sum_prof</th>\n",
       "      <th>prof_per_user</th>\n",
       "      <th>roi %</th>\n",
       "    </tr>\n",
       "  </thead>\n",
       "  <tbody>\n",
       "    <tr>\n",
       "      <th>17</th>\n",
       "      <td>DK</td>\n",
       "      <td>32.0</td>\n",
       "      <td>84576.0</td>\n",
       "      <td>2643.00</td>\n",
       "      <td>11781.33</td>\n",
       "      <td>368.17</td>\n",
       "      <td>-86.07</td>\n",
       "    </tr>\n",
       "    <tr>\n",
       "      <th>66</th>\n",
       "      <td>US</td>\n",
       "      <td>272.0</td>\n",
       "      <td>822360.0</td>\n",
       "      <td>3023.38</td>\n",
       "      <td>76722.48</td>\n",
       "      <td>282.07</td>\n",
       "      <td>-90.67</td>\n",
       "    </tr>\n",
       "    <tr>\n",
       "      <th>61</th>\n",
       "      <td>TH</td>\n",
       "      <td>55.0</td>\n",
       "      <td>161263.0</td>\n",
       "      <td>2932.05</td>\n",
       "      <td>2527.40</td>\n",
       "      <td>45.95</td>\n",
       "      <td>-98.43</td>\n",
       "    </tr>\n",
       "    <tr>\n",
       "      <th>25</th>\n",
       "      <td>GR</td>\n",
       "      <td>6.0</td>\n",
       "      <td>2113.0</td>\n",
       "      <td>352.17</td>\n",
       "      <td>19.29</td>\n",
       "      <td>3.22</td>\n",
       "      <td>-99.09</td>\n",
       "    </tr>\n",
       "    <tr>\n",
       "      <th>69</th>\n",
       "      <td>ZA</td>\n",
       "      <td>8.0</td>\n",
       "      <td>5301.0</td>\n",
       "      <td>662.62</td>\n",
       "      <td>33.04</td>\n",
       "      <td>4.13</td>\n",
       "      <td>-99.38</td>\n",
       "    </tr>\n",
       "    <tr>\n",
       "      <th>65</th>\n",
       "      <td>UK</td>\n",
       "      <td>6.0</td>\n",
       "      <td>10749.0</td>\n",
       "      <td>1791.50</td>\n",
       "      <td>28.07</td>\n",
       "      <td>4.68</td>\n",
       "      <td>-99.74</td>\n",
       "    </tr>\n",
       "    <tr>\n",
       "      <th>11</th>\n",
       "      <td>CL</td>\n",
       "      <td>9.0</td>\n",
       "      <td>16877.0</td>\n",
       "      <td>1875.22</td>\n",
       "      <td>22.56</td>\n",
       "      <td>2.51</td>\n",
       "      <td>-99.87</td>\n",
       "    </tr>\n",
       "    <tr>\n",
       "      <th>15</th>\n",
       "      <td>CZ</td>\n",
       "      <td>6.0</td>\n",
       "      <td>2311.0</td>\n",
       "      <td>385.17</td>\n",
       "      <td>2.92</td>\n",
       "      <td>0.49</td>\n",
       "      <td>-99.87</td>\n",
       "    </tr>\n",
       "    <tr>\n",
       "      <th>59</th>\n",
       "      <td>RU</td>\n",
       "      <td>94.0</td>\n",
       "      <td>96061.0</td>\n",
       "      <td>1021.93</td>\n",
       "      <td>115.15</td>\n",
       "      <td>1.23</td>\n",
       "      <td>-99.88</td>\n",
       "    </tr>\n",
       "    <tr>\n",
       "      <th>16</th>\n",
       "      <td>DE</td>\n",
       "      <td>7.0</td>\n",
       "      <td>14280.0</td>\n",
       "      <td>2040.00</td>\n",
       "      <td>12.37</td>\n",
       "      <td>1.77</td>\n",
       "      <td>-99.91</td>\n",
       "    </tr>\n",
       "    <tr>\n",
       "      <th>52</th>\n",
       "      <td>PH</td>\n",
       "      <td>34.0</td>\n",
       "      <td>44776.0</td>\n",
       "      <td>1316.94</td>\n",
       "      <td>34.20</td>\n",
       "      <td>1.01</td>\n",
       "      <td>-99.92</td>\n",
       "    </tr>\n",
       "    <tr>\n",
       "      <th>31</th>\n",
       "      <td>IN</td>\n",
       "      <td>28.0</td>\n",
       "      <td>826.0</td>\n",
       "      <td>29.50</td>\n",
       "      <td>0.00</td>\n",
       "      <td>0.00</td>\n",
       "      <td>-100.00</td>\n",
       "    </tr>\n",
       "    <tr>\n",
       "      <th>7</th>\n",
       "      <td>BR</td>\n",
       "      <td>21.0</td>\n",
       "      <td>7545.0</td>\n",
       "      <td>359.29</td>\n",
       "      <td>0.00</td>\n",
       "      <td>0.00</td>\n",
       "      <td>-100.00</td>\n",
       "    </tr>\n",
       "    <tr>\n",
       "      <th>32</th>\n",
       "      <td>IQ</td>\n",
       "      <td>13.0</td>\n",
       "      <td>436.0</td>\n",
       "      <td>33.54</td>\n",
       "      <td>0.00</td>\n",
       "      <td>0.00</td>\n",
       "      <td>-100.00</td>\n",
       "    </tr>\n",
       "    <tr>\n",
       "      <th>24</th>\n",
       "      <td>FR</td>\n",
       "      <td>7.0</td>\n",
       "      <td>10018.0</td>\n",
       "      <td>1431.14</td>\n",
       "      <td>0.00</td>\n",
       "      <td>0.00</td>\n",
       "      <td>-100.00</td>\n",
       "    </tr>\n",
       "    <tr>\n",
       "      <th>21</th>\n",
       "      <td>EG</td>\n",
       "      <td>6.0</td>\n",
       "      <td>301.0</td>\n",
       "      <td>50.17</td>\n",
       "      <td>0.00</td>\n",
       "      <td>0.00</td>\n",
       "      <td>-100.00</td>\n",
       "    </tr>\n",
       "    <tr>\n",
       "      <th>22</th>\n",
       "      <td>ES</td>\n",
       "      <td>6.0</td>\n",
       "      <td>5842.0</td>\n",
       "      <td>973.67</td>\n",
       "      <td>0.00</td>\n",
       "      <td>0.00</td>\n",
       "      <td>-100.00</td>\n",
       "    </tr>\n",
       "  </tbody>\n",
       "</table>\n",
       "</div>"
      ],
      "text/plain": [
       "   country_code  unq_installs      cost  cost_per_user  sum_prof  \\\n",
       "17           DK          32.0   84576.0        2643.00  11781.33   \n",
       "66           US         272.0  822360.0        3023.38  76722.48   \n",
       "61           TH          55.0  161263.0        2932.05   2527.40   \n",
       "25           GR           6.0    2113.0         352.17     19.29   \n",
       "69           ZA           8.0    5301.0         662.62     33.04   \n",
       "65           UK           6.0   10749.0        1791.50     28.07   \n",
       "11           CL           9.0   16877.0        1875.22     22.56   \n",
       "15           CZ           6.0    2311.0         385.17      2.92   \n",
       "59           RU          94.0   96061.0        1021.93    115.15   \n",
       "16           DE           7.0   14280.0        2040.00     12.37   \n",
       "52           PH          34.0   44776.0        1316.94     34.20   \n",
       "31           IN          28.0     826.0          29.50      0.00   \n",
       "7            BR          21.0    7545.0         359.29      0.00   \n",
       "32           IQ          13.0     436.0          33.54      0.00   \n",
       "24           FR           7.0   10018.0        1431.14      0.00   \n",
       "21           EG           6.0     301.0          50.17      0.00   \n",
       "22           ES           6.0    5842.0         973.67      0.00   \n",
       "\n",
       "    prof_per_user   roi %  \n",
       "17         368.17  -86.07  \n",
       "66         282.07  -90.67  \n",
       "61          45.95  -98.43  \n",
       "25           3.22  -99.09  \n",
       "69           4.13  -99.38  \n",
       "65           4.68  -99.74  \n",
       "11           2.51  -99.87  \n",
       "15           0.49  -99.87  \n",
       "59           1.23  -99.88  \n",
       "16           1.77  -99.91  \n",
       "52           1.01  -99.92  \n",
       "31           0.00 -100.00  \n",
       "7            0.00 -100.00  \n",
       "32           0.00 -100.00  \n",
       "24           0.00 -100.00  \n",
       "21           0.00 -100.00  \n",
       "22           0.00 -100.00  "
      ]
     },
     "execution_count": 28,
     "metadata": {},
     "output_type": "execute_result"
    }
   ],
   "source": [
    "ccdf.sort_values(by=['roi %','unq_installs', 'prof_per_user'], ascending=False).where(ccdf['unq_installs'] > 5).dropna() #по 4 человека из RS и IR молодцы, но этого слишком мало для оценки"
   ]
  },
  {
   "attachments": {},
   "cell_type": "markdown",
   "metadata": {},
   "source": [
    "Явно топ 2 в географии будут DK и US, но выбрать лучшего сложно <br/>\n",
    "Стоит смотреть что-то еще"
   ]
  },
  {
   "cell_type": "code",
   "execution_count": 65,
   "metadata": {},
   "outputs": [],
   "source": [
    "us_dk_df = df.loc[ df['country_code'].isin(['US', 'DK'])]"
   ]
  },
  {
   "cell_type": "code",
   "execution_count": 71,
   "metadata": {},
   "outputs": [
    {
     "data": {
      "text/plain": [
       "<AxesSubplot:xlabel='country_code', ylabel='net_event_revenue_usd'>"
      ]
     },
     "execution_count": 71,
     "metadata": {},
     "output_type": "execute_result"
    },
    {
     "data": {
      "image/png": "[encoded data removed]",
      "text/plain": [
       "<Figure size 864x576 with 1 Axes>"
      ]
     },
     "metadata": {},
     "output_type": "display_data"
    }
   ],
   "source": [
    "sns.boxplot(data=us_dk_df, x='country_code', y='net_event_revenue_usd')"
   ]
  },
  {
   "cell_type": "code",
   "execution_count": 72,
   "metadata": {},
   "outputs": [
    {
     "data": {
      "text/plain": [
       "<AxesSubplot:xlabel='net_event_revenue_usd', ylabel='Count'>"
      ]
     },
     "execution_count": 72,
     "metadata": {},
     "output_type": "execute_result"
    },
    {
     "data": {
      "image/png": "[encoded data removed]",
      "text/plain": [
       "<Figure size 864x576 with 1 Axes>"
      ]
     },
     "metadata": {},
     "output_type": "display_data"
    }
   ],
   "source": [
    "sns.histplot(data=us_dk_df, x='net_event_revenue_usd', hue='country_code')"
   ]
  },
  {
   "cell_type": "code",
   "execution_count": 220,
   "metadata": {},
   "outputs": [],
   "source": [
    "dk_users = []\n",
    "for user in us_dk_df.where(us_dk_df['event_name'] == 'purchase').where(us_dk_df['country_code'] == 'DK').dropna().customer_user_id.unique():\n",
    "    dk_users.append([\n",
    "            user, \n",
    "            round(us_dk_df.where(us_dk_df['event_name'] == 'purchase').where(us_dk_df['customer_user_id'] == user).dropna().net_event_revenue_usd.sum(), 2), #сумма на пользователя\n",
    "            len(us_dk_df.where(us_dk_df['event_name'] == 'purchase').where(us_dk_df['customer_user_id'] == user).dropna()), #количество операций\n",
    "            us_dk_df.where(us_dk_df['event_name'] == 'purchase').where(us_dk_df['customer_user_id'] == user).dropna().net_event_revenue_usd.max() #наибольшая разовая покупка (прибыль)\n",
    "        ])\n",
    "\n",
    "dk_users = pd.DataFrame(dk_users, columns=[['user', 'profit','n_transactions', 'max_transaction']])\n",
    "\n",
    "dk_users.columns = dk_users.columns.get_level_values(0) #при попытке сортировки жаловался на мультииндекс, это решает проблему"
   ]
  },
  {
   "cell_type": "code",
   "execution_count": 221,
   "metadata": {},
   "outputs": [
    {
     "data": {
      "text/html": [
       "<div>\n",
       "<style scoped>\n",
       "    .dataframe tbody tr th:only-of-type {\n",
       "        vertical-align: middle;\n",
       "    }\n",
       "\n",
       "    .dataframe tbody tr th {\n",
       "        vertical-align: top;\n",
       "    }\n",
       "\n",
       "    .dataframe thead th {\n",
       "        text-align: right;\n",
       "    }\n",
       "</style>\n",
       "<table border=\"1\" class=\"dataframe\">\n",
       "  <thead>\n",
       "    <tr style=\"text-align: right;\">\n",
       "      <th></th>\n",
       "      <th>user</th>\n",
       "      <th>profit</th>\n",
       "      <th>n_transactions</th>\n",
       "      <th>max_transaction</th>\n",
       "    </tr>\n",
       "  </thead>\n",
       "  <tbody>\n",
       "    <tr>\n",
       "      <th>6</th>\n",
       "      <td>user_718</td>\n",
       "      <td>11704.22</td>\n",
       "      <td>1334</td>\n",
       "      <td>75.6298</td>\n",
       "    </tr>\n",
       "    <tr>\n",
       "      <th>4</th>\n",
       "      <td>user_55</td>\n",
       "      <td>34.68</td>\n",
       "      <td>9</td>\n",
       "      <td>11.4152</td>\n",
       "    </tr>\n",
       "    <tr>\n",
       "      <th>2</th>\n",
       "      <td>user_48</td>\n",
       "      <td>33.19</td>\n",
       "      <td>11</td>\n",
       "      <td>3.7435</td>\n",
       "    </tr>\n",
       "    <tr>\n",
       "      <th>1</th>\n",
       "      <td>user_35</td>\n",
       "      <td>5.54</td>\n",
       "      <td>2</td>\n",
       "      <td>4.0206</td>\n",
       "    </tr>\n",
       "    <tr>\n",
       "      <th>5</th>\n",
       "      <td>user_72</td>\n",
       "      <td>1.46</td>\n",
       "      <td>1</td>\n",
       "      <td>1.4649</td>\n",
       "    </tr>\n",
       "    <tr>\n",
       "      <th>0</th>\n",
       "      <td>user_29</td>\n",
       "      <td>1.45</td>\n",
       "      <td>2</td>\n",
       "      <td>0.7264</td>\n",
       "    </tr>\n",
       "    <tr>\n",
       "      <th>3</th>\n",
       "      <td>user_54</td>\n",
       "      <td>0.79</td>\n",
       "      <td>1</td>\n",
       "      <td>0.7865</td>\n",
       "    </tr>\n",
       "  </tbody>\n",
       "</table>\n",
       "</div>"
      ],
      "text/plain": [
       "       user    profit  n_transactions  max_transaction\n",
       "6  user_718  11704.22            1334          75.6298\n",
       "4   user_55     34.68               9          11.4152\n",
       "2   user_48     33.19              11           3.7435\n",
       "1   user_35      5.54               2           4.0206\n",
       "5   user_72      1.46               1           1.4649\n",
       "0   user_29      1.45               2           0.7264\n",
       "3   user_54      0.79               1           0.7865"
      ]
     },
     "execution_count": 221,
     "metadata": {},
     "output_type": "execute_result"
    }
   ],
   "source": [
    "dk_users.sort_values(by=['profit'], ascending=False)"
   ]
  },
  {
   "cell_type": "code",
   "execution_count": 112,
   "metadata": {},
   "outputs": [
    {
     "data": {
      "text/plain": [
       "0.9934640522875817"
      ]
     },
     "execution_count": 112,
     "metadata": {},
     "output_type": "execute_result"
    }
   ],
   "source": [
    "11704/11781"
   ]
  },
  {
   "attachments": {},
   "cell_type": "markdown",
   "metadata": {},
   "source": [
    "Практически всю прибыль (99.35%) среди игроков Дании принес один т.н. Кит <br/>\n",
    "Я бы предпочел назвать это большим везением, и, возможно, такие выбросы - не то,  <br/>\n",
    "на что стоит ориентироваться"
   ]
  },
  {
   "cell_type": "code",
   "execution_count": 225,
   "metadata": {},
   "outputs": [],
   "source": [
    "#тоже самое для us пользователей\n",
    "\n",
    "us_users = []\n",
    "for user in us_dk_df.where(us_dk_df['event_name'] == 'purchase').where(us_dk_df['country_code'] == 'US').dropna().customer_user_id.unique():\n",
    "    us_users.append([\n",
    "            user, \n",
    "            us_dk_df.where(us_dk_df['event_name'] == 'purchase').where(us_dk_df['customer_user_id'] == user).dropna().net_event_revenue_usd.sum(),\n",
    "            len(us_dk_df.where(us_dk_df['event_name'] == 'purchase').where(us_dk_df['customer_user_id'] == user).dropna()),\n",
    "            us_dk_df.where(us_dk_df['event_name'] == 'purchase').where(us_dk_df['customer_user_id'] == user).dropna().net_event_revenue_usd.max() \n",
    "        ])\n",
    "\n",
    "us_users = pd.DataFrame(us_users, columns=[['user', 'profit','n_transactions', 'max_transaction']])\n",
    "\n",
    "us_users.columns = us_users.columns.get_level_values(0)"
   ]
  },
  {
   "cell_type": "code",
   "execution_count": 228,
   "metadata": {},
   "outputs": [
    {
     "data": {
      "text/html": [
       "<div>\n",
       "<style scoped>\n",
       "    .dataframe tbody tr th:only-of-type {\n",
       "        vertical-align: middle;\n",
       "    }\n",
       "\n",
       "    .dataframe tbody tr th {\n",
       "        vertical-align: top;\n",
       "    }\n",
       "\n",
       "    .dataframe thead th {\n",
       "        text-align: right;\n",
       "    }\n",
       "</style>\n",
       "<table border=\"1\" class=\"dataframe\">\n",
       "  <thead>\n",
       "    <tr style=\"text-align: right;\">\n",
       "      <th></th>\n",
       "      <th>user</th>\n",
       "      <th>profit</th>\n",
       "      <th>n_transactions</th>\n",
       "      <th>max_transaction</th>\n",
       "    </tr>\n",
       "  </thead>\n",
       "  <tbody>\n",
       "    <tr>\n",
       "      <th>2</th>\n",
       "      <td>user_3</td>\n",
       "      <td>46173.449</td>\n",
       "      <td>3293</td>\n",
       "      <td>69.993</td>\n",
       "    </tr>\n",
       "    <tr>\n",
       "      <th>45</th>\n",
       "      <td>user_725</td>\n",
       "      <td>25214.700</td>\n",
       "      <td>1271</td>\n",
       "      <td>70.000</td>\n",
       "    </tr>\n",
       "    <tr>\n",
       "      <th>24</th>\n",
       "      <td>user_56</td>\n",
       "      <td>1577.100</td>\n",
       "      <td>283</td>\n",
       "      <td>56.000</td>\n",
       "    </tr>\n",
       "    <tr>\n",
       "      <th>43</th>\n",
       "      <td>user_719</td>\n",
       "      <td>924.000</td>\n",
       "      <td>184</td>\n",
       "      <td>49.000</td>\n",
       "    </tr>\n",
       "    <tr>\n",
       "      <th>23</th>\n",
       "      <td>user_13</td>\n",
       "      <td>892.500</td>\n",
       "      <td>24</td>\n",
       "      <td>70.000</td>\n",
       "    </tr>\n",
       "    <tr>\n",
       "      <th>19</th>\n",
       "      <td>user_41</td>\n",
       "      <td>620.200</td>\n",
       "      <td>114</td>\n",
       "      <td>17.500</td>\n",
       "    </tr>\n",
       "    <tr>\n",
       "      <th>6</th>\n",
       "      <td>user_7</td>\n",
       "      <td>335.664</td>\n",
       "      <td>48</td>\n",
       "      <td>34.993</td>\n",
       "    </tr>\n",
       "    <tr>\n",
       "      <th>17</th>\n",
       "      <td>user_37</td>\n",
       "      <td>260.400</td>\n",
       "      <td>21</td>\n",
       "      <td>70.000</td>\n",
       "    </tr>\n",
       "    <tr>\n",
       "      <th>7</th>\n",
       "      <td>user_8</td>\n",
       "      <td>153.104</td>\n",
       "      <td>28</td>\n",
       "      <td>17.493</td>\n",
       "    </tr>\n",
       "    <tr>\n",
       "      <th>21</th>\n",
       "      <td>user_45</td>\n",
       "      <td>64.400</td>\n",
       "      <td>11</td>\n",
       "      <td>14.000</td>\n",
       "    </tr>\n",
       "    <tr>\n",
       "      <th>0</th>\n",
       "      <td>user_1</td>\n",
       "      <td>57.309</td>\n",
       "      <td>13</td>\n",
       "      <td>17.493</td>\n",
       "    </tr>\n",
       "    <tr>\n",
       "      <th>33</th>\n",
       "      <td>user_78</td>\n",
       "      <td>51.744</td>\n",
       "      <td>8</td>\n",
       "      <td>10.493</td>\n",
       "    </tr>\n",
       "    <tr>\n",
       "      <th>4</th>\n",
       "      <td>user_5</td>\n",
       "      <td>50.260</td>\n",
       "      <td>20</td>\n",
       "      <td>10.493</td>\n",
       "    </tr>\n",
       "    <tr>\n",
       "      <th>10</th>\n",
       "      <td>user_12</td>\n",
       "      <td>37.765</td>\n",
       "      <td>5</td>\n",
       "      <td>17.493</td>\n",
       "    </tr>\n",
       "    <tr>\n",
       "      <th>44</th>\n",
       "      <td>user_724</td>\n",
       "      <td>35.700</td>\n",
       "      <td>3</td>\n",
       "      <td>17.500</td>\n",
       "    </tr>\n",
       "    <tr>\n",
       "      <th>32</th>\n",
       "      <td>user_74</td>\n",
       "      <td>35.000</td>\n",
       "      <td>8</td>\n",
       "      <td>7.000</td>\n",
       "    </tr>\n",
       "    <tr>\n",
       "      <th>1</th>\n",
       "      <td>user_2</td>\n",
       "      <td>32.172</td>\n",
       "      <td>4</td>\n",
       "      <td>13.993</td>\n",
       "    </tr>\n",
       "    <tr>\n",
       "      <th>13</th>\n",
       "      <td>user_23</td>\n",
       "      <td>24.500</td>\n",
       "      <td>6</td>\n",
       "      <td>7.000</td>\n",
       "    </tr>\n",
       "    <tr>\n",
       "      <th>20</th>\n",
       "      <td>user_44</td>\n",
       "      <td>24.500</td>\n",
       "      <td>3</td>\n",
       "      <td>14.000</td>\n",
       "    </tr>\n",
       "    <tr>\n",
       "      <th>40</th>\n",
       "      <td>user_96</td>\n",
       "      <td>18.179</td>\n",
       "      <td>3</td>\n",
       "      <td>10.493</td>\n",
       "    </tr>\n",
       "  </tbody>\n",
       "</table>\n",
       "</div>"
      ],
      "text/plain": [
       "        user     profit  n_transactions  max_transaction\n",
       "2     user_3  46173.449            3293           69.993\n",
       "45  user_725  25214.700            1271           70.000\n",
       "24   user_56   1577.100             283           56.000\n",
       "43  user_719    924.000             184           49.000\n",
       "23   user_13    892.500              24           70.000\n",
       "19   user_41    620.200             114           17.500\n",
       "6     user_7    335.664              48           34.993\n",
       "17   user_37    260.400              21           70.000\n",
       "7     user_8    153.104              28           17.493\n",
       "21   user_45     64.400              11           14.000\n",
       "0     user_1     57.309              13           17.493\n",
       "33   user_78     51.744               8           10.493\n",
       "4     user_5     50.260              20           10.493\n",
       "10   user_12     37.765               5           17.493\n",
       "44  user_724     35.700               3           17.500\n",
       "32   user_74     35.000               8            7.000\n",
       "1     user_2     32.172               4           13.993\n",
       "13   user_23     24.500               6            7.000\n",
       "20   user_44     24.500               3           14.000\n",
       "40   user_96     18.179               3           10.493"
      ]
     },
     "execution_count": 228,
     "metadata": {},
     "output_type": "execute_result"
    }
   ],
   "source": [
    "us_users.sort_values(by=['profit'], ascending=False).head(20)"
   ]
  },
  {
   "cell_type": "code",
   "execution_count": 236,
   "metadata": {},
   "outputs": [
    {
     "data": {
      "text/plain": [
       "0.9747106305883579"
      ]
     },
     "execution_count": 236,
     "metadata": {},
     "output_type": "execute_result"
    }
   ],
   "source": [
    "us_users.sort_values(by=['profit'], ascending=False).profit[:5].sum() / 76722 #топ 5 игроков по прибыли / прибыль на регион"
   ]
  },
  {
   "cell_type": "code",
   "execution_count": 239,
   "metadata": {},
   "outputs": [
    {
     "data": {
      "text/plain": [
       "0.9933984645864288"
      ]
     },
     "execution_count": 239,
     "metadata": {},
     "output_type": "execute_result"
    }
   ],
   "source": [
    "us_users.sort_values(by=['profit'], ascending=False).profit[:10].sum() / 76722 #топ 10 игроков по прибыли / прибыль на регион"
   ]
  },
  {
   "attachments": {},
   "cell_type": "markdown",
   "metadata": {},
   "source": [
    "US - 5 игроков из 272 принесли 97.5% прибыли, а 10 уже 99.34% <br/>\n",
    "В Дании 1 из 32, который принес 99.34%"
   ]
  },
  {
   "attachments": {},
   "cell_type": "markdown",
   "metadata": {},
   "source": [
    "*"
   ]
  },
  {
   "attachments": {},
   "cell_type": "markdown",
   "metadata": {},
   "source": [
    "Можно попробовать убрать китов из выборки и посмотреть <br/>\n",
    "Но тогда от DK ничего толком не остается :)"
   ]
  },
  {
   "cell_type": "code",
   "execution_count": 266,
   "metadata": {},
   "outputs": [],
   "source": [
    "no_whale_dk_users = dk_users.where(dk_users.profit < 100).dropna() #тут я за китов принял игроков, которые принесли > $100\n",
    "no_whale_dk_users['country'] = 'DK'\n",
    "\n",
    "no_whale_us_users = us_users.where(us_users.profit < 100).dropna()\n",
    "no_whale_us_users['country'] = 'US'\n",
    "\n",
    "data = pd.concat([no_whale_dk_users, no_whale_us_users]) #объедили в df чтобы визуализировать"
   ]
  },
  {
   "cell_type": "code",
   "execution_count": 267,
   "metadata": {},
   "outputs": [
    {
     "data": {
      "text/plain": [
       "<AxesSubplot:xlabel='profit', ylabel='n_transactions'>"
      ]
     },
     "execution_count": 267,
     "metadata": {},
     "output_type": "execute_result"
    },
    {
     "data": {
      "image/png": "[encoded data removed]",
      "text/plain": [
       "<Figure size 864x576 with 1 Axes>"
      ]
     },
     "metadata": {},
     "output_type": "display_data"
    }
   ],
   "source": [
    "sns.scatterplot(data=data, x='profit', y='n_transactions', hue='country')"
   ]
  },
  {
   "attachments": {},
   "cell_type": "markdown",
   "metadata": {},
   "source": [
    "# Ответ"
   ]
  },
  {
   "attachments": {},
   "cell_type": "markdown",
   "metadata": {},
   "source": [
    "По итогам удаления китов из выборки отдам предпочтение US, потому как от DK ничего толком и не осталось :)"
   ]
  },
  {
   "attachments": {},
   "cell_type": "markdown",
   "metadata": {},
   "source": [
    "*"
   ]
  },
  {
   "attachments": {},
   "cell_type": "markdown",
   "metadata": {},
   "source": [
    "Может быть есть смысл посмотреть на TH?"
   ]
  },
  {
   "cell_type": "code",
   "execution_count": 33,
   "metadata": {},
   "outputs": [
    {
     "data": {
      "text/html": [
       "<div>\n",
       "<style scoped>\n",
       "    .dataframe tbody tr th:only-of-type {\n",
       "        vertical-align: middle;\n",
       "    }\n",
       "\n",
       "    .dataframe tbody tr th {\n",
       "        vertical-align: top;\n",
       "    }\n",
       "\n",
       "    .dataframe thead tr th {\n",
       "        text-align: left;\n",
       "    }\n",
       "</style>\n",
       "<table border=\"1\" class=\"dataframe\">\n",
       "  <thead>\n",
       "    <tr>\n",
       "      <th></th>\n",
       "      <th>user</th>\n",
       "      <th>profit</th>\n",
       "      <th>n_transactions</th>\n",
       "      <th>max_transaction</th>\n",
       "    </tr>\n",
       "  </thead>\n",
       "  <tbody>\n",
       "    <tr>\n",
       "      <th>0</th>\n",
       "      <td>user_46</td>\n",
       "      <td>3.20</td>\n",
       "      <td>1</td>\n",
       "      <td>3.1953</td>\n",
       "    </tr>\n",
       "    <tr>\n",
       "      <th>1</th>\n",
       "      <td>user_60</td>\n",
       "      <td>1.31</td>\n",
       "      <td>1</td>\n",
       "      <td>1.3138</td>\n",
       "    </tr>\n",
       "    <tr>\n",
       "      <th>2</th>\n",
       "      <td>user_714</td>\n",
       "      <td>10.24</td>\n",
       "      <td>3</td>\n",
       "      <td>3.4556</td>\n",
       "    </tr>\n",
       "    <tr>\n",
       "      <th>3</th>\n",
       "      <td>user_715</td>\n",
       "      <td>149.04</td>\n",
       "      <td>15</td>\n",
       "      <td>17.2676</td>\n",
       "    </tr>\n",
       "    <tr>\n",
       "      <th>4</th>\n",
       "      <td>user_716</td>\n",
       "      <td>2167.57</td>\n",
       "      <td>401</td>\n",
       "      <td>17.8872</td>\n",
       "    </tr>\n",
       "    <tr>\n",
       "      <th>5</th>\n",
       "      <td>user_717</td>\n",
       "      <td>13.19</td>\n",
       "      <td>3</td>\n",
       "      <td>6.3645</td>\n",
       "    </tr>\n",
       "    <tr>\n",
       "      <th>6</th>\n",
       "      <td>user_722</td>\n",
       "      <td>179.65</td>\n",
       "      <td>70</td>\n",
       "      <td>13.2235</td>\n",
       "    </tr>\n",
       "    <tr>\n",
       "      <th>7</th>\n",
       "      <td>user_727</td>\n",
       "      <td>3.21</td>\n",
       "      <td>1</td>\n",
       "      <td>3.2062</td>\n",
       "    </tr>\n",
       "  </tbody>\n",
       "</table>\n",
       "</div>"
      ],
      "text/plain": [
       "       user   profit n_transactions max_transaction\n",
       "0   user_46     3.20              1          3.1953\n",
       "1   user_60     1.31              1          1.3138\n",
       "2  user_714    10.24              3          3.4556\n",
       "3  user_715   149.04             15         17.2676\n",
       "4  user_716  2167.57            401         17.8872\n",
       "5  user_717    13.19              3          6.3645\n",
       "6  user_722   179.65             70         13.2235\n",
       "7  user_727     3.21              1          3.2062"
      ]
     },
     "execution_count": 33,
     "metadata": {},
     "output_type": "execute_result"
    }
   ],
   "source": [
    "thai = df.where(df['country_code'] == 'TH')\n",
    "\n",
    "th_users = []\n",
    "for user in thai.where(thai['event_name'] == 'purchase').dropna().customer_user_id.unique():\n",
    "    th_users.append([\n",
    "            user, \n",
    "            round(thai.where(thai['event_name'] == 'purchase').where(thai['customer_user_id'] == user).dropna().net_event_revenue_usd.sum(), 2), #сумма на пользователя\n",
    "            len(thai.where(thai['event_name'] == 'purchase').where(thai['customer_user_id'] == user).dropna()), #количество операций\n",
    "            thai.where(thai['event_name'] == 'purchase').where(thai['customer_user_id'] == user).dropna().net_event_revenue_usd.max() #наибольшая разовая покупка (прибыль)\n",
    "        ])\n",
    "\n",
    "th_users = pd.DataFrame(th_users, columns=[['user', 'profit','n_transactions', 'max_transaction']])\n",
    "\n",
    "th_users"
   ]
  },
  {
   "attachments": {},
   "cell_type": "markdown",
   "metadata": {},
   "source": [
    "Но кажется ситуация крайне схожа с DK"
   ]
  },
  {
   "attachments": {},
   "cell_type": "markdown",
   "metadata": {},
   "source": [
    "# платформа (platform)"
   ]
  },
  {
   "attachments": {},
   "cell_type": "markdown",
   "metadata": {},
   "source": [
    "Теперь хочется и здесь кроме просмотра по метрикам посмотреть еще и на китов"
   ]
  },
  {
   "cell_type": "code",
   "execution_count": 49,
   "metadata": {},
   "outputs": [],
   "source": [
    "for user in df.customer_user_id.unique():\n",
    "    if len(df.where(df['customer_user_id'] == user).platform.dropna().unique()) == 2:\n",
    "        print(user, ' - пользуется приложением на двух платформах')"
   ]
  },
  {
   "cell_type": "code",
   "execution_count": 69,
   "metadata": {},
   "outputs": [],
   "source": [
    "platform_data = []\n",
    "\n",
    "# for platform in df.platform.unique():\n",
    "for user in df.customer_user_id.unique():\n",
    "    platform_data.append([ \n",
    "            df.where(df['customer_user_id'] == user).platform.dropna().unique()[0],\n",
    "            user, \n",
    "            round(df.where(df['event_name'] == 'purchase').where(df['customer_user_id'] == user).dropna().net_event_revenue_usd.sum(), 2),\n",
    "            len(df.where(df['event_name'] == 'purchase').where(df['customer_user_id'] == user).dropna()),\n",
    "            round(df.where(df['event_name'] == 'purchase').where(df['customer_user_id'] == user).dropna().net_event_revenue_usd.sum(), 2) > 100     \n",
    "    ])\n",
    "\n",
    "platform_users = pd.DataFrame(platform_data, columns=[['platform', 'user', 'profit', 'n_transactions', 'is_whale']])\n",
    "platform_users.columns = platform_users.columns.get_level_values(0)"
   ]
  },
  {
   "cell_type": "code",
   "execution_count": 72,
   "metadata": {},
   "outputs": [
    {
     "data": {
      "text/plain": [
       "13"
      ]
     },
     "execution_count": 72,
     "metadata": {},
     "output_type": "execute_result"
    }
   ],
   "source": [
    "platform_users.is_whale.sum()"
   ]
  },
  {
   "cell_type": "code",
   "execution_count": 73,
   "metadata": {},
   "outputs": [
    {
     "name": "stdout",
     "output_type": "stream",
     "text": [
      "android 3\n",
      "ios 10\n"
     ]
    }
   ],
   "source": [
    "for platform in platform_users.platform.unique():\n",
    "    print(platform, platform_users.where(platform_users['platform'] == platform).is_whale.sum())"
   ]
  },
  {
   "cell_type": "code",
   "execution_count": 70,
   "metadata": {},
   "outputs": [
    {
     "data": {
      "text/html": [
       "<div>\n",
       "<style scoped>\n",
       "    .dataframe tbody tr th:only-of-type {\n",
       "        vertical-align: middle;\n",
       "    }\n",
       "\n",
       "    .dataframe tbody tr th {\n",
       "        vertical-align: top;\n",
       "    }\n",
       "\n",
       "    .dataframe thead th {\n",
       "        text-align: right;\n",
       "    }\n",
       "</style>\n",
       "<table border=\"1\" class=\"dataframe\">\n",
       "  <thead>\n",
       "    <tr style=\"text-align: right;\">\n",
       "      <th></th>\n",
       "      <th></th>\n",
       "      <th>n_transactions</th>\n",
       "      <th>profit</th>\n",
       "    </tr>\n",
       "    <tr>\n",
       "      <th>platform</th>\n",
       "      <th>is_whale</th>\n",
       "      <th></th>\n",
       "      <th></th>\n",
       "    </tr>\n",
       "  </thead>\n",
       "  <tbody>\n",
       "    <tr>\n",
       "      <th rowspan=\"2\" valign=\"top\">android</th>\n",
       "      <th>False</th>\n",
       "      <td>0.532353</td>\n",
       "      <td>1.617294</td>\n",
       "    </tr>\n",
       "    <tr>\n",
       "      <th>True</th>\n",
       "      <td>1123.000000</td>\n",
       "      <td>15554.070000</td>\n",
       "    </tr>\n",
       "    <tr>\n",
       "      <th rowspan=\"2\" valign=\"top\">ios</th>\n",
       "      <th>False</th>\n",
       "      <td>0.633952</td>\n",
       "      <td>1.745040</td>\n",
       "    </tr>\n",
       "    <tr>\n",
       "      <th>True</th>\n",
       "      <td>371.700000</td>\n",
       "      <td>4368.938000</td>\n",
       "    </tr>\n",
       "  </tbody>\n",
       "</table>\n",
       "</div>"
      ],
      "text/plain": [
       "                   n_transactions        profit\n",
       "platform is_whale                              \n",
       "android  False           0.532353      1.617294\n",
       "         True         1123.000000  15554.070000\n",
       "ios      False           0.633952      1.745040\n",
       "         True          371.700000   4368.938000"
      ]
     },
     "execution_count": 70,
     "metadata": {},
     "output_type": "execute_result"
    }
   ],
   "source": [
    "pd.pivot_table(platform_users,\n",
    "               index=['platform', 'is_whale'],\n",
    "               )"
   ]
  },
  {
   "cell_type": "code",
   "execution_count": 36,
   "metadata": {},
   "outputs": [
    {
     "data": {
      "text/html": [
       "<div>\n",
       "<style scoped>\n",
       "    .dataframe tbody tr th:only-of-type {\n",
       "        vertical-align: middle;\n",
       "    }\n",
       "\n",
       "    .dataframe tbody tr th {\n",
       "        vertical-align: top;\n",
       "    }\n",
       "\n",
       "    .dataframe thead th {\n",
       "        text-align: right;\n",
       "    }\n",
       "</style>\n",
       "<table border=\"1\" class=\"dataframe\">\n",
       "  <thead>\n",
       "    <tr style=\"text-align: right;\">\n",
       "      <th></th>\n",
       "      <th>platform</th>\n",
       "      <th>unq_installs</th>\n",
       "      <th>cost</th>\n",
       "      <th>cost_per_user</th>\n",
       "      <th>sum_prof</th>\n",
       "      <th>prof_per_user</th>\n",
       "      <th>roi %</th>\n",
       "    </tr>\n",
       "  </thead>\n",
       "  <tbody>\n",
       "    <tr>\n",
       "      <th>0</th>\n",
       "      <td>android</td>\n",
       "      <td>340</td>\n",
       "      <td>523770.0</td>\n",
       "      <td>1540.50</td>\n",
       "      <td>47212.12</td>\n",
       "      <td>138.86</td>\n",
       "      <td>-90.99</td>\n",
       "    </tr>\n",
       "    <tr>\n",
       "      <th>1</th>\n",
       "      <td>ios</td>\n",
       "      <td>373</td>\n",
       "      <td>934633.0</td>\n",
       "      <td>2505.72</td>\n",
       "      <td>44347.25</td>\n",
       "      <td>118.89</td>\n",
       "      <td>-95.26</td>\n",
       "    </tr>\n",
       "  </tbody>\n",
       "</table>\n",
       "</div>"
      ],
      "text/plain": [
       "  platform  unq_installs      cost  cost_per_user  sum_prof  prof_per_user  \\\n",
       "0  android           340  523770.0        1540.50  47212.12         138.86   \n",
       "1      ios           373  934633.0        2505.72  44347.25         118.89   \n",
       "\n",
       "   roi %  \n",
       "0 -90.99  \n",
       "1 -95.26  "
      ]
     },
     "execution_count": 36,
     "metadata": {},
     "output_type": "execute_result"
    }
   ],
   "source": [
    "#platform\n",
    "\n",
    "predf = gimmistats(df, costs, 'platform')\n",
    "pd.DataFrame(list(predf), columns=['platform','unq_installs', 'cost', 'cost_per_user', 'sum_prof', 'prof_per_user', 'roi %'])"
   ]
  },
  {
   "attachments": {},
   "cell_type": "markdown",
   "metadata": {},
   "source": [
    "# Ответ"
   ]
  },
  {
   "attachments": {},
   "cell_type": "markdown",
   "metadata": {},
   "source": [
    "По метрикам android выглядит ощутимо лучше по всем параметрам\n",
    "\n",
    "На ios предсказуемо больше китов (по моей отсечке в $100), и без китов ios предсказуемо генерит чуть больше прибыли на человека\n",
    "\n",
    "Тем не менее отдам предпочтение android, где прибыли на человека чуть меньше, но и реклама обошлась ощутимо дешевле"
   ]
  },
  {
   "attachments": {},
   "cell_type": "markdown",
   "metadata": {},
   "source": [
    "# Задание 3. Распределение Revenue между источниками"
   ]
  },
  {
   "attachments": {},
   "cell_type": "markdown",
   "metadata": {},
   "source": [
    "Скопировал таблицу и выполнил в google sheets, там показалось удобнее\n",
    "\n",
    "Рассчет конечно ну очень примерный, но какой есть :)"
   ]
  },
  {
   "attachments": {},
   "cell_type": "markdown",
   "metadata": {},
   "source": [
    "https://docs.google.com/spreadsheets/d/1E6uLC70BLrWJXBFKIHJk06W-uEd49Ag_JIdKDFgsMv0/edit?usp=sharing"
   ]
  }
 ],
 "metadata": {
  "kernelspec": {
   "display_name": "Python 3",
   "language": "python",
   "name": "python3"
  },
  "language_info": {
   "codemirror_mode": {
    "name": "ipython",
    "version": 3
   },
   "file_extension": ".py",
   "mimetype": "text/x-python",
   "name": "python",
   "nbconvert_exporter": "python",
   "pygments_lexer": "ipython3",
   "version": "3.9.6"
  },
  "orig_nbformat": 4
 },
 "nbformat": 4,
 "nbformat_minor": 2
}
