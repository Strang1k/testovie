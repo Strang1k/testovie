{
 "cells": [
  {
   "attachments": {},
   "cell_type": "markdown",
   "metadata": {},
   "source": [
    "Даны два списка, которые совпадают до элемента N, а потом перестают совпадпать <br/>\n",
    "Ответом должно быть количество совпавших элементов"
   ]
  },
  {
   "cell_type": "code",
   "execution_count": null,
   "metadata": {},
   "outputs": [],
   "source": [
    "x = [0, 1, 2, 3, 4, 5, 6, 6, 6, 8]\n",
    "y = [0, 1, 2, 3, 4, 5, 6, 6, 6, 9]"
   ]
  },
  {
   "cell_type": "code",
   "execution_count": null,
   "metadata": {},
   "outputs": [],
   "source": [
    "x = [0, 1, 2, 3, 4, 5, 6, 6, 6,       7, 8, 8, 9, 10, 11, 15, 18, 36, 275, 555, 444, 785] #совпадают первые 9 чисел\n",
    "y = [0, 1, 2, 3, 4, 5, 6, 6, 6,     14, 8, 16, 18, 20, 22, 30, 36, 72, 450, 556, 333, 235]"
   ]
  },
  {
   "attachments": {},
   "cell_type": "markdown",
   "metadata": {},
   "source": [
    "Без дубликатов до и после:"
   ]
  },
  {
   "cell_type": "code",
   "execution_count": null,
   "metadata": {},
   "outputs": [],
   "source": [
    "def my_fun(x, y):\n",
    "    if len(x) != len(y):\n",
    "        print('Списки разной длины')\n",
    "    if x == y:\n",
    "        print('Списки целиком идентичны') #либо return/print( len(x) )\n",
    "    else:\n",
    "        return len(x) - len(set(x) - set(y))"
   ]
  },
  {
   "attachments": {},
   "cell_type": "markdown",
   "metadata": {},
   "source": [
    "Общее решение:"
   ]
  },
  {
   "cell_type": "code",
   "execution_count": null,
   "metadata": {},
   "outputs": [],
   "source": [
    "def my_fun(x, y):\n",
    "    if len(x) != len(y):\n",
    "        print('Списки разной длины')\n",
    "    if x == y:\n",
    "        print('Списки целиком идентичны')\n",
    "    else:\n",
    "        M = 0\n",
    "        for i in range(len(x)):\n",
    "                if x[i] == y[i]:\n",
    "                    M += 1\n",
    "                    #print(x[i], y[i], '  i==k')\n",
    "                if x[i] != y[i]:\n",
    "                    #print(x[i], y[i], '  i != k')\n",
    "                    break\n",
    "        return M"
   ]
  },
  {
   "cell_type": "code",
   "execution_count": null,
   "metadata": {},
   "outputs": [],
   "source": [
    "my_fun(x, y)"
   ]
  },
  {
   "attachments": {},
   "cell_type": "markdown",
   "metadata": {},
   "source": [
    "pandas"
   ]
  },
  {
   "cell_type": "code",
   "execution_count": 230,
   "metadata": {},
   "outputs": [],
   "source": [
    "import pandas as pd"
   ]
  },
  {
   "cell_type": "code",
   "execution_count": 231,
   "metadata": {},
   "outputs": [],
   "source": [
    "table1 = pd.read_csv('data - table1.csv')\n",
    "table2 = pd.read_csv('data - table2.csv')"
   ]
  },
  {
   "attachments": {},
   "cell_type": "markdown",
   "metadata": {},
   "source": [
    "Выбрать строки из первый таблицы которые соответствуют шаблону (датам) второй таблицы:"
   ]
  },
  {
   "cell_type": "code",
   "execution_count": 232,
   "metadata": {},
   "outputs": [
    {
     "data": {
      "text/html": [
       "<div>\n",
       "<style scoped>\n",
       "    .dataframe tbody tr th:only-of-type {\n",
       "        vertical-align: middle;\n",
       "    }\n",
       "\n",
       "    .dataframe tbody tr th {\n",
       "        vertical-align: top;\n",
       "    }\n",
       "\n",
       "    .dataframe thead th {\n",
       "        text-align: right;\n",
       "    }\n",
       "</style>\n",
       "<table border=\"1\" class=\"dataframe\">\n",
       "  <thead>\n",
       "    <tr style=\"text-align: right;\">\n",
       "      <th></th>\n",
       "      <th>id</th>\n",
       "      <th>date</th>\n",
       "      <th>qty</th>\n",
       "    </tr>\n",
       "  </thead>\n",
       "  <tbody>\n",
       "    <tr>\n",
       "      <th>0</th>\n",
       "      <td>1.0</td>\n",
       "      <td>2022.10.12</td>\n",
       "      <td>0.314512</td>\n",
       "    </tr>\n",
       "    <tr>\n",
       "      <th>1</th>\n",
       "      <td>1.0</td>\n",
       "      <td>2022.10.13</td>\n",
       "      <td>-0.011784</td>\n",
       "    </tr>\n",
       "    <tr>\n",
       "      <th>2</th>\n",
       "      <td>1.0</td>\n",
       "      <td>2022.10.14</td>\n",
       "      <td>0.780512</td>\n",
       "    </tr>\n",
       "    <tr>\n",
       "      <th>3</th>\n",
       "      <td>1.0</td>\n",
       "      <td>2022.10.15</td>\n",
       "      <td>-0.018605</td>\n",
       "    </tr>\n",
       "    <tr>\n",
       "      <th>4</th>\n",
       "      <td>1.0</td>\n",
       "      <td>2022.10.16</td>\n",
       "      <td>0.341738</td>\n",
       "    </tr>\n",
       "    <tr>\n",
       "      <th>...</th>\n",
       "      <td>...</td>\n",
       "      <td>...</td>\n",
       "      <td>...</td>\n",
       "    </tr>\n",
       "    <tr>\n",
       "      <th>203</th>\n",
       "      <td>4.0</td>\n",
       "      <td>2022.11.22</td>\n",
       "      <td>0.481018</td>\n",
       "    </tr>\n",
       "    <tr>\n",
       "      <th>204</th>\n",
       "      <td>4.0</td>\n",
       "      <td>2022.11.23</td>\n",
       "      <td>0.802485</td>\n",
       "    </tr>\n",
       "    <tr>\n",
       "      <th>205</th>\n",
       "      <td>4.0</td>\n",
       "      <td>2022.11.24</td>\n",
       "      <td>-0.235498</td>\n",
       "    </tr>\n",
       "    <tr>\n",
       "      <th>206</th>\n",
       "      <td>4.0</td>\n",
       "      <td>2022.11.25</td>\n",
       "      <td>1.415409</td>\n",
       "    </tr>\n",
       "    <tr>\n",
       "      <th>207</th>\n",
       "      <td>4.0</td>\n",
       "      <td>2022.11.26</td>\n",
       "      <td>0.406598</td>\n",
       "    </tr>\n",
       "  </tbody>\n",
       "</table>\n",
       "<p>208 rows × 3 columns</p>\n",
       "</div>"
      ],
      "text/plain": [
       "      id        date       qty\n",
       "0    1.0  2022.10.12  0.314512\n",
       "1    1.0  2022.10.13 -0.011784\n",
       "2    1.0  2022.10.14  0.780512\n",
       "3    1.0  2022.10.15 -0.018605\n",
       "4    1.0  2022.10.16  0.341738\n",
       "..   ...         ...       ...\n",
       "203  4.0  2022.11.22  0.481018\n",
       "204  4.0  2022.11.23  0.802485\n",
       "205  4.0  2022.11.24 -0.235498\n",
       "206  4.0  2022.11.25  1.415409\n",
       "207  4.0  2022.11.26  0.406598\n",
       "\n",
       "[208 rows x 3 columns]"
      ]
     },
     "execution_count": 232,
     "metadata": {},
     "output_type": "execute_result"
    }
   ],
   "source": [
    "def table_filtering(table1, table2):\n",
    "    table_filtered = pd.DataFrame() #пустой датафрейм в который будем конкатенировать строки\n",
    "\n",
    "    for i in range(len(table2)): #итерируемся по длине второй таблицы\n",
    "\n",
    "        #временная таблица с нужными строками из диапазона второй таблицы\n",
    "        temp = table1.where(table1['date'] >= table2.loc[i][1]         #отвечает за начальную дату\n",
    "                            ).where(table1['date'] <= table2.loc[i][2] #отвечает за конечную дату\n",
    "                                    ).where(table1['id'] == table2.loc[i][0]).dropna() #отвечает за id\n",
    "\n",
    "\n",
    "        table_filtered = pd.concat(\n",
    "            (table_filtered, temp),\n",
    "             axis='rows', ignore_index=True)\n",
    "        #конкатенируем строки каждого нового столбца в общий df\n",
    "        \n",
    "    return table_filtered\n",
    "\n",
    "table_filtering(table1, table2)"
   ]
  },
  {
   "attachments": {},
   "cell_type": "markdown",
   "metadata": {},
   "source": [
    "# След задание"
   ]
  },
  {
   "attachments": {},
   "cell_type": "markdown",
   "metadata": {},
   "source": [
    "Выбрать наиболее похожего и наиболее непохожего на id1 представителя"
   ]
  },
  {
   "cell_type": "code",
   "execution_count": 235,
   "metadata": {},
   "outputs": [],
   "source": [
    "table_filtered = table_filtering(table1, table2)"
   ]
  },
  {
   "cell_type": "code",
   "execution_count": 253,
   "metadata": {},
   "outputs": [
    {
     "data": {
      "text/html": [
       "<div>\n",
       "<style scoped>\n",
       "    .dataframe tbody tr th:only-of-type {\n",
       "        vertical-align: middle;\n",
       "    }\n",
       "\n",
       "    .dataframe tbody tr th {\n",
       "        vertical-align: top;\n",
       "    }\n",
       "\n",
       "    .dataframe thead th {\n",
       "        text-align: right;\n",
       "    }\n",
       "</style>\n",
       "<table border=\"1\" class=\"dataframe\">\n",
       "  <thead>\n",
       "    <tr style=\"text-align: right;\">\n",
       "      <th></th>\n",
       "      <th>id</th>\n",
       "      <th>qty</th>\n",
       "    </tr>\n",
       "  </thead>\n",
       "  <tbody>\n",
       "    <tr>\n",
       "      <th>count</th>\n",
       "      <td>55.0</td>\n",
       "      <td>55.000000</td>\n",
       "    </tr>\n",
       "    <tr>\n",
       "      <th>mean</th>\n",
       "      <td>4.0</td>\n",
       "      <td>0.542296</td>\n",
       "    </tr>\n",
       "    <tr>\n",
       "      <th>std</th>\n",
       "      <td>0.0</td>\n",
       "      <td>0.487630</td>\n",
       "    </tr>\n",
       "    <tr>\n",
       "      <th>min</th>\n",
       "      <td>4.0</td>\n",
       "      <td>-0.479332</td>\n",
       "    </tr>\n",
       "    <tr>\n",
       "      <th>25%</th>\n",
       "      <td>4.0</td>\n",
       "      <td>0.201875</td>\n",
       "    </tr>\n",
       "    <tr>\n",
       "      <th>50%</th>\n",
       "      <td>4.0</td>\n",
       "      <td>0.502193</td>\n",
       "    </tr>\n",
       "    <tr>\n",
       "      <th>75%</th>\n",
       "      <td>4.0</td>\n",
       "      <td>0.999193</td>\n",
       "    </tr>\n",
       "    <tr>\n",
       "      <th>max</th>\n",
       "      <td>4.0</td>\n",
       "      <td>1.672597</td>\n",
       "    </tr>\n",
       "  </tbody>\n",
       "</table>\n",
       "</div>"
      ],
      "text/plain": [
       "         id        qty\n",
       "count  55.0  55.000000\n",
       "mean    4.0   0.542296\n",
       "std     0.0   0.487630\n",
       "min     4.0  -0.479332\n",
       "25%     4.0   0.201875\n",
       "50%     4.0   0.502193\n",
       "75%     4.0   0.999193\n",
       "max     4.0   1.672597"
      ]
     },
     "execution_count": 253,
     "metadata": {},
     "output_type": "execute_result"
    }
   ],
   "source": [
    "table_filtered.where(table_filtered['id'] == 4).dropna().describe()"
   ]
  },
  {
   "cell_type": "code",
   "execution_count": 311,
   "metadata": {},
   "outputs": [
    {
     "data": {
      "text/plain": [
       "-1.956783012"
      ]
     },
     "execution_count": 311,
     "metadata": {},
     "output_type": "execute_result"
    }
   ],
   "source": [
    "table_filtered['qty'].where(table_filtered['id'] == 1).dropna().min()"
   ]
  },
  {
   "cell_type": "code",
   "execution_count": 321,
   "metadata": {},
   "outputs": [
    {
     "name": "stdout",
     "output_type": "stream",
     "text": [
      "id=1, qty min=-1.956783, mean=0.015232, max=1.708598, std=0.784834\n",
      "id=2, qty min=-3.328456, mean=0.301730, max=4.467876, std=1.825293\n",
      "id=3, qty min=-3.333149, mean=0.784084, max=5.316510, std=2.051934\n",
      "id=4, qty min=-0.479332, mean=0.542296, max=1.672597, std=0.487630\n"
     ]
    }
   ],
   "source": [
    "for i in range(1, 5):\n",
    "    min = table_filtered['qty'].where(table_filtered['id'] == i).dropna().min()\n",
    "    mean = table_filtered['qty'].where(table_filtered['id'] == i).dropna().mean()\n",
    "    max = table_filtered['qty'].where(table_filtered['id'] == i).dropna().max()\n",
    "    std = table_filtered['qty'].where(table_filtered['id'] == i).dropna().std()\n",
    "    print(f'id={i}, qty min={min:6f}, mean={mean:6f}, max={max:6f}, std={std:6f}')"
   ]
  },
  {
   "attachments": {},
   "cell_type": "markdown",
   "metadata": {},
   "source": [
    "id 1, qty min=-1.956783, mean=0.015232, max=1.708598, std=0.784834 <br/>\n",
    "id 2, qty min=-3.328456, mean=0.301730, max=4.467876, std=1.825293 <br/>\n",
    "id 3, qty min=-3.333149, mean=0.784084, max=5.316510, std=2.051934 <br/>\n",
    "id 4, qty min=-0.479332, mean=0.542296, max=1.672597, std=0.487630 <br/>\n",
    "\n",
    "Ближайшиt к id=1 - id=2 по min, mean, и id=4 по max, std "
   ]
  },
  {
   "cell_type": "code",
   "execution_count": 254,
   "metadata": {},
   "outputs": [],
   "source": [
    "import seaborn as sns"
   ]
  },
  {
   "cell_type": "code",
   "execution_count": 297,
   "metadata": {},
   "outputs": [
    {
     "data": {
      "text/plain": [
       "<AxesSubplot:xlabel='id', ylabel='qty'>"
      ]
     },
     "execution_count": 297,
     "metadata": {},
     "output_type": "execute_result"
    },
    {
     "data": {
      "image/png": "[encoded data removed]",
      "text/plain": [
       "<Figure size 432x288 with 1 Axes>"
      ]
     },
     "metadata": {
      "needs_background": "light"
     },
     "output_type": "display_data"
    }
   ],
   "source": [
    "sns.scatterplot(data = table_filtered, x=\"id\", y='qty')\n"
   ]
  },
  {
   "attachments": {},
   "cell_type": "markdown",
   "metadata": {},
   "source": [
    "# Штуки которые показались мне полезными"
   ]
  },
  {
   "cell_type": "code",
   "execution_count": 233,
   "metadata": {},
   "outputs": [
    {
     "data": {
      "text/plain": [
       "1    59\n",
       "2    59\n",
       "3    59\n",
       "4    59\n",
       "Name: id, dtype: int64"
      ]
     },
     "execution_count": 233,
     "metadata": {},
     "output_type": "execute_result"
    }
   ],
   "source": [
    "table1['id'].value_counts() #id только заданные, по 59"
   ]
  },
  {
   "cell_type": "code",
   "execution_count": 37,
   "metadata": {},
   "outputs": [
    {
     "data": {
      "text/plain": [
       "Timestamp('2022-11-23 00:00:00')"
      ]
     },
     "execution_count": 37,
     "metadata": {},
     "output_type": "execute_result"
    }
   ],
   "source": [
    "table2.loc[0][2]"
   ]
  },
  {
   "cell_type": "code",
   "execution_count": 224,
   "metadata": {},
   "outputs": [],
   "source": [
    "table1['date'] = table1['date'].astype('datetime64')\n",
    "table2['date_start'] = table2['date_start'].astype('datetime64')\n",
    "table2['date_end'] = table2['date_end'].astype('datetime64')\n",
    "#приводим дату к типу дата"
   ]
  },
  {
   "cell_type": "code",
   "execution_count": 95,
   "metadata": {},
   "outputs": [
    {
     "data": {
      "text/plain": [
       "DatetimeIndex(['2022-10-12', '2022-10-13', '2022-10-14', '2022-10-17',\n",
       "               '2022-10-18', '2022-10-19', '2022-10-20', '2022-10-21',\n",
       "               '2022-10-24', '2022-10-25', '2022-10-26', '2022-10-27',\n",
       "               '2022-10-28', '2022-10-31', '2022-11-01', '2022-11-02',\n",
       "               '2022-11-03', '2022-11-04', '2022-11-07', '2022-11-08',\n",
       "               '2022-11-09', '2022-11-10', '2022-11-11', '2022-11-14',\n",
       "               '2022-11-15', '2022-11-16', '2022-11-17', '2022-11-18',\n",
       "               '2022-11-21', '2022-11-22', '2022-11-23'],\n",
       "              dtype='datetime64[ns]', freq='B')"
      ]
     },
     "execution_count": 95,
     "metadata": {},
     "output_type": "execute_result"
    }
   ],
   "source": [
    "pd.bdate_range(start= table2.loc[0][1], end=table2.loc[0][2]) #только с рабочими днями"
   ]
  },
  {
   "cell_type": "code",
   "execution_count": 96,
   "metadata": {},
   "outputs": [
    {
     "data": {
      "text/plain": [
       "DatetimeIndex(['2022-10-12', '2022-10-13', '2022-10-14', '2022-10-15',\n",
       "               '2022-10-16', '2022-10-17', '2022-10-18', '2022-10-19',\n",
       "               '2022-10-20', '2022-10-21', '2022-10-22', '2022-10-23',\n",
       "               '2022-10-24', '2022-10-25', '2022-10-26', '2022-10-27',\n",
       "               '2022-10-28', '2022-10-29', '2022-10-30', '2022-10-31',\n",
       "               '2022-11-01', '2022-11-02', '2022-11-03', '2022-11-04',\n",
       "               '2022-11-05', '2022-11-06', '2022-11-07', '2022-11-08',\n",
       "               '2022-11-09', '2022-11-10', '2022-11-11', '2022-11-12',\n",
       "               '2022-11-13', '2022-11-14', '2022-11-15', '2022-11-16',\n",
       "               '2022-11-17', '2022-11-18', '2022-11-19', '2022-11-20',\n",
       "               '2022-11-21', '2022-11-22', '2022-11-23'],\n",
       "              dtype='datetime64[ns]', freq='D')"
      ]
     },
     "execution_count": 96,
     "metadata": {},
     "output_type": "execute_result"
    }
   ],
   "source": [
    "pd.date_range(start= table2.loc[0][1], end=table2.loc[0][2]) #все дни"
   ]
  },
  {
   "cell_type": "code",
   "execution_count": 145,
   "metadata": {},
   "outputs": [],
   "source": [
    "tbl = table1.where(table1['date'] >= table2.loc[1][1]).where(table1['date'] <= table2.loc[1][2] ).where(table1['id'] == table2.loc[1][0]).dropna()"
   ]
  },
  {
   "cell_type": "code",
   "execution_count": 119,
   "metadata": {},
   "outputs": [
    {
     "data": {
      "text/plain": [
       "Index(['id', 'date', 'qty'], dtype='object')"
      ]
     },
     "execution_count": 119,
     "metadata": {},
     "output_type": "execute_result"
    }
   ],
   "source": [
    "table1.columns"
   ]
  },
  {
   "cell_type": "code",
   "execution_count": 158,
   "metadata": {},
   "outputs": [],
   "source": [
    "table_filtered = pd.DataFrame(columns=table1.columns)"
   ]
  },
  {
   "cell_type": "code",
   "execution_count": 162,
   "metadata": {},
   "outputs": [
    {
     "data": {
      "text/html": [
       "<div>\n",
       "<style scoped>\n",
       "    .dataframe tbody tr th:only-of-type {\n",
       "        vertical-align: middle;\n",
       "    }\n",
       "\n",
       "    .dataframe tbody tr th {\n",
       "        vertical-align: top;\n",
       "    }\n",
       "\n",
       "    .dataframe thead th {\n",
       "        text-align: right;\n",
       "    }\n",
       "</style>\n",
       "<table border=\"1\" class=\"dataframe\">\n",
       "  <thead>\n",
       "    <tr style=\"text-align: right;\">\n",
       "      <th></th>\n",
       "      <th>id</th>\n",
       "      <th>date</th>\n",
       "      <th>qty</th>\n",
       "    </tr>\n",
       "  </thead>\n",
       "  <tbody>\n",
       "    <tr>\n",
       "      <th>0</th>\n",
       "      <td>4.0</td>\n",
       "      <td>2022-10-03</td>\n",
       "      <td>0.698297</td>\n",
       "    </tr>\n",
       "    <tr>\n",
       "      <th>1</th>\n",
       "      <td>4.0</td>\n",
       "      <td>2022-10-04</td>\n",
       "      <td>1.184482</td>\n",
       "    </tr>\n",
       "    <tr>\n",
       "      <th>2</th>\n",
       "      <td>4.0</td>\n",
       "      <td>2022-10-05</td>\n",
       "      <td>0.093709</td>\n",
       "    </tr>\n",
       "    <tr>\n",
       "      <th>3</th>\n",
       "      <td>4.0</td>\n",
       "      <td>2022-10-06</td>\n",
       "      <td>0.174585</td>\n",
       "    </tr>\n",
       "    <tr>\n",
       "      <th>4</th>\n",
       "      <td>4.0</td>\n",
       "      <td>2022-10-07</td>\n",
       "      <td>0.689963</td>\n",
       "    </tr>\n",
       "    <tr>\n",
       "      <th>5</th>\n",
       "      <td>4.0</td>\n",
       "      <td>2022-10-08</td>\n",
       "      <td>0.120380</td>\n",
       "    </tr>\n",
       "    <tr>\n",
       "      <th>6</th>\n",
       "      <td>4.0</td>\n",
       "      <td>2022-10-09</td>\n",
       "      <td>1.047209</td>\n",
       "    </tr>\n",
       "    <tr>\n",
       "      <th>7</th>\n",
       "      <td>4.0</td>\n",
       "      <td>2022-10-10</td>\n",
       "      <td>0.137095</td>\n",
       "    </tr>\n",
       "    <tr>\n",
       "      <th>8</th>\n",
       "      <td>4.0</td>\n",
       "      <td>2022-10-11</td>\n",
       "      <td>0.395063</td>\n",
       "    </tr>\n",
       "    <tr>\n",
       "      <th>9</th>\n",
       "      <td>4.0</td>\n",
       "      <td>2022-10-12</td>\n",
       "      <td>-0.279865</td>\n",
       "    </tr>\n",
       "  </tbody>\n",
       "</table>\n",
       "</div>"
      ],
      "text/plain": [
       "    id       date       qty\n",
       "0  4.0 2022-10-03  0.698297\n",
       "1  4.0 2022-10-04  1.184482\n",
       "2  4.0 2022-10-05  0.093709\n",
       "3  4.0 2022-10-06  0.174585\n",
       "4  4.0 2022-10-07  0.689963\n",
       "5  4.0 2022-10-08  0.120380\n",
       "6  4.0 2022-10-09  1.047209\n",
       "7  4.0 2022-10-10  0.137095\n",
       "8  4.0 2022-10-11  0.395063\n",
       "9  4.0 2022-10-12 -0.279865"
      ]
     },
     "execution_count": 162,
     "metadata": {},
     "output_type": "execute_result"
    }
   ],
   "source": [
    "pd.concat((table_filtered, tbl), axis='rows', ignore_index=True).head(10)"
   ]
  },
  {
   "cell_type": "code",
   "execution_count": 216,
   "metadata": {},
   "outputs": [
    {
     "data": {
      "text/plain": [
       "Timestamp('2022-10-12 00:00:00')"
      ]
     },
     "execution_count": 216,
     "metadata": {},
     "output_type": "execute_result"
    }
   ],
   "source": [
    "table2.loc[0][1]"
   ]
  }
 ],
 "metadata": {
  "kernelspec": {
   "display_name": "Python 3",
   "language": "python",
   "name": "python3"
  },
  "language_info": {
   "codemirror_mode": {
    "name": "ipython",
    "version": 3
   },
   "file_extension": ".py",
   "mimetype": "text/x-python",
   "name": "python",
   "nbconvert_exporter": "python",
   "pygments_lexer": "ipython3",
   "version": "3.9.6"
  },
  "orig_nbformat": 4
 },
 "nbformat": 4,
 "nbformat_minor": 2
}
