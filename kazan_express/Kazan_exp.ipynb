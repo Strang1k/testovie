{
 "cells": [
  {
   "cell_type": "code",
   "execution_count": 1,
   "metadata": {},
   "outputs": [
    {
     "name": "stderr",
     "output_type": "stream",
     "text": [
      "[nltk_data] Downloading package stopwords to\n",
      "[nltk_data]     C:\\Users\\Дмитрий\\AppData\\Roaming\\nltk_data...\n",
      "[nltk_data]   Package stopwords is already up-to-date!\n",
      "[nltk_data] Downloading package punkt to\n",
      "[nltk_data]     C:\\Users\\Дмитрий\\AppData\\Roaming\\nltk_data...\n",
      "[nltk_data]   Package punkt is already up-to-date!\n"
     ]
    }
   ],
   "source": [
    "import numpy as np\n",
    "import pandas as pd\n",
    "\n",
    "import nltk\n",
    "nltk.download('stopwords')\n",
    "nltk.download('punkt')\n",
    "from nltk.corpus import stopwords \n",
    "from nltk.tokenize import word_tokenize\n",
    "import re\n",
    "import tqdm\n",
    "import json\n",
    "from nltk.stem.snowball import RussianStemmer\n",
    "\n",
    "from sklearn.model_selection import StratifiedKFold\n",
    "from sklearn.metrics import f1_score\n",
    "from sklearn.preprocessing import LabelEncoder\n",
    "from sklearn.model_selection import train_test_split\n",
    "from sklearn.feature_extraction.text import TfidfVectorizer\n",
    "from sklearn.svm import LinearSVC\n",
    "\n",
    "from sklearn.preprocessing import OneHotEncoder\n",
    "from sklearn.neighbors import KNeighborsRegressor\n",
    "\n",
    "\n",
    "from catboost import Pool\n",
    "from catboost import CatBoostClassifier"
   ]
  },
  {
   "cell_type": "code",
   "execution_count": 2,
   "metadata": {},
   "outputs": [],
   "source": [
    "test = pd.read_parquet('internship_2023/test.parquet')\n",
    "train = pd.read_parquet('internship_2023/train.parquet')"
   ]
  },
  {
   "cell_type": "code",
   "execution_count": 4,
   "metadata": {},
   "outputs": [
    {
     "data": {
      "text/plain": [
       "Index(['product_id', 'category_id', 'sale', 'shop_id', 'shop_title', 'rating',\n",
       "       'text_fields', 'category_name'],\n",
       "      dtype='object')"
      ]
     },
     "execution_count": 4,
     "metadata": {},
     "output_type": "execute_result"
    }
   ],
   "source": [
    "train.columns"
   ]
  },
  {
   "cell_type": "code",
   "execution_count": 5,
   "metadata": {},
   "outputs": [
    {
     "data": {
      "text/plain": [
       "Index(['product_id', 'sale', 'shop_id', 'shop_title', 'rating', 'text_fields'], dtype='object')"
      ]
     },
     "execution_count": 5,
     "metadata": {},
     "output_type": "execute_result"
    }
   ],
   "source": [
    "test.columns"
   ]
  },
  {
   "cell_type": "code",
   "execution_count": 6,
   "metadata": {},
   "outputs": [],
   "source": [
    "train = train.reset_index()\n",
    "test = test.reset_index()"
   ]
  },
  {
   "cell_type": "code",
   "execution_count": 7,
   "metadata": {},
   "outputs": [],
   "source": [
    "train = train[['product_id', 'shop_id', 'text_fields', 'category_name']]\n",
    "test = test[['product_id', 'shop_id', 'text_fields']]"
   ]
  },
  {
   "cell_type": "code",
   "execution_count": 8,
   "metadata": {},
   "outputs": [
    {
     "data": {
      "text/html": [
       "<div>\n",
       "<style scoped>\n",
       "    .dataframe tbody tr th:only-of-type {\n",
       "        vertical-align: middle;\n",
       "    }\n",
       "\n",
       "    .dataframe tbody tr th {\n",
       "        vertical-align: top;\n",
       "    }\n",
       "\n",
       "    .dataframe thead th {\n",
       "        text-align: right;\n",
       "    }\n",
       "</style>\n",
       "<table border=\"1\" class=\"dataframe\">\n",
       "  <thead>\n",
       "    <tr style=\"text-align: right;\">\n",
       "      <th></th>\n",
       "      <th>product_id</th>\n",
       "      <th>shop_id</th>\n",
       "      <th>text_fields</th>\n",
       "      <th>category_name</th>\n",
       "    </tr>\n",
       "  </thead>\n",
       "  <tbody>\n",
       "    <tr>\n",
       "      <th>0</th>\n",
       "      <td>325286</td>\n",
       "      <td>9031</td>\n",
       "      <td>{\"title\": \"Зарядный кабель Borofone BX1 Lightn...</td>\n",
       "      <td>Все категории-&gt;Электроника-&gt;Смартфоны и телефо...</td>\n",
       "    </tr>\n",
       "    <tr>\n",
       "      <th>1</th>\n",
       "      <td>888134</td>\n",
       "      <td>18305</td>\n",
       "      <td>{\"title\": \"Трусы Sela\", \"description\": \"Трусы-...</td>\n",
       "      <td>Все категории-&gt;Одежда-&gt;Женская одежда-&gt;Белье и...</td>\n",
       "    </tr>\n",
       "    <tr>\n",
       "      <th>2</th>\n",
       "      <td>1267173</td>\n",
       "      <td>16357</td>\n",
       "      <td>{\"title\": \"Гуашь \\\"ЮНЫЙ ВОЛШЕБНИК\\\", 12 цветов...</td>\n",
       "      <td>Все категории-&gt;Хобби и творчество-&gt;Рисование-&gt;...</td>\n",
       "    </tr>\n",
       "    <tr>\n",
       "      <th>3</th>\n",
       "      <td>1416943</td>\n",
       "      <td>34666</td>\n",
       "      <td>{\"title\": \"Колба для кальяна Крафт (разные цве...</td>\n",
       "      <td>Все категории-&gt;Хобби и творчество-&gt;Товары для ...</td>\n",
       "    </tr>\n",
       "    <tr>\n",
       "      <th>4</th>\n",
       "      <td>1058275</td>\n",
       "      <td>26389</td>\n",
       "      <td>{\"title\": \"Пижама женская, однотонная с шортам...</td>\n",
       "      <td>Все категории-&gt;Одежда-&gt;Женская одежда-&gt;Домашня...</td>\n",
       "    </tr>\n",
       "  </tbody>\n",
       "</table>\n",
       "</div>"
      ],
      "text/plain": [
       "   product_id  shop_id                                        text_fields  \\\n",
       "0      325286     9031  {\"title\": \"Зарядный кабель Borofone BX1 Lightn...   \n",
       "1      888134    18305  {\"title\": \"Трусы Sela\", \"description\": \"Трусы-...   \n",
       "2     1267173    16357  {\"title\": \"Гуашь \\\"ЮНЫЙ ВОЛШЕБНИК\\\", 12 цветов...   \n",
       "3     1416943    34666  {\"title\": \"Колба для кальяна Крафт (разные цве...   \n",
       "4     1058275    26389  {\"title\": \"Пижама женская, однотонная с шортам...   \n",
       "\n",
       "                                       category_name  \n",
       "0  Все категории->Электроника->Смартфоны и телефо...  \n",
       "1  Все категории->Одежда->Женская одежда->Белье и...  \n",
       "2  Все категории->Хобби и творчество->Рисование->...  \n",
       "3  Все категории->Хобби и творчество->Товары для ...  \n",
       "4  Все категории->Одежда->Женская одежда->Домашня...  "
      ]
     },
     "execution_count": 8,
     "metadata": {},
     "output_type": "execute_result"
    }
   ],
   "source": [
    "train.head(5)"
   ]
  },
  {
   "cell_type": "code",
   "execution_count": 9,
   "metadata": {},
   "outputs": [
    {
     "data": {
      "text/html": [
       "<div>\n",
       "<style scoped>\n",
       "    .dataframe tbody tr th:only-of-type {\n",
       "        vertical-align: middle;\n",
       "    }\n",
       "\n",
       "    .dataframe tbody tr th {\n",
       "        vertical-align: top;\n",
       "    }\n",
       "\n",
       "    .dataframe thead th {\n",
       "        text-align: right;\n",
       "    }\n",
       "</style>\n",
       "<table border=\"1\" class=\"dataframe\">\n",
       "  <thead>\n",
       "    <tr style=\"text-align: right;\">\n",
       "      <th></th>\n",
       "      <th>product_id</th>\n",
       "      <th>shop_id</th>\n",
       "      <th>text_fields</th>\n",
       "    </tr>\n",
       "  </thead>\n",
       "  <tbody>\n",
       "    <tr>\n",
       "      <th>0</th>\n",
       "      <td>1997646</td>\n",
       "      <td>22758</td>\n",
       "      <td>{\"title\": \"Светодиодная лента Smart led Strip ...</td>\n",
       "    </tr>\n",
       "    <tr>\n",
       "      <th>1</th>\n",
       "      <td>927375</td>\n",
       "      <td>17729</td>\n",
       "      <td>{\"title\": \"Стекло ПЛЕНКА керамик матовое Honor...</td>\n",
       "    </tr>\n",
       "    <tr>\n",
       "      <th>2</th>\n",
       "      <td>1921513</td>\n",
       "      <td>54327</td>\n",
       "      <td>{\"title\": \"Проводные наушники с микрофоном jac...</td>\n",
       "    </tr>\n",
       "    <tr>\n",
       "      <th>3</th>\n",
       "      <td>1668662</td>\n",
       "      <td>15000</td>\n",
       "      <td>{\"title\": \"Декоративная табличка \\\"Правила кух...</td>\n",
       "    </tr>\n",
       "    <tr>\n",
       "      <th>4</th>\n",
       "      <td>1467778</td>\n",
       "      <td>39600</td>\n",
       "      <td>{\"title\": \"Подставка под ложку керамическая, п...</td>\n",
       "    </tr>\n",
       "  </tbody>\n",
       "</table>\n",
       "</div>"
      ],
      "text/plain": [
       "   product_id  shop_id                                        text_fields\n",
       "0     1997646    22758  {\"title\": \"Светодиодная лента Smart led Strip ...\n",
       "1      927375    17729  {\"title\": \"Стекло ПЛЕНКА керамик матовое Honor...\n",
       "2     1921513    54327  {\"title\": \"Проводные наушники с микрофоном jac...\n",
       "3     1668662    15000  {\"title\": \"Декоративная табличка \\\"Правила кух...\n",
       "4     1467778    39600  {\"title\": \"Подставка под ложку керамическая, п..."
      ]
     },
     "execution_count": 9,
     "metadata": {},
     "output_type": "execute_result"
    }
   ],
   "source": [
    "test.head(5)"
   ]
  },
  {
   "cell_type": "code",
   "execution_count": 10,
   "metadata": {},
   "outputs": [],
   "source": [
    "lecn = LabelEncoder()\n",
    "train['category_name'] = lecn.fit_transform(train['category_name'])"
   ]
  },
  {
   "cell_type": "code",
   "execution_count": 11,
   "metadata": {},
   "outputs": [],
   "source": [
    "def get_titles(texts): #из text_filds достать только {'title' : *title*}\n",
    "    titles = []\n",
    "    for entry in tqdm.tqdm(texts.values):\n",
    "        entry = entry.replace(\"'\", \"\")\n",
    "        entry = json.loads(entry)\n",
    "        titles.append(entry['title'])\n",
    "    return titles"
   ]
  },
  {
   "cell_type": "code",
   "execution_count": 12,
   "metadata": {},
   "outputs": [],
   "source": [
    "def preprocess_texts(texts):\n",
    "    stop_words = set(stopwords.words('russian')) #не несущие смысла слова\n",
    "    regex = re.compile('[^а-яА-Я]') #регулярка чтобы оставить слова\n",
    "    preprocess_texts = []\n",
    "    for i in tqdm.tqdm(range(len(texts))):\n",
    "        text = texts[i].lower() #нижний регистр\n",
    "        text = regex.sub(' ', text) #удалим все символы кроме a-z\n",
    "        word_tokens = word_tokenize(text) #разобьем на слова\n",
    "        filtered_sentence = [w for w in word_tokens if not w in stop_words] #удаляем не несущие смысл слова\n",
    "        preprocess_texts.append(' '.join(filtered_sentence))\n",
    "\n",
    "    return preprocess_texts #возвращаем предобработанный текст"
   ]
  },
  {
   "cell_type": "code",
   "execution_count": 13,
   "metadata": {},
   "outputs": [],
   "source": [
    "def stemming_texts(texts): #у каждого слова отрежем окончания\n",
    "    st = RussianStemmer()\n",
    "    stem_text = []\n",
    "    for text in tqdm.tqdm(texts):\n",
    "        word_tokens = word_tokenize(text)\n",
    "        stem_text.append(' '.join([st.stem(x) for x in word_tokens.copy()])) \n",
    "\n",
    "    return stem_text\n"
   ]
  },
  {
   "cell_type": "code",
   "execution_count": 14,
   "metadata": {},
   "outputs": [
    {
     "name": "stderr",
     "output_type": "stream",
     "text": [
      "100%|██████████| 91120/91120 [00:00<00:00, 108711.04it/s]\n",
      "100%|██████████| 91120/91120 [00:07<00:00, 12936.64it/s]\n",
      "100%|██████████| 91120/91120 [00:22<00:00, 4129.30it/s]\n"
     ]
    }
   ],
   "source": [
    "train['text_fields'] = stemming_texts(preprocess_texts(get_titles(train['text_fields'])))"
   ]
  },
  {
   "attachments": {},
   "cell_type": "markdown",
   "metadata": {},
   "source": [
    "---------------"
   ]
  },
  {
   "attachments": {},
   "cell_type": "markdown",
   "metadata": {},
   "source": [
    "# Попытка в предобработку для catboost\n",
    "Тут я обрезаю количество примеров чтобы учился быстрее, </br>\n",
    "И убираю 4 представителя класса, которые единственные на класс </br>\n",
    "\n",
    "Не захотел учиться на GPU, ребутило ядро юпитер ноутбука, и я уже не успеваю </br>\n",
    "\n",
    "Исходя из динамики на kaggle, где обучаться он все таки решился (с теми же настройками): </br>\n",
    "it0   - test 0.005 </br>\n",
    "it50  - test 0.12 </br>\n",
    "it100 - test 0.17 </br>\n",
    "it150 - test 0.227 </br>\n",
    "it200 - test 0.273 </br>\n",
    "it250 - test 0.325 </br>\n",
    "it299 - test 0.36 </br>\n",
    "\n",
    "Можно предположить что после тысячной итерации можно было бы блендить модели </br>\n",
    "Оставлю ожидаемый блендинг, но с catboost(iteratations=5)"
   ]
  },
  {
   "attachments": {},
   "cell_type": "markdown",
   "metadata": {},
   "source": [
    "________________________________________________"
   ]
  },
  {
   "cell_type": "code",
   "execution_count": 22,
   "metadata": {},
   "outputs": [],
   "source": [
    "catb_train = train.copy()"
   ]
  },
  {
   "cell_type": "code",
   "execution_count": 23,
   "metadata": {},
   "outputs": [],
   "source": [
    "un_cat = catb_train['category_name'].unique()\n",
    "\n",
    "classes_0 = {}\n",
    "for i in un_cat: #присваиваем каждой уникальной категории : 0\n",
    "    classes_0[i] = 0"
   ]
  },
  {
   "cell_type": "code",
   "execution_count": 24,
   "metadata": {},
   "outputs": [],
   "source": [
    "classes = catb_train.to_numpy().copy()"
   ]
  },
  {
   "cell_type": "code",
   "execution_count": 25,
   "metadata": {},
   "outputs": [],
   "source": [
    "limit = 15\n",
    "indexes = []\n",
    "for i in range(len(catb_train)): #ограничим количество из одной категории\n",
    "    if classes_0[ classes[i][-1] ] < limit:\n",
    "        classes_0[ classes[i][-1] ] += 1\n",
    "    else:\n",
    "        indexes.append(i)"
   ]
  },
  {
   "cell_type": "code",
   "execution_count": 26,
   "metadata": {},
   "outputs": [
    {
     "data": {
      "text/plain": [
       "79562"
      ]
     },
     "execution_count": 26,
     "metadata": {},
     "output_type": "execute_result"
    }
   ],
   "source": [
    "len(indexes) #столько строк классов, которые первысили лимит на один класс"
   ]
  },
  {
   "cell_type": "code",
   "execution_count": 27,
   "metadata": {},
   "outputs": [],
   "source": [
    "catb_train = catb_train.drop(indexes) #удаляем превысившие лимит"
   ]
  },
  {
   "cell_type": "code",
   "execution_count": 28,
   "metadata": {},
   "outputs": [],
   "source": [
    "todel = []\n",
    "\n",
    "for key, value in classes_0.items():\n",
    "    if value == 1:\n",
    "        todel.append(key)"
   ]
  },
  {
   "cell_type": "code",
   "execution_count": 29,
   "metadata": {},
   "outputs": [
    {
     "data": {
      "text/plain": [
       "[253, 262, 208, 91]"
      ]
     },
     "execution_count": 29,
     "metadata": {},
     "output_type": "execute_result"
    }
   ],
   "source": [
    "todel #одиночные представители класса, под удаление"
   ]
  },
  {
   "cell_type": "code",
   "execution_count": 30,
   "metadata": {},
   "outputs": [],
   "source": [
    "for d in todel:\n",
    "    catb_train = catb_train.drop( catb_train.where(catb_train['category_name'] == d).dropna().index )"
   ]
  },
  {
   "cell_type": "code",
   "execution_count": 35,
   "metadata": {},
   "outputs": [],
   "source": [
    "catb_train = catb_train.reset_index(drop=True)\n",
    "#catb_train = catb_train.drop(columns=['index'])"
   ]
  },
  {
   "cell_type": "code",
   "execution_count": 36,
   "metadata": {},
   "outputs": [],
   "source": [
    "df = catb_train[['shop_id', 'text_fields']].copy()\n",
    "target = catb_train['category_name']"
   ]
  },
  {
   "cell_type": "code",
   "execution_count": 37,
   "metadata": {},
   "outputs": [
    {
     "data": {
      "text/plain": [
       "870"
      ]
     },
     "execution_count": 37,
     "metadata": {},
     "output_type": "execute_result"
    }
   ],
   "source": [
    "len(catb_train['category_name'].unique()) #осталось классов"
   ]
  },
  {
   "cell_type": "code",
   "execution_count": 38,
   "metadata": {},
   "outputs": [
    {
     "data": {
      "text/plain": [
       "(11554, 2)"
      ]
     },
     "execution_count": 38,
     "metadata": {},
     "output_type": "execute_result"
    }
   ],
   "source": [
    "df.shape #осталось строк"
   ]
  },
  {
   "cell_type": "code",
   "execution_count": 39,
   "metadata": {},
   "outputs": [],
   "source": [
    "X_train, X_test, y_train, y_test = train_test_split(df, target, train_size=0.75, test_size=0.25, random_state=777)"
   ]
  },
  {
   "cell_type": "code",
   "execution_count": 40,
   "metadata": {},
   "outputs": [],
   "source": [
    "cat_features = ['shop_id']"
   ]
  },
  {
   "cell_type": "code",
   "execution_count": 41,
   "metadata": {},
   "outputs": [],
   "source": [
    "text_features = ['text_fields']"
   ]
  },
  {
   "cell_type": "code",
   "execution_count": 42,
   "metadata": {},
   "outputs": [],
   "source": [
    "# pool = Pool(X_train, y_train, cat_features=cat_features, feature_names=list(X_train.columns), text_features=text_features)"
   ]
  },
  {
   "cell_type": "code",
   "execution_count": 43,
   "metadata": {},
   "outputs": [],
   "source": [
    "train_pool = Pool(data=X_train, label=y_train,\n",
    "                  cat_features = ['shop_id'],\n",
    "                  text_features= ['text_fields'])\n",
    "\n",
    "valid_pool = Pool(data=X_test, label=y_test, \n",
    "                  cat_features= ['shop_id'],\n",
    "                  text_features= ['text_fields'])"
   ]
  },
  {
   "cell_type": "code",
   "execution_count": 274,
   "metadata": {},
   "outputs": [],
   "source": [
    "# grid = {'iterations': [500, 1000, 2500],\n",
    "#         'learning_rate': [0.03, 0.05],\n",
    "#         'depth': [2, 3, 4],\n",
    "#         'l2_leaf_reg': [1, 2, 3],\n",
    "#         'random_state':[777],\n",
    "#         'metric_period':[250],\n",
    "#         'logging_level':['Silent'],\n",
    "#         'task_type':['GPU'],\n",
    "#         'devices':['0'],\n",
    "#         'eval_metric':['TotalF1']}"
   ]
  },
  {
   "cell_type": "code",
   "execution_count": 275,
   "metadata": {},
   "outputs": [],
   "source": [
    "# gscb = CatBoostClassifier()\n",
    "# gsresult = gscb.grid_search(grid, X=pool, plot=True)\n",
    "# params = gsresult['params'] "
   ]
  },
  {
   "cell_type": "code",
   "execution_count": 93,
   "metadata": {},
   "outputs": [
    {
     "data": {
      "application/vnd.jupyter.widget-view+json": {
       "model_id": "47fa518c52a14de48e0eea6b537faa88",
       "version_major": 2,
       "version_minor": 0
      },
      "text/plain": [
       "MetricVisualizer(layout=Layout(align_self='stretch', height='500px'))"
      ]
     },
     "metadata": {},
     "output_type": "display_data"
    },
    {
     "name": "stdout",
     "output_type": "stream",
     "text": [
      "0:\tlearn: 0.0039694\ttest: 0.0024728\tbest: 0.0024728 (0)\ttotal: 2m 28s\tremaining: 9m 53s\n",
      "4:\tlearn: 0.0165518\ttest: 0.0076480\tbest: 0.0076480 (4)\ttotal: 12m 5s\tremaining: 0us\n",
      "\n",
      "bestTest = 0.007648023374\n",
      "bestIteration = 4\n",
      "\n"
     ]
    },
    {
     "data": {
      "text/plain": [
       "<catboost.core.CatBoostClassifier at 0x1c5c31f5d00>"
      ]
     },
     "execution_count": 93,
     "metadata": {},
     "output_type": "execute_result"
    }
   ],
   "source": [
    "\n",
    "cbc = CatBoostClassifier(iterations=5, learning_rate=0.3, max_depth=5,\n",
    "                        random_seed=7777, metric_period=5, \n",
    "                        task_type='CPU', devices='0', eval_metric='TotalF1') #l2_leaf_reg=1, \n",
    "\n",
    "cbc.fit(train_pool, plot=True, eval_set=valid_pool, use_best_model=True)"
   ]
  },
  {
   "attachments": {},
   "cell_type": "markdown",
   "metadata": {},
   "source": [
    "_______________________________"
   ]
  },
  {
   "attachments": {},
   "cell_type": "markdown",
   "metadata": {},
   "source": [
    "# KNN на скорую руку"
   ]
  },
  {
   "cell_type": "code",
   "execution_count": 358,
   "metadata": {},
   "outputs": [],
   "source": [
    "dfn = catb_train[['shop_id', 'text_fields']].copy()\n",
    "target = catb_train['category_name']"
   ]
  },
  {
   "cell_type": "code",
   "execution_count": 560,
   "metadata": {},
   "outputs": [],
   "source": [
    "ohe = OneHotEncoder()\n",
    "ohe.fit(train[['shop_id', 'text_fields']]) #фитим энкодер на всем датасете со всеми классами\n",
    "oheded = ohe.transform(dfn) #применяем на нашу подвыборку"
   ]
  },
  {
   "cell_type": "code",
   "execution_count": 361,
   "metadata": {},
   "outputs": [],
   "source": [
    "X_train1, X_test1, y_train1, y_test1 = train_test_split(oheded, target, train_size=0.75, test_size=0.25, random_state=7777)"
   ]
  },
  {
   "cell_type": "code",
   "execution_count": 385,
   "metadata": {},
   "outputs": [
    {
     "data": {
      "text/plain": [
       "KNeighborsRegressor(n_jobs=4, n_neighbors=1)"
      ]
     },
     "execution_count": 385,
     "metadata": {},
     "output_type": "execute_result"
    }
   ],
   "source": [
    "knr = KNeighborsRegressor(n_neighbors=1, weights='uniform', algorithm='auto', n_jobs=4)\n",
    "knr.fit(X_train1, y_train1)"
   ]
  },
  {
   "cell_type": "code",
   "execution_count": 386,
   "metadata": {},
   "outputs": [
    {
     "data": {
      "text/plain": [
       "0.19274809960529546"
      ]
     },
     "execution_count": 386,
     "metadata": {},
     "output_type": "execute_result"
    }
   ],
   "source": [
    "f1_score(y_test1, knr.predict(X_test1).round(), average='weighted')"
   ]
  },
  {
   "attachments": {},
   "cell_type": "markdown",
   "metadata": {},
   "source": [
    "Тест на всем датасете"
   ]
  },
  {
   "cell_type": "code",
   "execution_count": 387,
   "metadata": {},
   "outputs": [],
   "source": [
    "full_test = train[['shop_id', 'text_fields']].copy()\n",
    "full_target = train['category_name']\n",
    "oheded1 = ohe.transform(full_test)\n",
    "X_train2, X_test2, y_train2, y_test2 = train_test_split(oheded1, full_target, train_size=0.75, test_size=0.25, random_state=7777)"
   ]
  },
  {
   "cell_type": "code",
   "execution_count": 558,
   "metadata": {},
   "outputs": [
    {
     "data": {
      "text/plain": [
       "0.25657079984421555"
      ]
     },
     "execution_count": 558,
     "metadata": {},
     "output_type": "execute_result"
    }
   ],
   "source": [
    "f1_score(y_test2, knr.predict(X_test2).round(), average='weighted')"
   ]
  },
  {
   "attachments": {},
   "cell_type": "markdown",
   "metadata": {},
   "source": [
    "# LinearSVC над BOW"
   ]
  },
  {
   "cell_type": "code",
   "execution_count": 44,
   "metadata": {},
   "outputs": [],
   "source": [
    "def bow(vectorizer, train, test):\n",
    "    train_bow = vectorizer.fit_transform(train)\n",
    "    test_bow = vectorizer.transform(test)\n",
    "    return train_bow, test_bow"
   ]
  },
  {
   "cell_type": "code",
   "execution_count": 45,
   "metadata": {},
   "outputs": [],
   "source": [
    "vectorizer_tf_idf = TfidfVectorizer(ngram_range=(1, 2))"
   ]
  },
  {
   "cell_type": "code",
   "execution_count": 46,
   "metadata": {},
   "outputs": [],
   "source": [
    "X_train_tf_idf, X_test_tf_idf = bow(vectorizer_tf_idf, X_train['text_fields'], X_test['text_fields'])"
   ]
  },
  {
   "cell_type": "code",
   "execution_count": 47,
   "metadata": {},
   "outputs": [
    {
     "data": {
      "text/plain": [
       "(8665, 24545)"
      ]
     },
     "execution_count": 47,
     "metadata": {},
     "output_type": "execute_result"
    }
   ],
   "source": [
    "X_train_tf_idf.shape"
   ]
  },
  {
   "cell_type": "code",
   "execution_count": 48,
   "metadata": {},
   "outputs": [],
   "source": [
    "clf_svc = LinearSVC()"
   ]
  },
  {
   "cell_type": "code",
   "execution_count": 49,
   "metadata": {},
   "outputs": [
    {
     "data": {
      "text/plain": [
       "LinearSVC()"
      ]
     },
     "execution_count": 49,
     "metadata": {},
     "output_type": "execute_result"
    }
   ],
   "source": [
    "clf_svc.fit(X_train_tf_idf, y_train)"
   ]
  },
  {
   "cell_type": "code",
   "execution_count": 50,
   "metadata": {},
   "outputs": [
    {
     "name": "stdout",
     "output_type": "stream",
     "text": [
      "LinearSVC: 0.7020832267839171\n"
     ]
    }
   ],
   "source": [
    "print( 'LinearSVC:', f1_score(clf_svc.predict(X_test_tf_idf), y_test, average='weighted') )"
   ]
  },
  {
   "cell_type": "code",
   "execution_count": 59,
   "metadata": {},
   "outputs": [
    {
     "data": {
      "text/plain": [
       "array([522, 823, 786, ..., 634, 569, 547])"
      ]
     },
     "execution_count": 59,
     "metadata": {},
     "output_type": "execute_result"
    }
   ],
   "source": [
    "clf_svc.predict(X_test_tf_idf)"
   ]
  },
  {
   "attachments": {},
   "cell_type": "markdown",
   "metadata": {},
   "source": [
    "___________________________________"
   ]
  },
  {
   "attachments": {},
   "cell_type": "markdown",
   "metadata": {},
   "source": [
    "# Голосование"
   ]
  },
  {
   "attachments": {},
   "cell_type": "markdown",
   "metadata": {},
   "source": [
    "#def voting(data, clf, cbc, knn): \n",
    "\n",
    "Предобработка для каждой из моделей -> предикт -> </br>\n",
    "Если один и тот же класс предсказали хотя бы 2 модели - отдаем как ответ </br>\n",
    "Если предсказания не совпадают, отдаем предпочтение ответу модели с наибольшим f1score"
   ]
  },
  {
   "attachments": {},
   "cell_type": "markdown",
   "metadata": {},
   "source": [
    "--------------"
   ]
  },
  {
   "attachments": {},
   "cell_type": "markdown",
   "metadata": {},
   "source": [
    "# Для TG лидерборда"
   ]
  },
  {
   "cell_type": "code",
   "execution_count": null,
   "metadata": {},
   "outputs": [],
   "source": [
    "def create_folds(data, target, num_splits=3):\n",
    "    if num_splits > 1:\n",
    "        data.loc[:,'kfold'] = -1\n",
    "        X = data.drop([target], axis=1)\n",
    "        y = data[[target]]\n",
    "        mskf = StratifiedKFold(n_splits=num_splits, shuffle=True, random_state=42)\n",
    "        for fold, (trn_, val_) in enumerate(mskf.split(X, y)):\n",
    "            data.loc[val_,'kfold'] = fold\n",
    "    else:\n",
    "        data.loc[:,'kfold'] = 0\n",
    "    return data"
   ]
  },
  {
   "cell_type": "code",
   "execution_count": null,
   "metadata": {},
   "outputs": [],
   "source": [
    "from sklearn.model_selection import StratifiedKFold\n",
    "from sklearn.metrics import f1_score"
   ]
  },
  {
   "cell_type": "code",
   "execution_count": null,
   "metadata": {},
   "outputs": [],
   "source": [
    "N = 5\n",
    "df = create_folds(train, 'category_name', N)\n",
    "X = df.drop(columns=['category_name'])\n",
    "y = df[['category_name', 'kfold']]"
   ]
  },
  {
   "cell_type": "code",
   "execution_count": null,
   "metadata": {},
   "outputs": [],
   "source": [
    "val_ds = pd.DataFrame({'true': y['category_name']})\n",
    "val_ds['pred'] = -1\n",
    "for kfold in range(5):\n",
    "    X_train, X_test = X[X.kfold!=kfold].drop('kfold', axis=1), X[X.kfold==kfold].drop('kfold', axis=1)\n",
    "    y_train, y_test = y[y.kfold!=kfold].drop('kfold', axis=1), y[y.kfold==kfold].drop('kfold', axis=1)\n",
    "    print(X_train.shape)\n",
    "    print(f'--------------------------------{kfold}-fold-------------------------------')\n",
    "    \n",
    "    X_train['data'] = stemming_texts(preprocess_texts(get_titles(X_train['text_fields'])))    \n",
    "    X_test['data'] = stemming_texts(preprocess_texts(get_titles(X_test['text_fields'])))\n",
    "    X_tr, X_te = bow(vectorizer_tf_idf, X_train['data'], X_test['data'])\n",
    "    #своя модель\n",
    "    clf_svc = LinearSVC()\n",
    "#     #clf = LinearRegression()\n",
    "    clf_svc.fit(X_tr, y_train['category_name'])\n",
    "\n",
    "    val_ds.loc[y_test.index, 'pred'] = clf_svc.predict(X_te).astype(int)"
   ]
  },
  {
   "cell_type": "code",
   "execution_count": null,
   "metadata": {},
   "outputs": [],
   "source": [
    "f1_score(val_ds['true'], val_ds['pred'], average='weighted')"
   ]
  },
  {
   "attachments": {},
   "cell_type": "markdown",
   "metadata": {},
   "source": [
    "_________________________"
   ]
  },
  {
   "attachments": {},
   "cell_type": "markdown",
   "metadata": {},
   "source": [
    "# Итоговое предсказание"
   ]
  },
  {
   "cell_type": "code",
   "execution_count": 51,
   "metadata": {},
   "outputs": [
    {
     "name": "stderr",
     "output_type": "stream",
     "text": [
      "100%|██████████| 16860/16860 [00:00<00:00, 104697.54it/s]\n",
      "100%|██████████| 16860/16860 [00:01<00:00, 13127.92it/s]\n",
      "100%|██████████| 16860/16860 [00:04<00:00, 4148.72it/s]\n"
     ]
    }
   ],
   "source": [
    "test['text_fields'] = stemming_texts(preprocess_texts(get_titles(test['text_fields'])))"
   ]
  },
  {
   "cell_type": "code",
   "execution_count": 52,
   "metadata": {},
   "outputs": [],
   "source": [
    "def bow(vectorizer, test):\n",
    "    test_bow = vectorizer.transform(test)\n",
    "    return test_bow"
   ]
  },
  {
   "cell_type": "code",
   "execution_count": 53,
   "metadata": {},
   "outputs": [],
   "source": [
    "X_test_tf_idf = bow(vectorizer_tf_idf, test['text_fields'])"
   ]
  },
  {
   "cell_type": "code",
   "execution_count": 54,
   "metadata": {},
   "outputs": [],
   "source": [
    "result = pd.DataFrame(test['product_id'])"
   ]
  },
  {
   "cell_type": "code",
   "execution_count": 55,
   "metadata": {},
   "outputs": [],
   "source": [
    "result['predicted_category_id'] = clf_svc.predict(X_test_tf_idf)"
   ]
  },
  {
   "cell_type": "code",
   "execution_count": 56,
   "metadata": {},
   "outputs": [],
   "source": [
    "result['predicted_category_id'] = lecn.inverse_transform(result['predicted_category_id'])"
   ]
  },
  {
   "cell_type": "code",
   "execution_count": 57,
   "metadata": {},
   "outputs": [
    {
     "data": {
      "text/html": [
       "<div>\n",
       "<style scoped>\n",
       "    .dataframe tbody tr th:only-of-type {\n",
       "        vertical-align: middle;\n",
       "    }\n",
       "\n",
       "    .dataframe tbody tr th {\n",
       "        vertical-align: top;\n",
       "    }\n",
       "\n",
       "    .dataframe thead th {\n",
       "        text-align: right;\n",
       "    }\n",
       "</style>\n",
       "<table border=\"1\" class=\"dataframe\">\n",
       "  <thead>\n",
       "    <tr style=\"text-align: right;\">\n",
       "      <th></th>\n",
       "      <th>product_id</th>\n",
       "      <th>predicted_category_id</th>\n",
       "    </tr>\n",
       "  </thead>\n",
       "  <tbody>\n",
       "    <tr>\n",
       "      <th>0</th>\n",
       "      <td>1997646</td>\n",
       "      <td>Все категории-&gt;Товары для дома-&gt;Товары для пра...</td>\n",
       "    </tr>\n",
       "    <tr>\n",
       "      <th>1</th>\n",
       "      <td>927375</td>\n",
       "      <td>Все категории-&gt;Электроника-&gt;Смартфоны и телефо...</td>\n",
       "    </tr>\n",
       "    <tr>\n",
       "      <th>2</th>\n",
       "      <td>1921513</td>\n",
       "      <td>Все категории-&gt;Электроника-&gt;Наушники и аудиоте...</td>\n",
       "    </tr>\n",
       "    <tr>\n",
       "      <th>3</th>\n",
       "      <td>1668662</td>\n",
       "      <td>Все категории-&gt;Товары для дома-&gt;Товары для кух...</td>\n",
       "    </tr>\n",
       "    <tr>\n",
       "      <th>4</th>\n",
       "      <td>1467778</td>\n",
       "      <td>Все категории-&gt;Товары для дома-&gt;Товары для кух...</td>\n",
       "    </tr>\n",
       "  </tbody>\n",
       "</table>\n",
       "</div>"
      ],
      "text/plain": [
       "   product_id                              predicted_category_id\n",
       "0     1997646  Все категории->Товары для дома->Товары для пра...\n",
       "1      927375  Все категории->Электроника->Смартфоны и телефо...\n",
       "2     1921513  Все категории->Электроника->Наушники и аудиоте...\n",
       "3     1668662  Все категории->Товары для дома->Товары для кух...\n",
       "4     1467778  Все категории->Товары для дома->Товары для кух..."
      ]
     },
     "execution_count": 57,
     "metadata": {},
     "output_type": "execute_result"
    }
   ],
   "source": [
    "result.head()"
   ]
  },
  {
   "cell_type": "code",
   "execution_count": 58,
   "metadata": {},
   "outputs": [
    {
     "data": {
      "text/html": [
       "<div>\n",
       "<style scoped>\n",
       "    .dataframe tbody tr th:only-of-type {\n",
       "        vertical-align: middle;\n",
       "    }\n",
       "\n",
       "    .dataframe tbody tr th {\n",
       "        vertical-align: top;\n",
       "    }\n",
       "\n",
       "    .dataframe thead th {\n",
       "        text-align: right;\n",
       "    }\n",
       "</style>\n",
       "<table border=\"1\" class=\"dataframe\">\n",
       "  <thead>\n",
       "    <tr style=\"text-align: right;\">\n",
       "      <th></th>\n",
       "      <th>product_id</th>\n",
       "      <th>shop_id</th>\n",
       "      <th>text_fields</th>\n",
       "    </tr>\n",
       "  </thead>\n",
       "  <tbody>\n",
       "    <tr>\n",
       "      <th>0</th>\n",
       "      <td>1997646</td>\n",
       "      <td>22758</td>\n",
       "      <td>светодиодн лент пульт метр</td>\n",
       "    </tr>\n",
       "    <tr>\n",
       "      <th>1</th>\n",
       "      <td>927375</td>\n",
       "      <td>17729</td>\n",
       "      <td>стекл пленк керамик матов</td>\n",
       "    </tr>\n",
       "    <tr>\n",
       "      <th>2</th>\n",
       "      <td>1921513</td>\n",
       "      <td>54327</td>\n",
       "      <td>проводн наушник микрофон</td>\n",
       "    </tr>\n",
       "    <tr>\n",
       "      <th>3</th>\n",
       "      <td>1668662</td>\n",
       "      <td>15000</td>\n",
       "      <td>декоративн табличк прав кухн подставк горяч ра...</td>\n",
       "    </tr>\n",
       "    <tr>\n",
       "      <th>4</th>\n",
       "      <td>1467778</td>\n",
       "      <td>39600</td>\n",
       "      <td>подставк ложк керамическ подложк клубник лаван...</td>\n",
       "    </tr>\n",
       "    <tr>\n",
       "      <th>...</th>\n",
       "      <td>...</td>\n",
       "      <td>...</td>\n",
       "      <td>...</td>\n",
       "    </tr>\n",
       "    <tr>\n",
       "      <th>16855</th>\n",
       "      <td>1914264</td>\n",
       "      <td>8598</td>\n",
       "      <td>жестк диск внутрен твердотел накопител</td>\n",
       "    </tr>\n",
       "    <tr>\n",
       "      <th>16856</th>\n",
       "      <td>1310569</td>\n",
       "      <td>27474</td>\n",
       "      <td>браслет оберег рук красн нит сглаз защит сглаз...</td>\n",
       "    </tr>\n",
       "    <tr>\n",
       "      <th>16857</th>\n",
       "      <td>978095</td>\n",
       "      <td>23395</td>\n",
       "      <td>кабошон бантик упаковк шт</td>\n",
       "    </tr>\n",
       "    <tr>\n",
       "      <th>16858</th>\n",
       "      <td>797547</td>\n",
       "      <td>16764</td>\n",
       "      <td>полк ван углов х х см цвет хром</td>\n",
       "    </tr>\n",
       "    <tr>\n",
       "      <th>16859</th>\n",
       "      <td>703835</td>\n",
       "      <td>13813</td>\n",
       "      <td>подарочн коробк сердц</td>\n",
       "    </tr>\n",
       "  </tbody>\n",
       "</table>\n",
       "<p>16860 rows × 3 columns</p>\n",
       "</div>"
      ],
      "text/plain": [
       "       product_id  shop_id                                        text_fields\n",
       "0         1997646    22758                         светодиодн лент пульт метр\n",
       "1          927375    17729                          стекл пленк керамик матов\n",
       "2         1921513    54327                           проводн наушник микрофон\n",
       "3         1668662    15000  декоративн табличк прав кухн подставк горяч ра...\n",
       "4         1467778    39600  подставк ложк керамическ подложк клубник лаван...\n",
       "...           ...      ...                                                ...\n",
       "16855     1914264     8598             жестк диск внутрен твердотел накопител\n",
       "16856     1310569    27474  браслет оберег рук красн нит сглаз защит сглаз...\n",
       "16857      978095    23395                          кабошон бантик упаковк шт\n",
       "16858      797547    16764                    полк ван углов х х см цвет хром\n",
       "16859      703835    13813                              подарочн коробк сердц\n",
       "\n",
       "[16860 rows x 3 columns]"
      ]
     },
     "execution_count": 58,
     "metadata": {},
     "output_type": "execute_result"
    }
   ],
   "source": [
    "test"
   ]
  },
  {
   "cell_type": "code",
   "execution_count": 63,
   "metadata": {},
   "outputs": [
    {
     "data": {
      "text/html": [
       "<div>\n",
       "<style scoped>\n",
       "    .dataframe tbody tr th:only-of-type {\n",
       "        vertical-align: middle;\n",
       "    }\n",
       "\n",
       "    .dataframe tbody tr th {\n",
       "        vertical-align: top;\n",
       "    }\n",
       "\n",
       "    .dataframe thead th {\n",
       "        text-align: right;\n",
       "    }\n",
       "</style>\n",
       "<table border=\"1\" class=\"dataframe\">\n",
       "  <thead>\n",
       "    <tr style=\"text-align: right;\">\n",
       "      <th></th>\n",
       "      <th>product_id</th>\n",
       "      <th>text_fields</th>\n",
       "    </tr>\n",
       "  </thead>\n",
       "  <tbody>\n",
       "    <tr>\n",
       "      <th>1</th>\n",
       "      <td>1997646</td>\n",
       "      <td>{\"title\": \"Светодиодная лента Smart led Strip ...</td>\n",
       "    </tr>\n",
       "    <tr>\n",
       "      <th>2</th>\n",
       "      <td>927375</td>\n",
       "      <td>{\"title\": \"Стекло ПЛЕНКА керамик матовое Honor...</td>\n",
       "    </tr>\n",
       "    <tr>\n",
       "      <th>3</th>\n",
       "      <td>1921513</td>\n",
       "      <td>{\"title\": \"Проводные наушники с микрофоном jac...</td>\n",
       "    </tr>\n",
       "    <tr>\n",
       "      <th>4</th>\n",
       "      <td>1668662</td>\n",
       "      <td>{\"title\": \"Декоративная табличка \\\"Правила кух...</td>\n",
       "    </tr>\n",
       "    <tr>\n",
       "      <th>5</th>\n",
       "      <td>1467778</td>\n",
       "      <td>{\"title\": \"Подставка под ложку керамическая, п...</td>\n",
       "    </tr>\n",
       "    <tr>\n",
       "      <th>...</th>\n",
       "      <td>...</td>\n",
       "      <td>...</td>\n",
       "    </tr>\n",
       "    <tr>\n",
       "      <th>24987</th>\n",
       "      <td>1914264</td>\n",
       "      <td>{\"title\": \"Жесткий диск внутренний SSD KingDia...</td>\n",
       "    </tr>\n",
       "    <tr>\n",
       "      <th>24988</th>\n",
       "      <td>1310569</td>\n",
       "      <td>{\"title\": \"Браслет оберег на руку/красная нить...</td>\n",
       "    </tr>\n",
       "    <tr>\n",
       "      <th>24989</th>\n",
       "      <td>978095</td>\n",
       "      <td>{\"title\": \"Кабошон бантик в упаковке 2 шт\", \"d...</td>\n",
       "    </tr>\n",
       "    <tr>\n",
       "      <th>24992</th>\n",
       "      <td>797547</td>\n",
       "      <td>{\"title\": \"Полка для ванной угловая, 20,5 х 20...</td>\n",
       "    </tr>\n",
       "    <tr>\n",
       "      <th>24995</th>\n",
       "      <td>703835</td>\n",
       "      <td>{\"title\": \"Подарочная коробка сердце\", \"descri...</td>\n",
       "    </tr>\n",
       "  </tbody>\n",
       "</table>\n",
       "<p>16860 rows × 2 columns</p>\n",
       "</div>"
      ],
      "text/plain": [
       "       product_id                                        text_fields\n",
       "1         1997646  {\"title\": \"Светодиодная лента Smart led Strip ...\n",
       "2          927375  {\"title\": \"Стекло ПЛЕНКА керамик матовое Honor...\n",
       "3         1921513  {\"title\": \"Проводные наушники с микрофоном jac...\n",
       "4         1668662  {\"title\": \"Декоративная табличка \\\"Правила кух...\n",
       "5         1467778  {\"title\": \"Подставка под ложку керамическая, п...\n",
       "...           ...                                                ...\n",
       "24987     1914264  {\"title\": \"Жесткий диск внутренний SSD KingDia...\n",
       "24988     1310569  {\"title\": \"Браслет оберег на руку/красная нить...\n",
       "24989      978095  {\"title\": \"Кабошон бантик в упаковке 2 шт\", \"d...\n",
       "24992      797547  {\"title\": \"Полка для ванной угловая, 20,5 х 20...\n",
       "24995      703835  {\"title\": \"Подарочная коробка сердце\", \"descri...\n",
       "\n",
       "[16860 rows x 2 columns]"
      ]
     },
     "execution_count": 63,
     "metadata": {},
     "output_type": "execute_result"
    }
   ],
   "source": [
    "orig = pd.read_parquet('internship_2023/test.parquet')\n",
    "orig[['product_id','text_fields']]"
   ]
  },
  {
   "cell_type": "code",
   "execution_count": 592,
   "metadata": {},
   "outputs": [],
   "source": [
    "result.to_parquet('result.parquet', engine='pyarrow')"
   ]
  }
 ],
 "metadata": {
  "kernelspec": {
   "display_name": "Python 3",
   "language": "python",
   "name": "python3"
  },
  "language_info": {
   "codemirror_mode": {
    "name": "ipython",
    "version": 3
   },
   "file_extension": ".py",
   "mimetype": "text/x-python",
   "name": "python",
   "nbconvert_exporter": "python",
   "pygments_lexer": "ipython3",
   "version": "3.9.6"
  },
  "orig_nbformat": 4,
  "vscode": {
   "interpreter": {
    "hash": "1b24010e48f9066a6a90c6c06fb102c81381300da92a8a7b4c6691d23d6bcce8"
   }
  }
 },
 "nbformat": 4,
 "nbformat_minor": 2
}
