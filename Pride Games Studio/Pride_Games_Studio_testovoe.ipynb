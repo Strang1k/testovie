{
 "cells": [
  {
   "attachments": {},
   "cell_type": "markdown",
   "metadata": {},
   "source": [
    "# 1.1 Необходимо с помощью SQL запроса вывести общий календарный Retention первого дня"
   ]
  },
  {
   "attachments": {},
   "cell_type": "markdown",
   "metadata": {},
   "source": [
    "Retention rate - коэф удержания (пользователи в конце периода / пользователи в начале периода) #пользователи одни и те же <br/>\n",
    "При расчете календарного retention, например, 1-го дня, учитывается вход в интервале от 0 до 48 часов с момента установки"
   ]
  },
  {
   "cell_type": "code",
   "execution_count": null,
   "metadata": {},
   "outputs": [],
   "source": [
    "# 90 минут найти способ как перенести таблицы в psql (до этого делал в sqlite3)\n",
    "\n",
    "# 20 минут читать и вникать в retantion 1 дня\n",
    "\n",
    "# 62 минуты на первое sql задание\n",
    "\n",
    "\"\"\"\n",
    "\n",
    "SELECT \n",
    "\t\n",
    "\tCONCAT(ROUND((count(day_one_users)/count(day_zero_users)::float*100)::numeric, 3), '%') as day_one_retention\n",
    "\t\n",
    "FROM\n",
    "\t(SELECT \n",
    "\tDISTINCT id,\n",
    "\tCASE WHEN diff < time_before_next_day THEN 'zero' END AS day_zero_users,\n",
    "\tCASE WHEN (diff > time_before_next_day AND diff < time_before_next_day+24) THEN 'one' END AS day_one_users\n",
    "\n",
    "\tFROM(\n",
    "\t\tSELECT StartGame.DeviceId as id,\n",
    "\t\tEXTRACT(EPOCH FROM StartGame.event_datetime - FirstOpen.event_datetime)/3600 as diff,\n",
    "\t\tEXTRACT(EPOCH FROM (date (FirstOpen.event_datetime) +1 - FirstOpen.event_datetime))/3600 as time_before_next_day\n",
    "\n",
    "\t\tFROM FirstOpen\n",
    "\t\tJOIN StartGame on FirstOpen.DeviceId = StartGame.deviceid\n",
    "\t\t) tmp )tmp\n",
    "\t\t\n",
    "WHERE (day_zero_users <> 'NULL' OR day_one_users <> 'NULL')\n",
    "\n",
    "\"\"\""
   ]
  },
  {
   "attachments": {},
   "cell_type": "markdown",
   "metadata": {},
   "source": [
    "-> 33.385%"
   ]
  },
  {
   "attachments": {},
   "cell_type": "markdown",
   "metadata": {},
   "source": [
    "# 1.2 Необходимо с помощью SQL вместе с Retention первого дня вывести среднее количество сессий, наигранных игроками, попавших в Retention первого дня, за два дня.\n"
   ]
  },
  {
   "cell_type": "code",
   "execution_count": null,
   "metadata": {},
   "outputs": [],
   "source": [
    "# 35 минут на второе задание\n",
    "\n",
    "\"\"\"\n",
    "\n",
    "SELECT \n",
    "\tCONCAT(max(day_one_retention), '%') as retention_первого_дня, \n",
    "\tround(max(avg), 3) as среднее_количество_сессий\n",
    "\n",
    "FROM \n",
    "\t(SELECT \n",
    "\t\t\tavg(sessions_count)\n",
    "\t\tFROM\n",
    "\t\t\t(SELECT \n",
    "\t\t\t count(*) FILTER (WHERE diff < time_before_next_day+24) OVER(PARTITION BY id) as sessions_count,\n",
    "\t\t\tCASE WHEN diff < time_before_next_day THEN 'zero' END AS day_zero_users,\n",
    "\t\t\tCASE WHEN (diff > time_before_next_day AND diff < time_before_next_day+24) THEN 'one' END AS day_one_users\n",
    "\n",
    "\t\t\tFROM(\n",
    "\t\t\t\tSELECT StartGame.DeviceId as id, \n",
    "\t\t\t\tStartGame.event_datetime as event_time,\n",
    "\n",
    "\t\t\t\tEXTRACT(EPOCH FROM StartGame.event_datetime - FirstOpen.event_datetime)/3600 as diff,\n",
    "\t\t\t\tEXTRACT(EPOCH FROM (date (FirstOpen.event_datetime) +1 - FirstOpen.event_datetime))/3600 as time_before_next_day\n",
    "\n",
    "\t\t\t\tFROM FirstOpen\n",
    "\t\t\t\tJOIN StartGame on FirstOpen.DeviceId = StartGame.deviceid\n",
    "\t\t\t\t) tmp \n",
    "\t\t\t)tmp\n",
    "\t\tWHERE (day_zero_users <> 'NULL' OR day_one_users <> 'NULL') )tmp\n",
    "\t\t\n",
    "FULL JOIN \n",
    "\t(SELECT \n",
    "\t\n",
    "\tROUND((count(day_one_users)/count(day_zero_users)::float*100)::numeric, 3) as day_one_retention\n",
    "\t\n",
    "\tFROM\n",
    "\t\t(SELECT \n",
    "\t\tDISTINCT id,\n",
    "\t\tCASE WHEN diff < time_before_next_day THEN 'zero' END AS day_zero_users,\n",
    "\t\tCASE WHEN (diff > time_before_next_day AND diff < time_before_next_day+24) THEN 'one' END AS day_one_users\n",
    "\n",
    "\t\tFROM(\n",
    "\t\t\tSELECT StartGame.DeviceId as id,\n",
    "\n",
    "\t\t\tEXTRACT(EPOCH FROM StartGame.event_datetime - FirstOpen.event_datetime)/3600 as diff,\n",
    "\t\t\tEXTRACT(EPOCH FROM (date (FirstOpen.event_datetime) +1 - FirstOpen.event_datetime))/3600 as time_before_next_day\n",
    "\n",
    "\t\t\tFROM FirstOpen\n",
    "\t\t\tJOIN StartGame on FirstOpen.DeviceId = StartGame.deviceid\n",
    "\t\t\t) tmp )tmp\n",
    "\n",
    "\t\tWHERE (day_zero_users <> 'NULL' OR day_one_users <> 'NULL')\n",
    "\t) as ret_table on ret_table.day_one_retention = tmp.avg\n",
    "    \n",
    "\"\"\""
   ]
  },
  {
   "attachments": {},
   "cell_type": "markdown",
   "metadata": {},
   "source": [
    "-> 33.385% | 3.614"
   ]
  },
  {
   "attachments": {},
   "cell_type": "markdown",
   "metadata": {},
   "source": [
    "# 2. \n",
    "Представим ситуацию, что был запущен A/B тест, в котором первая A/B группа играет на основной версии игры, вторая A/B группа играет на версии с измененным туториалом. <br/>\n",
    " Группы катились три дня, к Вам подходит продюсер проекта и говорит, что он заметил сильную разницу в общем доходе между группами и беспокоится, <br/>\n",
    " что тестовая группа создает просадку по доходу, поэтому думает, что тест надо заканчивать. <br/>\n",
    " Ваша задача : при помощи данных в таблице дать аргументированное решение по данному A/B тесту.\n"
   ]
  },
  {
   "cell_type": "code",
   "execution_count": null,
   "metadata": {},
   "outputs": [],
   "source": [
    "# 28 минут\n",
    "\n",
    "\"\"\"\n",
    "\n",
    "Прерывать A/B тест не дождавшись окончания в принципе не лучшая идея\n",
    "Такая штука называется проблемой подглядывания и кратно увеличивает вероятность совершения ошибки\n",
    "\n",
    "Есть два основных способа досрочного завершения, но они оба подразумевают, что заранее оговорено количество промежуточных проверок\n",
    "\n",
    "Граница Покока : выбрать количество \"подглядываний\", поделить принятый нами порог p-value на это количество подглядываний,\n",
    " и останавливаться только в том случае, если мы упали за получившийся порог.\n",
    "\n",
    "O'Brien-Fleming - имперически найденная формула, где p-value тем меньше, чем дальше мы от окончания теста находимся. \n",
    "Проще нагуглить или формулу, или python код\n",
    "\n",
    "Так или иначе, ориентируясь на paying share, калькуляторы говорят, что значимых различий между группами нет,\n",
    " и потому как проверки не обозначены, мы не должны останавливать проведение теста\n",
    "\n",
    "\n",
    "\"\"\""
   ]
  },
  {
   "attachments": {},
   "cell_type": "markdown",
   "metadata": {},
   "source": [
    "# 3. \n",
    "В Ваши задачи, как аналитика, входит работа по двум играм: <br/>\n",
    "Первый проект имеет метрики Paying share 2% и ARPPU 30$ <br/>\n",
    "Второй  проект имеет метрики Paying share 4% и ARPPU 13$ <br/>\n",
    "\n",
    "Такие метрики достигаются на 10000 пользователей на каждой игре за одни и те же периоды.\n",
    "\n",
    "Какая игра, по Вашему мнению, приносит больше прибыли при равных условиях и почему? Чем, с точки зрения геймдизайна, экономики, баланса и т.д., могут отличаться такие игры между собой? Какие еще различия в метриках могут быть у таких игр?\n",
    "\n"
   ]
  },
  {
   "cell_type": "code",
   "execution_count": null,
   "metadata": {},
   "outputs": [],
   "source": [
    "# 24 минуты\n",
    "\n",
    "\"\"\" \n",
    "\n",
    "Конкретно в данном примере чтобы узнать сколько выручки принесла игра, нужно пойти в обратную сторону от arppu (выручка/платящие пользователи)\n",
    " и умножить платящих пользователей на среднюю выручку\n",
    "Таким образом, с платежей пользователей, первая игра принесла 6000, вторая 5200\n",
    "\n",
    "К тому же возможно первая игра имеет больше возможности получить что-то за просмотры рекламы и таким образом может \n",
    "приносить больший доход еще и за этот счет, что к тому же объяснит больший arppu и меньший paying share \n",
    "\n",
    "\n",
    "Чем, с точки зрения геймдизайна, экономики, баланса и т.д., могут отличаться такие игры между собой?\n",
    "\n",
    "Ссылаясь на предыдущее предположение, предположу, что есть какой-то порог по сумме, \n",
    "который уже нельзя перешагнуть просмотрами рекламы, и приходится платить\n",
    "\n",
    "Учитывая, что средний платеж в первой игре выше, а платящих пользователей меньше, скорее всего предметы покупки там дают \n",
    "большее преимущество над бесплатными или за просмотр рекламы, а так же имеют более высокие цены\n",
    "\n",
    "\n",
    "\n",
    "Какие еще различия в метриках могут быть у таких игр?\n",
    "\n",
    "Ссылаясь на возможные просмотры рекламы или другие способы проще получить какие-то платные предметы, скорее всего в первой выше retention, \n",
    "выше количество пользователей онлайн, больше времени в среднем проводит пользователь в игре, больше сессий в среднем, \n",
    "больше просмотров рекламы, выше средний чек\n",
    "\n",
    "У второй игры выше конверсия в первый платеж\n",
    "\n",
    "\"\"\""
   ]
  }
 ],
 "metadata": {
  "kernelspec": {
   "display_name": "Python 3",
   "language": "python",
   "name": "python3"
  },
  "language_info": {
   "codemirror_mode": {
    "name": "ipython",
    "version": 3
   },
   "file_extension": ".py",
   "mimetype": "text/x-python",
   "name": "python",
   "nbconvert_exporter": "python",
   "pygments_lexer": "ipython3",
   "version": "3.9.6"
  },
  "orig_nbformat": 4
 },
 "nbformat": 4,
 "nbformat_minor": 2
}
