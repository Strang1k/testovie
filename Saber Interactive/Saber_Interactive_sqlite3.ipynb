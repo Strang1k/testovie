{
 "cells": [
  {
   "cell_type": "code",
   "execution_count": 111,
   "metadata": {},
   "outputs": [],
   "source": [
    "import sqlite3"
   ]
  },
  {
   "cell_type": "code",
   "execution_count": 112,
   "metadata": {},
   "outputs": [],
   "source": [
    "con = sqlite3.connect('test.db')\n"
   ]
  },
  {
   "cell_type": "code",
   "execution_count": 113,
   "metadata": {},
   "outputs": [
    {
     "name": "stdout",
     "output_type": "stream",
     "text": [
      "[('history',)]\n"
     ]
    }
   ],
   "source": [
    "cursor = con.cursor()\n",
    "\n",
    "cursor.execute(\"\"\"\n",
    "                SELECT name \n",
    "                FROM sqlite_master \n",
    "                WHERE type='table' \n",
    "                    \"\"\")\n",
    "\n",
    "\n",
    "tables = cursor.fetchall()\n",
    "print(tables)"
   ]
  },
  {
   "cell_type": "code",
   "execution_count": 114,
   "metadata": {},
   "outputs": [
    {
     "name": "stdout",
     "output_type": "stream",
     "text": [
      "(0, 'issue_key', 'text')\n",
      "(1, 'status', 'text')\n",
      "(2, 'minutes_in_status', 'int4')\n",
      "(3, 'previous_status', 'text')\n",
      "(4, 'started_at', 'TIMESTAMP(35)')\n",
      "(5, 'ended_at', 'TIMESTAMP(35)')\n"
     ]
    }
   ],
   "source": [
    "with con:\n",
    "    data = con.execute(\"\"\"\n",
    "                        PRAGMA table_info(history);\n",
    "                       \"\"\")\n",
    "    for row in data:\n",
    "        print(row[:3])"
   ]
  },
  {
   "attachments": {},
   "cell_type": "markdown",
   "metadata": {},
   "source": [
    "# SQL 1"
   ]
  },
  {
   "cell_type": "code",
   "execution_count": 115,
   "metadata": {},
   "outputs": [
    {
     "name": "stdout",
     "output_type": "stream",
     "text": [
      "('A', 247.33)\n",
      "('B', 280.87)\n",
      "('C', 594.79)\n",
      "('D', 841.46)\n",
      "('E', 817.17)\n"
     ]
    }
   ],
   "source": [
    "with con:\n",
    "    data = con.execute(\"\"\"\n",
    "             \n",
    "            SELECT \n",
    "                DISTINCT issue_group,\n",
    "                ROUND(avg(sum_h_per_issue) OVER (partition by issue_group ), 2) as avg_hours_spent\n",
    "\n",
    "            FROM\n",
    "            (\n",
    "                SELECT DISTINCT issue_key, issue_group, sum_h_per_issue\n",
    "            \n",
    "            \n",
    "                FROM (\n",
    "                \n",
    "                SELECT issue_key, status, minutes_in_status,\n",
    "                SUM((ended_at - started_at)/3600000) OVER (partition by issue_key) as sum_h_per_issue,\n",
    "                SUBSTR(issue_key, 1, 1) as issue_group\n",
    "                \n",
    "\n",
    "                FROM history\n",
    "\n",
    "                WHERE status = 'Open'\n",
    "\n",
    "                )tmp1\n",
    "\n",
    "            )tmp2\n",
    "\n",
    "                         \"\"\")\n",
    "    for row in data:\n",
    "        print(row)\n",
    "\n",
    "# Структура\n",
    "\n",
    "# получаем сумму часов в статусе 'open' потраченных на каждую отдельную задачу -> \n",
    "# -> суммы уже посчитаны, и дальше нам нужны только уникальные значения для рассчетов ->\n",
    "# -> оставляем уникальные группы, считаем среднее для каждой группы"
   ]
  },
  {
   "attachments": {},
   "cell_type": "markdown",
   "metadata": {},
   "source": [
    "# SQL 2"
   ]
  },
  {
   "cell_type": "code",
   "execution_count": 116,
   "metadata": {},
   "outputs": [
    {
     "name": "stdout",
     "output_type": "stream",
     "text": [
      "('A-31053', 'Open', '2020-10-21 15:08:13')\n",
      "('A-32133', 'Open', '2021-04-29 09:55:29')\n",
      "('A-37761', 'In Owl', '2022-12-28 08:18:46')\n",
      "('A-42030', 'Open', '2022-09-01 15:04:15')\n",
      "('A-44107', 'In Owl', '2022-12-26 18:31:23')\n",
      "('A-44901', 'In Owl', '2022-12-27 12:11:12')\n",
      "('A-44916', 'Blocked', '2022-09-15 09:17:04')\n",
      "('A-47808', 'Reopened', '2022-10-31 08:54:08')\n",
      "('A-49140', 'Reopened', '2022-12-29 11:03:37')\n",
      "('A-49829', 'In Review', '2022-10-20 10:13:04')\n",
      "('A-50359', 'In Owl', '2022-11-15 06:51:48')\n",
      "('A-50422', 'In Testing', '2022-11-01 11:56:49')\n",
      "('A-51466', 'Waiting for integration', '2022-11-14 12:42:43')\n",
      "('A-52727', 'Waiting for integration', '2022-12-27 12:11:11')\n",
      "('A-52884', 'Blocked', '2022-11-28 15:12:43')\n",
      "('A-53409', 'Waiting for integration', '2022-12-12 15:08:39')\n",
      "('A-53444', 'Open', '2022-12-07 09:19:27')\n",
      "('A-53602', 'Waiting for integration', '2022-12-26 13:03:29')\n",
      "('A-53676', 'Waiting for integration', '2022-12-26 18:31:22')\n",
      "('A-54115', 'Open', '2022-12-20 17:57:23')\n",
      "('A-54133', 'Waiting for integration', '2022-12-26 14:47:37')\n",
      "('A-54460', 'In Progress', '2022-12-28 13:08:03')\n",
      "('A-54472', 'Blocked', '2023-01-09 13:10:12')\n",
      "('A-54508', 'In Progress', '2022-12-29 10:35:40')\n",
      "('A-54511', 'In Progress', '2022-12-29 11:35:16')\n",
      "('A-54645', 'In Progress', '2023-01-10 07:11:23')\n",
      "('B-4645', 'Open', '2022-12-08 16:18:44')\n",
      "('C-1', 'In Progress', '2019-06-04 14:38:59')\n",
      "('C-20610', 'Reopened', '2021-11-23 14:44:58')\n",
      "('C-21435', 'Open', '2022-04-07 12:15:34')\n",
      "('C-39466', 'In Progress', '2022-11-16 09:50:38')\n",
      "('C-40460', 'In Testing', '2022-12-07 08:25:32')\n",
      "('C-42088', 'In Testing', '2022-12-28 15:34:50')\n",
      "('D-4951', 'In Owl', '2022-12-21 10:17:40')\n",
      "('D-5051', 'Open', '2022-03-14 09:30:51')\n",
      "('D-5310', 'Open', '2022-04-18 07:48:07')\n",
      "('D-5518', 'In Progress', '2022-10-27 11:40:53')\n",
      "('D-6832', 'In Testing', '2022-12-09 10:11:28')\n",
      "('D-8', 'Open', '2019-12-27 11:34:47')\n",
      "('E-66462', 'In Testing', '2022-12-28 13:08:04')\n"
     ]
    }
   ],
   "source": [
    "with con:\n",
    "    data = con.execute(\"\"\"\n",
    "\n",
    "                        \n",
    "            SELECT issue_key, status, DATETIME(started_at / 1000, 'unixepoch')\n",
    "\n",
    "            FROM\n",
    "            (\n",
    "                SELECT *,\n",
    "                ROW_NUMBER() OVER (PARTITION BY issue_key ORDER BY started_at DESC) AS rn\n",
    "                \n",
    "\n",
    "                FROM history\n",
    "\n",
    "                WHERE DATETIME(started_at / 1000, 'unixepoch')  < date('now') --место для указания даты\n",
    "            \n",
    "            )tmp1\n",
    "            \n",
    "            WHERE rn = 1\n",
    "            and status <> 'Closed'\n",
    "            and status <> 'Resolved'\n",
    "\n",
    "                       \"\"\")\n",
    "    for row in data:\n",
    "        print(row)\n",
    "\n",
    "# Структура\n",
    "\n",
    "# Для каждой отдельной задачи находим количество строк, в которых фигурирует задача\n",
    "# и, сортируя по времени в обратном порядке, в  качестве 1 получаем последнюю запись ->\n",
    "# -> оставляем задачу, статус, время в привычном виде\n",
    "\n",
    "#указал место, где нужно менять дату, чтобы можно было смотреть на статус задач в прошлом\n",
    "#поддерживается как формат обычной даты:  '2022-11-28' \n",
    "#так и формат со временем, полный формат: 'yyyy-mm-dd hh:mm:ss'"
   ]
  }
 ],
 "metadata": {
  "kernelspec": {
   "display_name": "Python 3",
   "language": "python",
   "name": "python3"
  },
  "language_info": {
   "codemirror_mode": {
    "name": "ipython",
    "version": 3
   },
   "file_extension": ".py",
   "mimetype": "text/x-python",
   "name": "python",
   "nbconvert_exporter": "python",
   "pygments_lexer": "ipython3",
   "version": "3.9.6"
  },
  "orig_nbformat": 4
 },
 "nbformat": 4,
 "nbformat_minor": 2
}
