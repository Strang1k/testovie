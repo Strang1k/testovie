{
 "cells": [
  {
   "cell_type": "code",
   "execution_count": 1,
   "metadata": {},
   "outputs": [],
   "source": [
    "import pandas as pd\n",
    "import numpy as np\n",
    "import matplotlib.pyplot as plt\n",
    "import seaborn as sns"
   ]
  },
  {
   "cell_type": "code",
   "execution_count": 2,
   "metadata": {},
   "outputs": [],
   "source": [
    "df = pd.read_csv('data_test_ask.csv')"
   ]
  },
  {
   "cell_type": "code",
   "execution_count": 3,
   "metadata": {},
   "outputs": [],
   "source": [
    "sns.set(rc={'figure.figsize':(40,25)})"
   ]
  },
  {
   "cell_type": "code",
   "execution_count": 4,
   "metadata": {},
   "outputs": [],
   "source": [
    "dff = df.copy()"
   ]
  },
  {
   "cell_type": "code",
   "execution_count": 20,
   "metadata": {},
   "outputs": [],
   "source": [
    "rg = dff.query(\"approved == 0\")"
   ]
  },
  {
   "cell_type": "code",
   "execution_count": 22,
   "metadata": {},
   "outputs": [
    {
     "data": {
      "text/html": [
       "<div>\n",
       "<style scoped>\n",
       "    .dataframe tbody tr th:only-of-type {\n",
       "        vertical-align: middle;\n",
       "    }\n",
       "\n",
       "    .dataframe tbody tr th {\n",
       "        vertical-align: top;\n",
       "    }\n",
       "\n",
       "    .dataframe thead th {\n",
       "        text-align: right;\n",
       "    }\n",
       "</style>\n",
       "<table border=\"1\" class=\"dataframe\">\n",
       "  <thead>\n",
       "    <tr style=\"text-align: right;\">\n",
       "      <th></th>\n",
       "      <th>order_id</th>\n",
       "      <th>cred_sum_cc_all</th>\n",
       "      <th>mfo_inqs_count_month</th>\n",
       "      <th>all_closed_creds_sum_all</th>\n",
       "      <th>bank_inqs_count_quarter</th>\n",
       "      <th>cred_max_overdue_max_ly</th>\n",
       "      <th>all_active_creds_sum_all</th>\n",
       "      <th>mfo_last_days_all</th>\n",
       "      <th>cred_sum_cc_ly</th>\n",
       "      <th>cred_sum_debt_all_all</th>\n",
       "      <th>...</th>\n",
       "      <th>cred_max_overdue_max_3lm</th>\n",
       "      <th>mfo_closed_count_ly</th>\n",
       "      <th>cred_sum_overdue_cc_all</th>\n",
       "      <th>count_overdue_all_3lm</th>\n",
       "      <th>all_creds_count_lm</th>\n",
       "      <th>work_code</th>\n",
       "      <th>month_income</th>\n",
       "      <th>region</th>\n",
       "      <th>bad</th>\n",
       "      <th>approved</th>\n",
       "    </tr>\n",
       "  </thead>\n",
       "  <tbody>\n",
       "    <tr>\n",
       "      <th>0</th>\n",
       "      <td>5498546</td>\n",
       "      <td>0.0</td>\n",
       "      <td>0</td>\n",
       "      <td>40000</td>\n",
       "      <td>0</td>\n",
       "      <td>0.0</td>\n",
       "      <td>3000</td>\n",
       "      <td>600</td>\n",
       "      <td>0.0</td>\n",
       "      <td>0.0</td>\n",
       "      <td>...</td>\n",
       "      <td>0.0</td>\n",
       "      <td>0</td>\n",
       "      <td>0.00</td>\n",
       "      <td>0</td>\n",
       "      <td>0</td>\n",
       "      <td>3</td>\n",
       "      <td>50000</td>\n",
       "      <td>46</td>\n",
       "      <td>NaN</td>\n",
       "      <td>0</td>\n",
       "    </tr>\n",
       "    <tr>\n",
       "      <th>1</th>\n",
       "      <td>5498604</td>\n",
       "      <td>1500.0</td>\n",
       "      <td>0</td>\n",
       "      <td>23000</td>\n",
       "      <td>0</td>\n",
       "      <td>0.0</td>\n",
       "      <td>0</td>\n",
       "      <td>10000</td>\n",
       "      <td>0.0</td>\n",
       "      <td>0.0</td>\n",
       "      <td>...</td>\n",
       "      <td>0.0</td>\n",
       "      <td>0</td>\n",
       "      <td>0.00</td>\n",
       "      <td>0</td>\n",
       "      <td>0</td>\n",
       "      <td>3</td>\n",
       "      <td>35000</td>\n",
       "      <td>17</td>\n",
       "      <td>NaN</td>\n",
       "      <td>0</td>\n",
       "    </tr>\n",
       "    <tr>\n",
       "      <th>2</th>\n",
       "      <td>5498609</td>\n",
       "      <td>0.1</td>\n",
       "      <td>0</td>\n",
       "      <td>18000</td>\n",
       "      <td>3</td>\n",
       "      <td>0.0</td>\n",
       "      <td>10000</td>\n",
       "      <td>10000</td>\n",
       "      <td>0.1</td>\n",
       "      <td>10000.0</td>\n",
       "      <td>...</td>\n",
       "      <td>0.0</td>\n",
       "      <td>0</td>\n",
       "      <td>0.00</td>\n",
       "      <td>0</td>\n",
       "      <td>2</td>\n",
       "      <td>3</td>\n",
       "      <td>35000</td>\n",
       "      <td>58</td>\n",
       "      <td>NaN</td>\n",
       "      <td>0</td>\n",
       "    </tr>\n",
       "    <tr>\n",
       "      <th>3</th>\n",
       "      <td>5498645</td>\n",
       "      <td>5000.0</td>\n",
       "      <td>0</td>\n",
       "      <td>313000</td>\n",
       "      <td>0</td>\n",
       "      <td>0.0</td>\n",
       "      <td>0</td>\n",
       "      <td>10000</td>\n",
       "      <td>0.0</td>\n",
       "      <td>0.0</td>\n",
       "      <td>...</td>\n",
       "      <td>0.0</td>\n",
       "      <td>0</td>\n",
       "      <td>4923.97</td>\n",
       "      <td>0</td>\n",
       "      <td>0</td>\n",
       "      <td>5</td>\n",
       "      <td>35000</td>\n",
       "      <td>4</td>\n",
       "      <td>NaN</td>\n",
       "      <td>0</td>\n",
       "    </tr>\n",
       "    <tr>\n",
       "      <th>4</th>\n",
       "      <td>5498647</td>\n",
       "      <td>0.0</td>\n",
       "      <td>0</td>\n",
       "      <td>0</td>\n",
       "      <td>1</td>\n",
       "      <td>0.0</td>\n",
       "      <td>0</td>\n",
       "      <td>10000</td>\n",
       "      <td>0.0</td>\n",
       "      <td>0.0</td>\n",
       "      <td>...</td>\n",
       "      <td>0.0</td>\n",
       "      <td>0</td>\n",
       "      <td>0.00</td>\n",
       "      <td>0</td>\n",
       "      <td>0</td>\n",
       "      <td>5</td>\n",
       "      <td>35000</td>\n",
       "      <td>34</td>\n",
       "      <td>NaN</td>\n",
       "      <td>0</td>\n",
       "    </tr>\n",
       "    <tr>\n",
       "      <th>...</th>\n",
       "      <td>...</td>\n",
       "      <td>...</td>\n",
       "      <td>...</td>\n",
       "      <td>...</td>\n",
       "      <td>...</td>\n",
       "      <td>...</td>\n",
       "      <td>...</td>\n",
       "      <td>...</td>\n",
       "      <td>...</td>\n",
       "      <td>...</td>\n",
       "      <td>...</td>\n",
       "      <td>...</td>\n",
       "      <td>...</td>\n",
       "      <td>...</td>\n",
       "      <td>...</td>\n",
       "      <td>...</td>\n",
       "      <td>...</td>\n",
       "      <td>...</td>\n",
       "      <td>...</td>\n",
       "      <td>...</td>\n",
       "      <td>...</td>\n",
       "    </tr>\n",
       "    <tr>\n",
       "      <th>23110</th>\n",
       "      <td>6697091</td>\n",
       "      <td>0.0</td>\n",
       "      <td>0</td>\n",
       "      <td>0</td>\n",
       "      <td>2</td>\n",
       "      <td>0.0</td>\n",
       "      <td>9000</td>\n",
       "      <td>10000</td>\n",
       "      <td>0.0</td>\n",
       "      <td>1000.0</td>\n",
       "      <td>...</td>\n",
       "      <td>0.0</td>\n",
       "      <td>0</td>\n",
       "      <td>0.00</td>\n",
       "      <td>0</td>\n",
       "      <td>0</td>\n",
       "      <td>3</td>\n",
       "      <td>20000</td>\n",
       "      <td>60</td>\n",
       "      <td>NaN</td>\n",
       "      <td>0</td>\n",
       "    </tr>\n",
       "    <tr>\n",
       "      <th>23111</th>\n",
       "      <td>6697173</td>\n",
       "      <td>0.0</td>\n",
       "      <td>0</td>\n",
       "      <td>0</td>\n",
       "      <td>3</td>\n",
       "      <td>0.0</td>\n",
       "      <td>0</td>\n",
       "      <td>700</td>\n",
       "      <td>0.0</td>\n",
       "      <td>0.0</td>\n",
       "      <td>...</td>\n",
       "      <td>0.0</td>\n",
       "      <td>0</td>\n",
       "      <td>0.00</td>\n",
       "      <td>0</td>\n",
       "      <td>0</td>\n",
       "      <td>3</td>\n",
       "      <td>35000</td>\n",
       "      <td>60</td>\n",
       "      <td>NaN</td>\n",
       "      <td>0</td>\n",
       "    </tr>\n",
       "    <tr>\n",
       "      <th>23112</th>\n",
       "      <td>6697212</td>\n",
       "      <td>0.0</td>\n",
       "      <td>1</td>\n",
       "      <td>25000</td>\n",
       "      <td>3</td>\n",
       "      <td>9500.0</td>\n",
       "      <td>18000</td>\n",
       "      <td>0</td>\n",
       "      <td>0.0</td>\n",
       "      <td>0.0</td>\n",
       "      <td>...</td>\n",
       "      <td>9500.0</td>\n",
       "      <td>5</td>\n",
       "      <td>0.00</td>\n",
       "      <td>1</td>\n",
       "      <td>0</td>\n",
       "      <td>5</td>\n",
       "      <td>20000</td>\n",
       "      <td>7</td>\n",
       "      <td>NaN</td>\n",
       "      <td>0</td>\n",
       "    </tr>\n",
       "    <tr>\n",
       "      <th>23113</th>\n",
       "      <td>6697215</td>\n",
       "      <td>1000.0</td>\n",
       "      <td>0</td>\n",
       "      <td>64000</td>\n",
       "      <td>2</td>\n",
       "      <td>0.0</td>\n",
       "      <td>1000</td>\n",
       "      <td>400</td>\n",
       "      <td>0.0</td>\n",
       "      <td>0.0</td>\n",
       "      <td>...</td>\n",
       "      <td>0.0</td>\n",
       "      <td>0</td>\n",
       "      <td>0.00</td>\n",
       "      <td>0</td>\n",
       "      <td>0</td>\n",
       "      <td>4</td>\n",
       "      <td>35000</td>\n",
       "      <td>94</td>\n",
       "      <td>NaN</td>\n",
       "      <td>0</td>\n",
       "    </tr>\n",
       "    <tr>\n",
       "      <th>23114</th>\n",
       "      <td>6697264</td>\n",
       "      <td>0.0</td>\n",
       "      <td>3</td>\n",
       "      <td>52000</td>\n",
       "      <td>0</td>\n",
       "      <td>7000.0</td>\n",
       "      <td>18000</td>\n",
       "      <td>0</td>\n",
       "      <td>0.0</td>\n",
       "      <td>6000.0</td>\n",
       "      <td>...</td>\n",
       "      <td>0.0</td>\n",
       "      <td>13</td>\n",
       "      <td>0.00</td>\n",
       "      <td>0</td>\n",
       "      <td>1</td>\n",
       "      <td>3</td>\n",
       "      <td>35000</td>\n",
       "      <td>46</td>\n",
       "      <td>NaN</td>\n",
       "      <td>0</td>\n",
       "    </tr>\n",
       "  </tbody>\n",
       "</table>\n",
       "<p>15847 rows × 25 columns</p>\n",
       "</div>"
      ],
      "text/plain": [
       "       order_id  cred_sum_cc_all  mfo_inqs_count_month  \\\n",
       "0       5498546              0.0                     0   \n",
       "1       5498604           1500.0                     0   \n",
       "2       5498609              0.1                     0   \n",
       "3       5498645           5000.0                     0   \n",
       "4       5498647              0.0                     0   \n",
       "...         ...              ...                   ...   \n",
       "23110   6697091              0.0                     0   \n",
       "23111   6697173              0.0                     0   \n",
       "23112   6697212              0.0                     1   \n",
       "23113   6697215           1000.0                     0   \n",
       "23114   6697264              0.0                     3   \n",
       "\n",
       "       all_closed_creds_sum_all  bank_inqs_count_quarter  \\\n",
       "0                         40000                        0   \n",
       "1                         23000                        0   \n",
       "2                         18000                        3   \n",
       "3                        313000                        0   \n",
       "4                             0                        1   \n",
       "...                         ...                      ...   \n",
       "23110                         0                        2   \n",
       "23111                         0                        3   \n",
       "23112                     25000                        3   \n",
       "23113                     64000                        2   \n",
       "23114                     52000                        0   \n",
       "\n",
       "       cred_max_overdue_max_ly  all_active_creds_sum_all  mfo_last_days_all  \\\n",
       "0                          0.0                      3000                600   \n",
       "1                          0.0                         0              10000   \n",
       "2                          0.0                     10000              10000   \n",
       "3                          0.0                         0              10000   \n",
       "4                          0.0                         0              10000   \n",
       "...                        ...                       ...                ...   \n",
       "23110                      0.0                      9000              10000   \n",
       "23111                      0.0                         0                700   \n",
       "23112                   9500.0                     18000                  0   \n",
       "23113                      0.0                      1000                400   \n",
       "23114                   7000.0                     18000                  0   \n",
       "\n",
       "       cred_sum_cc_ly  cred_sum_debt_all_all  ...  cred_max_overdue_max_3lm  \\\n",
       "0                 0.0                    0.0  ...                       0.0   \n",
       "1                 0.0                    0.0  ...                       0.0   \n",
       "2                 0.1                10000.0  ...                       0.0   \n",
       "3                 0.0                    0.0  ...                       0.0   \n",
       "4                 0.0                    0.0  ...                       0.0   \n",
       "...               ...                    ...  ...                       ...   \n",
       "23110             0.0                 1000.0  ...                       0.0   \n",
       "23111             0.0                    0.0  ...                       0.0   \n",
       "23112             0.0                    0.0  ...                    9500.0   \n",
       "23113             0.0                    0.0  ...                       0.0   \n",
       "23114             0.0                 6000.0  ...                       0.0   \n",
       "\n",
       "       mfo_closed_count_ly  cred_sum_overdue_cc_all  count_overdue_all_3lm  \\\n",
       "0                        0                     0.00                      0   \n",
       "1                        0                     0.00                      0   \n",
       "2                        0                     0.00                      0   \n",
       "3                        0                  4923.97                      0   \n",
       "4                        0                     0.00                      0   \n",
       "...                    ...                      ...                    ...   \n",
       "23110                    0                     0.00                      0   \n",
       "23111                    0                     0.00                      0   \n",
       "23112                    5                     0.00                      1   \n",
       "23113                    0                     0.00                      0   \n",
       "23114                   13                     0.00                      0   \n",
       "\n",
       "       all_creds_count_lm  work_code  month_income  region  bad  approved  \n",
       "0                       0          3         50000      46  NaN         0  \n",
       "1                       0          3         35000      17  NaN         0  \n",
       "2                       2          3         35000      58  NaN         0  \n",
       "3                       0          5         35000       4  NaN         0  \n",
       "4                       0          5         35000      34  NaN         0  \n",
       "...                   ...        ...           ...     ...  ...       ...  \n",
       "23110                   0          3         20000      60  NaN         0  \n",
       "23111                   0          3         35000      60  NaN         0  \n",
       "23112                   0          5         20000       7  NaN         0  \n",
       "23113                   0          4         35000      94  NaN         0  \n",
       "23114                   1          3         35000      46  NaN         0  \n",
       "\n",
       "[15847 rows x 25 columns]"
      ]
     },
     "execution_count": 22,
     "metadata": {},
     "output_type": "execute_result"
    }
   ],
   "source": [
    "rg"
   ]
  },
  {
   "cell_type": "code",
   "execution_count": 14,
   "metadata": {},
   "outputs": [],
   "source": [
    "dff[['all_closed_creds_sum_all', 'all_active_creds_sum_all', 'cred_sum_debt_all_all', ]] = dff[['all_closed_creds_sum_all', 'all_active_creds_sum_all', 'cred_sum_debt_all_all', ]].round(decimals=-3)\n",
    "dff[['mfo_last_days_all', 'cred_max_overdue_max_3lm', 'cred_day_overdue_all_sum_all']] = dff[['mfo_last_days_all', 'cred_max_overdue_max_3lm', 'cred_day_overdue_all_sum_all']].round(decimals=-2)"
   ]
  },
  {
   "cell_type": "code",
   "execution_count": null,
   "metadata": {},
   "outputs": [],
   "source": [
    "#dff.value_counts()"
   ]
  },
  {
   "cell_type": "code",
   "execution_count": 7,
   "metadata": {},
   "outputs": [],
   "source": [
    "#df.iloc[:100, 1:] #первая сотня строк без id"
   ]
  },
  {
   "cell_type": "code",
   "execution_count": 6,
   "metadata": {},
   "outputs": [],
   "source": [
    "bad = np.where(dff['bad'] == 1)[0] #1963"
   ]
  },
  {
   "cell_type": "code",
   "execution_count": 7,
   "metadata": {},
   "outputs": [],
   "source": [
    "good = np.where(dff['bad'] == 0)[0] #5306"
   ]
  },
  {
   "cell_type": "code",
   "execution_count": 8,
   "metadata": {},
   "outputs": [],
   "source": [
    "approved = np.where(dff['approved'] == 1)[0] #7269"
   ]
  },
  {
   "cell_type": "code",
   "execution_count": 9,
   "metadata": {},
   "outputs": [
    {
     "data": {
      "text/plain": [
       "(23116, 25)"
      ]
     },
     "execution_count": 9,
     "metadata": {},
     "output_type": "execute_result"
    }
   ],
   "source": [
    "df.shape"
   ]
  },
  {
   "cell_type": "code",
   "execution_count": 11,
   "metadata": {},
   "outputs": [],
   "source": [
    "#df.iloc[list(np.where(dff['all_active_creds_sum_all'] == dff['cred_sum_debt_all_all'])[0])]#8675 всего #корр = 1 у \"денежная сумма всех активных кредитов\" и \"Сумма задолженности по всем кредитам\"\n"
   ]
  },
  {
   "cell_type": "code",
   "execution_count": 9,
   "metadata": {},
   "outputs": [],
   "source": [
    "not_a_single_payment = np.where((dff['all_active_creds_sum_all'] == dff['cred_sum_debt_all_all']))[0]"
   ]
  },
  {
   "cell_type": "code",
   "execution_count": null,
   "metadata": {},
   "outputs": [],
   "source": [
    "df.iloc[list(np.where(  df.iloc[not_a_single_payment]['approved'] == 1)[0])].describe()"
   ]
  },
  {
   "cell_type": "code",
   "execution_count": 91,
   "metadata": {},
   "outputs": [
    {
     "data": {
      "text/plain": [
       "all_active_creds_sum_all    205788.184921\n",
       "all_closed_creds_sum_all    228474.521651\n",
       "mfo_cred_mean_sum_3lm         7890.958239\n",
       "all_closed_creds_sum_ly      60047.396332\n",
       "mfo_inqs_count_month             2.511462\n",
       "all_creds_count_lm               2.477331\n",
       "cred_sum_cc_ly               25991.866516\n",
       "dtype: float64"
      ]
     },
     "execution_count": 91,
     "metadata": {},
     "output_type": "execute_result"
    }
   ],
   "source": [
    "zvezda = df.iloc[list(np.where(df['bad'] == 1)[0])]\n",
    "zvezda[[\n",
    "    'all_active_creds_sum_all',\n",
    "    'all_closed_creds_sum_all',\n",
    "    'mfo_cred_mean_sum_3lm',\n",
    "    'all_closed_creds_sum_ly',\n",
    "    'mfo_inqs_count_month',\n",
    "    'all_creds_count_lm',\n",
    "    'cred_sum_cc_ly'\n",
    "]].mean()"
   ]
  },
  {
   "cell_type": "markdown",
   "metadata": {},
   "source": [
    "***"
   ]
  },
  {
   "cell_type": "markdown",
   "metadata": {},
   "source": [
    "Посмотреть delay_more_sum_all и all_creds_count_all"
   ]
  },
  {
   "cell_type": "code",
   "execution_count": 149,
   "metadata": {},
   "outputs": [],
   "source": [
    "xer = dff.iloc[list(np.where(dff['all_creds_count_all'] == 1))[0]]"
   ]
  },
  {
   "cell_type": "code",
   "execution_count": 150,
   "metadata": {},
   "outputs": [
    {
     "data": {
      "text/plain": [
       "(3067, 25)"
      ]
     },
     "execution_count": 150,
     "metadata": {},
     "output_type": "execute_result"
    }
   ],
   "source": [
    "xer.shape"
   ]
  },
  {
   "cell_type": "code",
   "execution_count": 177,
   "metadata": {},
   "outputs": [
    {
     "data": {
      "text/plain": [
       "all_creds_count_all  approved\n",
       "1                    0           2967\n",
       "2                    0           2315\n",
       "3                    0           1684\n",
       "4                    0           1351\n",
       "5                    0           1109\n",
       "                                 ... \n",
       "125                  0              1\n",
       "124                  1              1\n",
       "123                  1              1\n",
       "120                  0              1\n",
       "546                  1              1\n",
       "Length: 289, dtype: int64"
      ]
     },
     "execution_count": 177,
     "metadata": {},
     "output_type": "execute_result"
    }
   ],
   "source": [
    "df[['all_creds_count_all', 'approved']].value_counts()"
   ]
  },
  {
   "cell_type": "code",
   "execution_count": null,
   "metadata": {},
   "outputs": [],
   "source": []
  },
  {
   "cell_type": "code",
   "execution_count": 192,
   "metadata": {},
   "outputs": [
    {
     "data": {
      "text/plain": [
       "<matplotlib.collections.LineCollection at 0x2ac20cc3b80>"
      ]
     },
     "execution_count": 192,
     "metadata": {},
     "output_type": "execute_result"
    },
    {
     "data": {
      "image/png": "[encoded data removed]",
      "text/plain": [
       "<Figure size 2880x1800 with 1 Axes>"
      ]
     },
     "metadata": {},
     "output_type": "display_data"
    }
   ],
   "source": [
    "ax = sns.barplot(x=df['all_creds_count_all'], y=df['approved'], ci=None) #ci - confidence interval\n",
    "ax.set_xticklabels(ax.get_xticklabels(), size=8.5, rotation = 55)\n",
    "ax.vlines([10, 20, 30, 40, 50, 60, 70, 80, 90, 100], ymin=0, ymax = 1, colors='black')\n",
    "ax.hlines([0.5], xmin=0, xmax = 180)"
   ]
  },
  {
   "cell_type": "code",
   "execution_count": 91,
   "metadata": {},
   "outputs": [
    {
     "data": {
      "text/plain": [
       "<seaborn.axisgrid.PairGrid at 0x2ac000d0b80>"
      ]
     },
     "execution_count": 91,
     "metadata": {},
     "output_type": "execute_result"
    },
    {
     "data": {
      "image/png": "[encoded data removed]",
      "text/plain": [
       "<Figure size 1206.97x1152 with 4 Axes>"
      ]
     },
     "metadata": {},
     "output_type": "display_data"
    }
   ],
   "source": [
    "sns.pairplot(dff,\n",
    "    hue='bad',\n",
    "    y_vars=['delay_more_sum_all', 'all_creds_count_all'],\n",
    "    x_vars=['bad', 'approved'],\n",
    "    kind='reg',\n",
    "    palette='bright',\n",
    "    height=8)"
   ]
  },
  {
   "cell_type": "markdown",
   "metadata": {},
   "source": [
    "***"
   ]
  },
  {
   "cell_type": "code",
   "execution_count": 95,
   "metadata": {},
   "outputs": [
    {
     "data": {
      "text/plain": [
       "all_active_creds_sum_all       22.5\n",
       "all_closed_creds_sum_all    14613.0\n",
       "mfo_cred_mean_sum_3lm           0.0\n",
       "all_closed_creds_sum_ly      7000.0\n",
       "mfo_inqs_count_month            0.0\n",
       "all_creds_count_lm              0.0\n",
       "cred_sum_cc_ly                  0.0\n",
       "dtype: float64"
      ]
     },
     "execution_count": 95,
     "metadata": {},
     "output_type": "execute_result"
    }
   ],
   "source": [
    "kopa = df.iloc[list(np.where(df['bad'] == 0)[0])].median() - df.iloc[list(np.where(df['bad'] == 1)[0])].median()\n",
    "kopa[[\n",
    "    'all_active_creds_sum_all',\n",
    "    'all_closed_creds_sum_all',\n",
    "    'mfo_cred_mean_sum_3lm',\n",
    "    'all_closed_creds_sum_ly',\n",
    "    'mfo_inqs_count_month',\n",
    "    'all_creds_count_lm',\n",
    "    'cred_sum_cc_ly'\n",
    "]]"
   ]
  },
  {
   "cell_type": "code",
   "execution_count": 13,
   "metadata": {},
   "outputs": [],
   "source": [
    "#len(    list( set(not_a_single_payment).intersection(bad)) ) #список совпадений x и y (невернувших кредит среди тех, у кого ни одного платежа по текущим кредитам)"
   ]
  },
  {
   "cell_type": "code",
   "execution_count": 14,
   "metadata": {},
   "outputs": [],
   "source": [
    "#len(    list(set(not_a_single_payment).intersection(good))  ) #вернувшие кредит среди тех, у кого ни одного платежа по текущим кредитам"
   ]
  },
  {
   "cell_type": "code",
   "execution_count": 15,
   "metadata": {},
   "outputs": [],
   "source": [
    "# sns.violinplot(data=df.iloc[:, 1:], x='cred_sum_cc_all', y='all_closed_creds_sum_all', \n",
    "#     hue='approved', height=8.27, aspect=11.7/8.27) #тоже плохо, но пойдет как шаблон"
   ]
  },
  {
   "cell_type": "code",
   "execution_count": null,
   "metadata": {},
   "outputs": [],
   "source": [
    "sns.heatmap(df.iloc[    list(np.where(dff['approved'] == 1)[0])  \n",
    "    ].corr(), vmin=0.35, annot= True, fmt='.1g')                       #где bad = 1 (кредит был выдан, просрочен)  bd = list(np.where(dff['bad'] == 1)[0])"
   ]
  },
  {
   "cell_type": "markdown",
   "metadata": {},
   "source": [
    "Кредит выдан, но просрочен"
   ]
  },
  {
   "cell_type": "code",
   "execution_count": 50,
   "metadata": {},
   "outputs": [
    {
     "data": {
      "text/plain": [
       "Index(['order_id', 'cred_sum_cc_all', 'mfo_inqs_count_month',\n",
       "       'all_closed_creds_sum_all', 'bank_inqs_count_quarter',\n",
       "       'cred_max_overdue_max_ly', 'all_active_creds_sum_all',\n",
       "       'mfo_last_days_all', 'cred_sum_cc_ly', 'cred_sum_debt_all_all',\n",
       "       'all_closed_creds_sum_ly', 'mfo_cred_mean_sum_3lm',\n",
       "       'delay_more_sum_all', 'all_creds_count_all',\n",
       "       'cred_day_overdue_all_sum_all', 'cred_max_overdue_max_3lm',\n",
       "       'mfo_closed_count_ly', 'cred_sum_overdue_cc_all',\n",
       "       'count_overdue_all_3lm', 'all_creds_count_lm', 'work_code',\n",
       "       'month_income', 'region', 'bad', 'approved'],\n",
       "      dtype='object')"
      ]
     },
     "execution_count": 50,
     "metadata": {},
     "output_type": "execute_result"
    }
   ],
   "source": [
    "df.columns"
   ]
  },
  {
   "cell_type": "code",
   "execution_count": null,
   "metadata": {},
   "outputs": [],
   "source": [
    "sns.scatterplot(x = dff['order_id'], y = dff['approved'])"
   ]
  },
  {
   "cell_type": "code",
   "execution_count": 34,
   "metadata": {},
   "outputs": [
    {
     "data": {
      "text/html": [
       "<div>\n",
       "<style scoped>\n",
       "    .dataframe tbody tr th:only-of-type {\n",
       "        vertical-align: middle;\n",
       "    }\n",
       "\n",
       "    .dataframe tbody tr th {\n",
       "        vertical-align: top;\n",
       "    }\n",
       "\n",
       "    .dataframe thead th {\n",
       "        text-align: right;\n",
       "    }\n",
       "</style>\n",
       "<table border=\"1\" class=\"dataframe\">\n",
       "  <thead>\n",
       "    <tr style=\"text-align: right;\">\n",
       "      <th></th>\n",
       "      <th>order_id</th>\n",
       "      <th>bad</th>\n",
       "      <th>approved</th>\n",
       "    </tr>\n",
       "  </thead>\n",
       "  <tbody>\n",
       "    <tr>\n",
       "      <th>0</th>\n",
       "      <td>5498546</td>\n",
       "      <td>NaN</td>\n",
       "      <td>0</td>\n",
       "    </tr>\n",
       "    <tr>\n",
       "      <th>1</th>\n",
       "      <td>5498604</td>\n",
       "      <td>NaN</td>\n",
       "      <td>0</td>\n",
       "    </tr>\n",
       "    <tr>\n",
       "      <th>2</th>\n",
       "      <td>5498609</td>\n",
       "      <td>NaN</td>\n",
       "      <td>0</td>\n",
       "    </tr>\n",
       "    <tr>\n",
       "      <th>3</th>\n",
       "      <td>5498645</td>\n",
       "      <td>NaN</td>\n",
       "      <td>0</td>\n",
       "    </tr>\n",
       "    <tr>\n",
       "      <th>4</th>\n",
       "      <td>5498647</td>\n",
       "      <td>NaN</td>\n",
       "      <td>0</td>\n",
       "    </tr>\n",
       "    <tr>\n",
       "      <th>...</th>\n",
       "      <td>...</td>\n",
       "      <td>...</td>\n",
       "      <td>...</td>\n",
       "    </tr>\n",
       "    <tr>\n",
       "      <th>23111</th>\n",
       "      <td>6697173</td>\n",
       "      <td>NaN</td>\n",
       "      <td>0</td>\n",
       "    </tr>\n",
       "    <tr>\n",
       "      <th>23112</th>\n",
       "      <td>6697212</td>\n",
       "      <td>NaN</td>\n",
       "      <td>0</td>\n",
       "    </tr>\n",
       "    <tr>\n",
       "      <th>23113</th>\n",
       "      <td>6697215</td>\n",
       "      <td>NaN</td>\n",
       "      <td>0</td>\n",
       "    </tr>\n",
       "    <tr>\n",
       "      <th>23114</th>\n",
       "      <td>6697264</td>\n",
       "      <td>NaN</td>\n",
       "      <td>0</td>\n",
       "    </tr>\n",
       "    <tr>\n",
       "      <th>23115</th>\n",
       "      <td>6697265</td>\n",
       "      <td>0.0</td>\n",
       "      <td>1</td>\n",
       "    </tr>\n",
       "  </tbody>\n",
       "</table>\n",
       "<p>23116 rows × 3 columns</p>\n",
       "</div>"
      ],
      "text/plain": [
       "       order_id  bad  approved\n",
       "0       5498546  NaN         0\n",
       "1       5498604  NaN         0\n",
       "2       5498609  NaN         0\n",
       "3       5498645  NaN         0\n",
       "4       5498647  NaN         0\n",
       "...         ...  ...       ...\n",
       "23111   6697173  NaN         0\n",
       "23112   6697212  NaN         0\n",
       "23113   6697215  NaN         0\n",
       "23114   6697264  NaN         0\n",
       "23115   6697265  0.0         1\n",
       "\n",
       "[23116 rows x 3 columns]"
      ]
     },
     "execution_count": 34,
     "metadata": {},
     "output_type": "execute_result"
    }
   ],
   "source": [
    "df[['order_id', 'bad', 'approved']] #можно выбрать несколько колонок"
   ]
  },
  {
   "cell_type": "code",
   "execution_count": null,
   "metadata": {},
   "outputs": [],
   "source": [
    "sns.scatterplot(x = df['order_id'], y = df['region'], hue=df['bad']) #видно что много одобрений у id 618**** - 624**\n",
    "plt.vlines(x=6180000, ymin=0, ymax=100, colors='black') #линии на 618\n",
    "plt.vlines(x=6420000, ymin=0, ymax=100, colors='black') # и 642 для наглядности"
   ]
  },
  {
   "cell_type": "code",
   "execution_count": null,
   "metadata": {},
   "outputs": [],
   "source": [
    "sns.pairplot(df.iloc[    list(np.where(dff['approved'] == 1)[0])  \n",
    "    ].corr(), vmin=0.35, annot= True, fmt='.1g')                 "
   ]
  },
  {
   "cell_type": "code",
   "execution_count": null,
   "metadata": {},
   "outputs": [],
   "source": [
    "sns.pairplot(df.iloc[    \n",
    "    list(np.where(dff['month_income'] < 10000)[0])  \n",
    "    ], height=8, corner=True, hue='bad')"
   ]
  },
  {
   "cell_type": "code",
   "execution_count": 184,
   "metadata": {},
   "outputs": [
    {
     "data": {
      "text/html": [
       "<div>\n",
       "<style scoped>\n",
       "    .dataframe tbody tr th:only-of-type {\n",
       "        vertical-align: middle;\n",
       "    }\n",
       "\n",
       "    .dataframe tbody tr th {\n",
       "        vertical-align: top;\n",
       "    }\n",
       "\n",
       "    .dataframe thead th {\n",
       "        text-align: right;\n",
       "    }\n",
       "</style>\n",
       "<table border=\"1\" class=\"dataframe\">\n",
       "  <thead>\n",
       "    <tr style=\"text-align: right;\">\n",
       "      <th></th>\n",
       "      <th>order_id</th>\n",
       "      <th>cred_sum_cc_all</th>\n",
       "      <th>mfo_inqs_count_month</th>\n",
       "      <th>all_closed_creds_sum_all</th>\n",
       "      <th>bank_inqs_count_quarter</th>\n",
       "      <th>cred_max_overdue_max_ly</th>\n",
       "      <th>all_active_creds_sum_all</th>\n",
       "      <th>mfo_last_days_all</th>\n",
       "      <th>cred_sum_cc_ly</th>\n",
       "      <th>cred_sum_debt_all_all</th>\n",
       "      <th>...</th>\n",
       "      <th>cred_max_overdue_max_3lm</th>\n",
       "      <th>mfo_closed_count_ly</th>\n",
       "      <th>cred_sum_overdue_cc_all</th>\n",
       "      <th>count_overdue_all_3lm</th>\n",
       "      <th>all_creds_count_lm</th>\n",
       "      <th>work_code</th>\n",
       "      <th>month_income</th>\n",
       "      <th>region</th>\n",
       "      <th>bad</th>\n",
       "      <th>approved</th>\n",
       "    </tr>\n",
       "  </thead>\n",
       "  <tbody>\n",
       "    <tr>\n",
       "      <th>84</th>\n",
       "      <td>5502219</td>\n",
       "      <td>258000.1</td>\n",
       "      <td>2</td>\n",
       "      <td>114601</td>\n",
       "      <td>8</td>\n",
       "      <td>0.00</td>\n",
       "      <td>303098</td>\n",
       "      <td>5</td>\n",
       "      <td>0.1</td>\n",
       "      <td>257236.49</td>\n",
       "      <td>...</td>\n",
       "      <td>0.00</td>\n",
       "      <td>1</td>\n",
       "      <td>0.00</td>\n",
       "      <td>0</td>\n",
       "      <td>3</td>\n",
       "      <td>3</td>\n",
       "      <td>0</td>\n",
       "      <td>50</td>\n",
       "      <td>0.0</td>\n",
       "      <td>1</td>\n",
       "    </tr>\n",
       "    <tr>\n",
       "      <th>87</th>\n",
       "      <td>5502290</td>\n",
       "      <td>0.0</td>\n",
       "      <td>0</td>\n",
       "      <td>0</td>\n",
       "      <td>0</td>\n",
       "      <td>0.00</td>\n",
       "      <td>0</td>\n",
       "      <td>9999</td>\n",
       "      <td>0.0</td>\n",
       "      <td>0.00</td>\n",
       "      <td>...</td>\n",
       "      <td>0.00</td>\n",
       "      <td>0</td>\n",
       "      <td>0.00</td>\n",
       "      <td>0</td>\n",
       "      <td>0</td>\n",
       "      <td>3</td>\n",
       "      <td>0</td>\n",
       "      <td>25</td>\n",
       "      <td>NaN</td>\n",
       "      <td>0</td>\n",
       "    </tr>\n",
       "    <tr>\n",
       "      <th>92</th>\n",
       "      <td>5502511</td>\n",
       "      <td>0.0</td>\n",
       "      <td>0</td>\n",
       "      <td>48969</td>\n",
       "      <td>0</td>\n",
       "      <td>0.00</td>\n",
       "      <td>0</td>\n",
       "      <td>9999</td>\n",
       "      <td>0.0</td>\n",
       "      <td>0.00</td>\n",
       "      <td>...</td>\n",
       "      <td>0.00</td>\n",
       "      <td>0</td>\n",
       "      <td>0.00</td>\n",
       "      <td>0</td>\n",
       "      <td>0</td>\n",
       "      <td>3</td>\n",
       "      <td>0</td>\n",
       "      <td>73</td>\n",
       "      <td>NaN</td>\n",
       "      <td>0</td>\n",
       "    </tr>\n",
       "    <tr>\n",
       "      <th>93</th>\n",
       "      <td>5502514</td>\n",
       "      <td>90000.0</td>\n",
       "      <td>3</td>\n",
       "      <td>65000</td>\n",
       "      <td>3</td>\n",
       "      <td>0.00</td>\n",
       "      <td>180000</td>\n",
       "      <td>10</td>\n",
       "      <td>0.0</td>\n",
       "      <td>165548.70</td>\n",
       "      <td>...</td>\n",
       "      <td>0.00</td>\n",
       "      <td>8</td>\n",
       "      <td>0.00</td>\n",
       "      <td>0</td>\n",
       "      <td>3</td>\n",
       "      <td>3</td>\n",
       "      <td>0</td>\n",
       "      <td>45</td>\n",
       "      <td>0.0</td>\n",
       "      <td>1</td>\n",
       "    </tr>\n",
       "    <tr>\n",
       "      <th>113</th>\n",
       "      <td>5503182</td>\n",
       "      <td>10000.0</td>\n",
       "      <td>1</td>\n",
       "      <td>2000</td>\n",
       "      <td>3</td>\n",
       "      <td>0.00</td>\n",
       "      <td>3000</td>\n",
       "      <td>6</td>\n",
       "      <td>0.0</td>\n",
       "      <td>3000.00</td>\n",
       "      <td>...</td>\n",
       "      <td>0.00</td>\n",
       "      <td>1</td>\n",
       "      <td>0.00</td>\n",
       "      <td>0</td>\n",
       "      <td>2</td>\n",
       "      <td>3</td>\n",
       "      <td>0</td>\n",
       "      <td>50</td>\n",
       "      <td>NaN</td>\n",
       "      <td>0</td>\n",
       "    </tr>\n",
       "    <tr>\n",
       "      <th>...</th>\n",
       "      <td>...</td>\n",
       "      <td>...</td>\n",
       "      <td>...</td>\n",
       "      <td>...</td>\n",
       "      <td>...</td>\n",
       "      <td>...</td>\n",
       "      <td>...</td>\n",
       "      <td>...</td>\n",
       "      <td>...</td>\n",
       "      <td>...</td>\n",
       "      <td>...</td>\n",
       "      <td>...</td>\n",
       "      <td>...</td>\n",
       "      <td>...</td>\n",
       "      <td>...</td>\n",
       "      <td>...</td>\n",
       "      <td>...</td>\n",
       "      <td>...</td>\n",
       "      <td>...</td>\n",
       "      <td>...</td>\n",
       "      <td>...</td>\n",
       "    </tr>\n",
       "    <tr>\n",
       "      <th>21445</th>\n",
       "      <td>6621709</td>\n",
       "      <td>15000.0</td>\n",
       "      <td>0</td>\n",
       "      <td>0</td>\n",
       "      <td>2</td>\n",
       "      <td>0.00</td>\n",
       "      <td>0</td>\n",
       "      <td>9999</td>\n",
       "      <td>0.0</td>\n",
       "      <td>0.00</td>\n",
       "      <td>...</td>\n",
       "      <td>0.00</td>\n",
       "      <td>0</td>\n",
       "      <td>0.00</td>\n",
       "      <td>0</td>\n",
       "      <td>0</td>\n",
       "      <td>3</td>\n",
       "      <td>0</td>\n",
       "      <td>52</td>\n",
       "      <td>NaN</td>\n",
       "      <td>0</td>\n",
       "    </tr>\n",
       "    <tr>\n",
       "      <th>21501</th>\n",
       "      <td>6624144</td>\n",
       "      <td>110500.0</td>\n",
       "      <td>0</td>\n",
       "      <td>87604</td>\n",
       "      <td>3</td>\n",
       "      <td>0.00</td>\n",
       "      <td>10000</td>\n",
       "      <td>521</td>\n",
       "      <td>0.0</td>\n",
       "      <td>0.00</td>\n",
       "      <td>...</td>\n",
       "      <td>0.00</td>\n",
       "      <td>0</td>\n",
       "      <td>25948.98</td>\n",
       "      <td>0</td>\n",
       "      <td>0</td>\n",
       "      <td>3</td>\n",
       "      <td>0</td>\n",
       "      <td>45</td>\n",
       "      <td>NaN</td>\n",
       "      <td>0</td>\n",
       "    </tr>\n",
       "    <tr>\n",
       "      <th>21905</th>\n",
       "      <td>6641183</td>\n",
       "      <td>0.0</td>\n",
       "      <td>0</td>\n",
       "      <td>6192</td>\n",
       "      <td>3</td>\n",
       "      <td>0.00</td>\n",
       "      <td>0</td>\n",
       "      <td>9999</td>\n",
       "      <td>0.0</td>\n",
       "      <td>0.00</td>\n",
       "      <td>...</td>\n",
       "      <td>0.00</td>\n",
       "      <td>0</td>\n",
       "      <td>0.00</td>\n",
       "      <td>0</td>\n",
       "      <td>0</td>\n",
       "      <td>3</td>\n",
       "      <td>0</td>\n",
       "      <td>73</td>\n",
       "      <td>NaN</td>\n",
       "      <td>0</td>\n",
       "    </tr>\n",
       "    <tr>\n",
       "      <th>22184</th>\n",
       "      <td>6655415</td>\n",
       "      <td>0.0</td>\n",
       "      <td>0</td>\n",
       "      <td>38836</td>\n",
       "      <td>0</td>\n",
       "      <td>0.00</td>\n",
       "      <td>10000</td>\n",
       "      <td>670</td>\n",
       "      <td>0.0</td>\n",
       "      <td>0.00</td>\n",
       "      <td>...</td>\n",
       "      <td>0.00</td>\n",
       "      <td>0</td>\n",
       "      <td>0.00</td>\n",
       "      <td>0</td>\n",
       "      <td>0</td>\n",
       "      <td>3</td>\n",
       "      <td>0</td>\n",
       "      <td>78</td>\n",
       "      <td>NaN</td>\n",
       "      <td>0</td>\n",
       "    </tr>\n",
       "    <tr>\n",
       "      <th>22772</th>\n",
       "      <td>6682277</td>\n",
       "      <td>154900.0</td>\n",
       "      <td>0</td>\n",
       "      <td>4000</td>\n",
       "      <td>4</td>\n",
       "      <td>863.04</td>\n",
       "      <td>7990</td>\n",
       "      <td>4</td>\n",
       "      <td>154900.0</td>\n",
       "      <td>6136.07</td>\n",
       "      <td>...</td>\n",
       "      <td>863.04</td>\n",
       "      <td>1</td>\n",
       "      <td>0.00</td>\n",
       "      <td>1</td>\n",
       "      <td>2</td>\n",
       "      <td>3</td>\n",
       "      <td>0</td>\n",
       "      <td>46</td>\n",
       "      <td>NaN</td>\n",
       "      <td>0</td>\n",
       "    </tr>\n",
       "  </tbody>\n",
       "</table>\n",
       "<p>322 rows × 25 columns</p>\n",
       "</div>"
      ],
      "text/plain": [
       "       order_id  cred_sum_cc_all  mfo_inqs_count_month  \\\n",
       "84      5502219         258000.1                     2   \n",
       "87      5502290              0.0                     0   \n",
       "92      5502511              0.0                     0   \n",
       "93      5502514          90000.0                     3   \n",
       "113     5503182          10000.0                     1   \n",
       "...         ...              ...                   ...   \n",
       "21445   6621709          15000.0                     0   \n",
       "21501   6624144         110500.0                     0   \n",
       "21905   6641183              0.0                     0   \n",
       "22184   6655415              0.0                     0   \n",
       "22772   6682277         154900.0                     0   \n",
       "\n",
       "       all_closed_creds_sum_all  bank_inqs_count_quarter  \\\n",
       "84                       114601                        8   \n",
       "87                            0                        0   \n",
       "92                        48969                        0   \n",
       "93                        65000                        3   \n",
       "113                        2000                        3   \n",
       "...                         ...                      ...   \n",
       "21445                         0                        2   \n",
       "21501                     87604                        3   \n",
       "21905                      6192                        3   \n",
       "22184                     38836                        0   \n",
       "22772                      4000                        4   \n",
       "\n",
       "       cred_max_overdue_max_ly  all_active_creds_sum_all  mfo_last_days_all  \\\n",
       "84                        0.00                    303098                  5   \n",
       "87                        0.00                         0               9999   \n",
       "92                        0.00                         0               9999   \n",
       "93                        0.00                    180000                 10   \n",
       "113                       0.00                      3000                  6   \n",
       "...                        ...                       ...                ...   \n",
       "21445                     0.00                         0               9999   \n",
       "21501                     0.00                     10000                521   \n",
       "21905                     0.00                         0               9999   \n",
       "22184                     0.00                     10000                670   \n",
       "22772                   863.04                      7990                  4   \n",
       "\n",
       "       cred_sum_cc_ly  cred_sum_debt_all_all  ...  cred_max_overdue_max_3lm  \\\n",
       "84                0.1              257236.49  ...                      0.00   \n",
       "87                0.0                   0.00  ...                      0.00   \n",
       "92                0.0                   0.00  ...                      0.00   \n",
       "93                0.0              165548.70  ...                      0.00   \n",
       "113               0.0                3000.00  ...                      0.00   \n",
       "...               ...                    ...  ...                       ...   \n",
       "21445             0.0                   0.00  ...                      0.00   \n",
       "21501             0.0                   0.00  ...                      0.00   \n",
       "21905             0.0                   0.00  ...                      0.00   \n",
       "22184             0.0                   0.00  ...                      0.00   \n",
       "22772        154900.0                6136.07  ...                    863.04   \n",
       "\n",
       "       mfo_closed_count_ly  cred_sum_overdue_cc_all  count_overdue_all_3lm  \\\n",
       "84                       1                     0.00                      0   \n",
       "87                       0                     0.00                      0   \n",
       "92                       0                     0.00                      0   \n",
       "93                       8                     0.00                      0   \n",
       "113                      1                     0.00                      0   \n",
       "...                    ...                      ...                    ...   \n",
       "21445                    0                     0.00                      0   \n",
       "21501                    0                 25948.98                      0   \n",
       "21905                    0                     0.00                      0   \n",
       "22184                    0                     0.00                      0   \n",
       "22772                    1                     0.00                      1   \n",
       "\n",
       "       all_creds_count_lm  work_code  month_income  region  bad  approved  \n",
       "84                      3          3             0      50  0.0         1  \n",
       "87                      0          3             0      25  NaN         0  \n",
       "92                      0          3             0      73  NaN         0  \n",
       "93                      3          3             0      45  0.0         1  \n",
       "113                     2          3             0      50  NaN         0  \n",
       "...                   ...        ...           ...     ...  ...       ...  \n",
       "21445                   0          3             0      52  NaN         0  \n",
       "21501                   0          3             0      45  NaN         0  \n",
       "21905                   0          3             0      73  NaN         0  \n",
       "22184                   0          3             0      78  NaN         0  \n",
       "22772                   2          3             0      46  NaN         0  \n",
       "\n",
       "[322 rows x 25 columns]"
      ]
     },
     "execution_count": 184,
     "metadata": {},
     "output_type": "execute_result"
    }
   ],
   "source": [
    "df.iloc[    \n",
    "    list(np.where(dff['month_income'] < 10000)[0])  \n",
    "    ]"
   ]
  },
  {
   "cell_type": "code",
   "execution_count": null,
   "metadata": {},
   "outputs": [],
   "source": [
    "sns.pairplot((dff.iloc[:, 20:25].drop(columns=['region','bad'])), height=4, hue='approved')"
   ]
  },
  {
   "cell_type": "code",
   "execution_count": null,
   "metadata": {},
   "outputs": [],
   "source": [
    "#sns.kdeplot(y = df['month_income'], x= df['work_code'], height=2,corner =True, hue=df['bad'], fill=True, levels=5) #3ий work_code меньше 10к зп и молодцы"
   ]
  },
  {
   "cell_type": "code",
   "execution_count": null,
   "metadata": {},
   "outputs": [],
   "source": [
    "#sns.pairplot(df[['order_id','rerion',  'bad']], height=8,corner =True, hue='bad', kind='kde') #видно что много одобрений у id 618**** - 624**"
   ]
  },
  {
   "cell_type": "code",
   "execution_count": 232,
   "metadata": {},
   "outputs": [
    {
     "data": {
      "text/html": [
       "<div>\n",
       "<style scoped>\n",
       "    .dataframe tbody tr th:only-of-type {\n",
       "        vertical-align: middle;\n",
       "    }\n",
       "\n",
       "    .dataframe tbody tr th {\n",
       "        vertical-align: top;\n",
       "    }\n",
       "\n",
       "    .dataframe thead th {\n",
       "        text-align: right;\n",
       "    }\n",
       "</style>\n",
       "<table border=\"1\" class=\"dataframe\">\n",
       "  <thead>\n",
       "    <tr style=\"text-align: right;\">\n",
       "      <th></th>\n",
       "      <th>month_income</th>\n",
       "      <th>bad</th>\n",
       "      <th>approved</th>\n",
       "    </tr>\n",
       "  </thead>\n",
       "  <tbody>\n",
       "    <tr>\n",
       "      <th>count</th>\n",
       "      <td>4834.000000</td>\n",
       "      <td>1100.000000</td>\n",
       "      <td>4834.000000</td>\n",
       "    </tr>\n",
       "    <tr>\n",
       "      <th>mean</th>\n",
       "      <td>30008.274721</td>\n",
       "      <td>0.253636</td>\n",
       "      <td>0.227555</td>\n",
       "    </tr>\n",
       "    <tr>\n",
       "      <th>std</th>\n",
       "      <td>15828.023018</td>\n",
       "      <td>0.435290</td>\n",
       "      <td>0.419297</td>\n",
       "    </tr>\n",
       "    <tr>\n",
       "      <th>min</th>\n",
       "      <td>0.000000</td>\n",
       "      <td>0.000000</td>\n",
       "      <td>0.000000</td>\n",
       "    </tr>\n",
       "    <tr>\n",
       "      <th>25%</th>\n",
       "      <td>20000.000000</td>\n",
       "      <td>0.000000</td>\n",
       "      <td>0.000000</td>\n",
       "    </tr>\n",
       "    <tr>\n",
       "      <th>50%</th>\n",
       "      <td>35000.000000</td>\n",
       "      <td>0.000000</td>\n",
       "      <td>0.000000</td>\n",
       "    </tr>\n",
       "    <tr>\n",
       "      <th>75%</th>\n",
       "      <td>35000.000000</td>\n",
       "      <td>1.000000</td>\n",
       "      <td>0.000000</td>\n",
       "    </tr>\n",
       "    <tr>\n",
       "      <th>max</th>\n",
       "      <td>60000.000000</td>\n",
       "      <td>1.000000</td>\n",
       "      <td>1.000000</td>\n",
       "    </tr>\n",
       "  </tbody>\n",
       "</table>\n",
       "</div>"
      ],
      "text/plain": [
       "       month_income          bad     approved\n",
       "count   4834.000000  1100.000000  4834.000000\n",
       "mean   30008.274721     0.253636     0.227555\n",
       "std    15828.023018     0.435290     0.419297\n",
       "min        0.000000     0.000000     0.000000\n",
       "25%    20000.000000     0.000000     0.000000\n",
       "50%    35000.000000     0.000000     0.000000\n",
       "75%    35000.000000     1.000000     0.000000\n",
       "max    60000.000000     1.000000     1.000000"
      ]
     },
     "execution_count": 232,
     "metadata": {},
     "output_type": "execute_result"
    }
   ],
   "source": [
    "df.iloc[list(np.where((df['work_code'] == 3))[0])][['month_income','bad', 'approved']].describe()"
   ]
  },
  {
   "cell_type": "code",
   "execution_count": null,
   "metadata": {},
   "outputs": [],
   "source": [
    "df.iloc[list(np.where((dff['bad'] == 1))[0])].describe() #разница бэдов=1 и бэдов=1 в среднем через describe"
   ]
  },
  {
   "cell_type": "code",
   "execution_count": null,
   "metadata": {},
   "outputs": [],
   "source": [
    "df.iloc[list(np.where((dff['bad'] == 0))[0])].describe() #разница бэдов=1 и бэдов=1 в среднем через describe"
   ]
  },
  {
   "cell_type": "code",
   "execution_count": null,
   "metadata": {},
   "outputs": [],
   "source": [
    "df.iloc[list(np.where(df['mfo_cred_mean_sum_3lm'] == 0)[0])][['mfo_cred_mean_sum_3lm','bad','approved']].describe() #среднее по кредитам за последиие 3 месяца, тут - были ли они вообще"
   ]
  },
  {
   "cell_type": "code",
   "execution_count": null,
   "metadata": {},
   "outputs": [],
   "source": [
    "df.iloc[list(np.where(df['mfo_cred_mean_sum_3lm'] > 0)[0])][['mfo_cred_mean_sum_3lm','bad','approved']].describe() #среднее по кредитам за последиие 3 месяца, тут - были ли они вообще"
   ]
  },
  {
   "cell_type": "code",
   "execution_count": 105,
   "metadata": {},
   "outputs": [],
   "source": [
    "xer = df.iloc[list(np.where(df['all_closed_creds_sum_ly'] == 1483))[0]]"
   ]
  },
  {
   "cell_type": "code",
   "execution_count": 112,
   "metadata": {},
   "outputs": [
    {
     "data": {
      "text/plain": [
       "all_closed_creds_sum_ly  approved  bad\n",
       "1483                     1         0.0    31\n",
       "                                   1.0    11\n",
       "dtype: int64"
      ]
     },
     "execution_count": 112,
     "metadata": {},
     "output_type": "execute_result"
    }
   ],
   "source": [
    "xer.iloc[list(np.where(xer['approved'] == 1))[0]][['all_closed_creds_sum_ly','approved', 'bad']].value_counts()"
   ]
  },
  {
   "cell_type": "markdown",
   "metadata": {},
   "source": [
    "Моделька"
   ]
  },
  {
   "cell_type": "code",
   "execution_count": 12,
   "metadata": {},
   "outputs": [],
   "source": [
    "from catboost import CatBoostClassifier\n",
    "from catboost import Pool\n",
    "from sklearn.model_selection import train_test_split\n"
   ]
  },
  {
   "cell_type": "code",
   "execution_count": 13,
   "metadata": {},
   "outputs": [],
   "source": [
    "rs = 1385"
   ]
  },
  {
   "cell_type": "code",
   "execution_count": 14,
   "metadata": {},
   "outputs": [],
   "source": [
    "dff = dff.dropna()"
   ]
  },
  {
   "cell_type": "code",
   "execution_count": 15,
   "metadata": {},
   "outputs": [],
   "source": [
    "dff = dff.drop(columns='cred_sum_debt_all_all')"
   ]
  },
  {
   "cell_type": "code",
   "execution_count": 16,
   "metadata": {},
   "outputs": [],
   "source": [
    "target = dff['bad']"
   ]
  },
  {
   "cell_type": "code",
   "execution_count": 17,
   "metadata": {},
   "outputs": [],
   "source": [
    "dff = dff.drop(columns=['bad', 'approved','order_id'])"
   ]
  },
  {
   "cell_type": "code",
   "execution_count": 18,
   "metadata": {},
   "outputs": [],
   "source": [
    "X_train, X_test, y_train, y_test = train_test_split(dff, target, train_size=0.95, test_size=0.05, random_state=rs)"
   ]
  },
  {
   "cell_type": "code",
   "execution_count": 19,
   "metadata": {},
   "outputs": [],
   "source": [
    "cat_features = ['work_code', 'region']"
   ]
  },
  {
   "cell_type": "code",
   "execution_count": 20,
   "metadata": {},
   "outputs": [],
   "source": [
    "pool = Pool(X_train, y_train, cat_features=cat_features, feature_names=list(X_train.columns))"
   ]
  },
  {
   "cell_type": "code",
   "execution_count": 267,
   "metadata": {},
   "outputs": [],
   "source": [
    "#grid = {'learning_rate': [0.03, 0.05, 0.1],\n",
    "#        'depth': [2, 4, 6, 10],\n",
    "#        'l2_leaf_reg': [1, 3, 5, 7, 9]} чем глубже, тем сильнее переобучение, тем хуже тест\n",
    "\n",
    "grid = {'iterations': [300, 500, 1000], #, 1000, 2500],\n",
    "        'learning_rate': [0.03, 0.05],\n",
    "        'depth': [2, 4, 6],\n",
    "        'random_state':[rs],\n",
    "        'metric_period':[250],\n",
    "        'logging_level':['Silent']}"
   ]
  },
  {
   "cell_type": "code",
   "execution_count": null,
   "metadata": {},
   "outputs": [],
   "source": [
    "gscb = CatBoostClassifier()\n",
    "gsresult = gscb.grid_search(grid, X=pool, plot=True)"
   ]
  },
  {
   "cell_type": "code",
   "execution_count": 273,
   "metadata": {},
   "outputs": [],
   "source": [
    "params = gsresult['params'] "
   ]
  },
  {
   "cell_type": "code",
   "execution_count": 275,
   "metadata": {},
   "outputs": [
    {
     "data": {
      "text/plain": [
       "{'params': {'metric_period': 250,\n",
       "  'depth': 4,\n",
       "  'random_seed': 1385,\n",
       "  'iterations': 300,\n",
       "  'learning_rate': 0.03,\n",
       "  'logging_level': 'Silent'},\n",
       " 'cv_results': defaultdict(list,\n",
       "             {'iterations': [0, 250, 299],\n",
       "              'test-Logloss-mean': [0.6862833611948421,\n",
       "               0.574581256803194,\n",
       "               0.5745554577256468],\n",
       "              'test-Logloss-std': [2.3162663595485287e-05,\n",
       "               0.0026488579479770603,\n",
       "               0.0028454054252746233],\n",
       "              'train-Logloss-mean': [0.6861916832130625,\n",
       "               0.5359225609082047,\n",
       "               0.5286761178542063],\n",
       "              'train-Logloss-std': [3.9860198128528315e-05,\n",
       "               0.00024648052092316933,\n",
       "               0.0005561370031703128]})}"
      ]
     },
     "execution_count": 275,
     "metadata": {},
     "output_type": "execute_result"
    }
   ],
   "source": [
    "gsresult"
   ]
  },
  {
   "cell_type": "code",
   "execution_count": 21,
   "metadata": {},
   "outputs": [
    {
     "data": {
      "application/vnd.jupyter.widget-view+json": {
       "model_id": "b2ddb6121a034b76b45f9a028dcab6af",
       "version_major": 2,
       "version_minor": 0
      },
      "text/plain": [
       "MetricVisualizer(layout=Layout(align_self='stretch', height='500px'))"
      ]
     },
     "metadata": {},
     "output_type": "display_data"
    },
    {
     "data": {
      "text/plain": [
       "<catboost.core.CatBoostClassifier at 0x1c6d119fd90>"
      ]
     },
     "execution_count": 21,
     "metadata": {},
     "output_type": "execute_result"
    }
   ],
   "source": [
    "cbc = CatBoostClassifier(iterations=300, learning_rate=0.03, depth=4, random_seed=1385, logging_level='Silent')\n",
    "cbc.fit(pool, plot=True)"
   ]
  },
  {
   "cell_type": "code",
   "execution_count": 22,
   "metadata": {},
   "outputs": [
    {
     "data": {
      "application/vnd.jupyter.widget-view+json": {
       "model_id": "1e0deaa4e2314795840f1a66510768ce",
       "version_major": 2,
       "version_minor": 0
      },
      "text/plain": [
       "MetricVisualizer(layout=Layout(align_self='stretch', height='500px'))"
      ]
     },
     "metadata": {},
     "output_type": "display_data"
    },
    {
     "data": {
      "text/plain": [
       "<catboost.core.CatBoostClassifier at 0x1c6d0664790>"
      ]
     },
     "execution_count": 22,
     "metadata": {},
     "output_type": "execute_result"
    }
   ],
   "source": [
    "cbc2 = CatBoostClassifier(iterations=5000, learning_rate=0.05, depth=8, random_seed=1385, logging_level='Silent')\n",
    "cbc2.fit(pool, plot=True)"
   ]
  },
  {
   "cell_type": "code",
   "execution_count": 23,
   "metadata": {},
   "outputs": [],
   "source": [
    "a = cbc.feature_importances_ #первый классифаер"
   ]
  },
  {
   "cell_type": "code",
   "execution_count": 24,
   "metadata": {},
   "outputs": [],
   "source": [
    "b = cbc2.feature_importances_#второй ПЕРЕОБУЧЕННЫЙ классифаер"
   ]
  },
  {
   "cell_type": "code",
   "execution_count": 25,
   "metadata": {},
   "outputs": [],
   "source": [
    "c = dff.columns"
   ]
  },
  {
   "cell_type": "code",
   "execution_count": 26,
   "metadata": {},
   "outputs": [],
   "source": [
    "sosok = pd.DataFrame()\n",
    "sosok['a'] = a\n",
    "sosok['b'] = b\n",
    "sosok['c'] = c\n",
    "sosok['d'] = ['Сумма кредитов по кредитным картам', 'Количество запросов на кредиты в другие в МФО','Сумма закрытых кредитов', 'Количество запросов на кредиты в банки', 'Максимальная просрочка за год', 'Денежная сумма всех активных кредитов', 'Количество дней с последнего займа в МФО',\n",
    "    'Сумма лимитов кредитных карт, оформленных за последний год', 'Сумма закрытых кредитов за последний год', 'Средняя сумма МФО кредитов, выданных за 3m', 'Количество просрочек более чем на 90 дней по всем', 'Общее количество кредитов', 'Суммарное количество дней просрочки текущих активных кредитов',\n",
    "    'Максимальная сумма просроченной задолженности, по кредитам взятым за последние 3 месяца', 'Количество закрытых МФО кредитов, взятых за последний год', 'Сумма просрочек по кредитным картам', 'Количество кредитов на просрочке, взятых за last 3m', 'Количество кредитов, взятых за последний месяц',\n",
    "    'Код профессии', 'Месячный доход', 'Регион']"
   ]
  },
  {
   "cell_type": "code",
   "execution_count": 125,
   "metadata": {},
   "outputs": [
    {
     "data": {
      "text/html": [
       "<div>\n",
       "<style scoped>\n",
       "    .dataframe tbody tr th:only-of-type {\n",
       "        vertical-align: middle;\n",
       "    }\n",
       "\n",
       "    .dataframe tbody tr th {\n",
       "        vertical-align: top;\n",
       "    }\n",
       "\n",
       "    .dataframe thead th {\n",
       "        text-align: right;\n",
       "    }\n",
       "</style>\n",
       "<table border=\"1\" class=\"dataframe\">\n",
       "  <thead>\n",
       "    <tr style=\"text-align: right;\">\n",
       "      <th></th>\n",
       "      <th>a</th>\n",
       "      <th>b</th>\n",
       "      <th>c</th>\n",
       "      <th>d</th>\n",
       "    </tr>\n",
       "  </thead>\n",
       "  <tbody>\n",
       "    <tr>\n",
       "      <th>20</th>\n",
       "      <td>7.917794</td>\n",
       "      <td>12.963582</td>\n",
       "      <td>region</td>\n",
       "      <td>Регион</td>\n",
       "    </tr>\n",
       "    <tr>\n",
       "      <th>5</th>\n",
       "      <td>5.523752</td>\n",
       "      <td>9.145701</td>\n",
       "      <td>all_active_creds_sum_all</td>\n",
       "      <td>Денежная сумма всех активных кредитов</td>\n",
       "    </tr>\n",
       "    <tr>\n",
       "      <th>2</th>\n",
       "      <td>4.242894</td>\n",
       "      <td>8.326008</td>\n",
       "      <td>all_closed_creds_sum_all</td>\n",
       "      <td>Сумма закрытых кредитов</td>\n",
       "    </tr>\n",
       "    <tr>\n",
       "      <th>18</th>\n",
       "      <td>11.555119</td>\n",
       "      <td>8.057935</td>\n",
       "      <td>work_code</td>\n",
       "      <td>Код профессии</td>\n",
       "    </tr>\n",
       "    <tr>\n",
       "      <th>9</th>\n",
       "      <td>4.628952</td>\n",
       "      <td>7.577755</td>\n",
       "      <td>mfo_cred_mean_sum_3lm</td>\n",
       "      <td>Средняя сумма МФО кредитов, выданных за 3m</td>\n",
       "    </tr>\n",
       "    <tr>\n",
       "      <th>3</th>\n",
       "      <td>2.461938</td>\n",
       "      <td>7.226434</td>\n",
       "      <td>bank_inqs_count_quarter</td>\n",
       "      <td>Количество запросов на кредиты в банки</td>\n",
       "    </tr>\n",
       "    <tr>\n",
       "      <th>0</th>\n",
       "      <td>2.257415</td>\n",
       "      <td>6.579274</td>\n",
       "      <td>cred_sum_cc_all</td>\n",
       "      <td>Сумма кредитов по кредитным картам</td>\n",
       "    </tr>\n",
       "    <tr>\n",
       "      <th>8</th>\n",
       "      <td>9.616167</td>\n",
       "      <td>6.082713</td>\n",
       "      <td>all_closed_creds_sum_ly</td>\n",
       "      <td>Сумма закрытых кредитов за последний год</td>\n",
       "    </tr>\n",
       "    <tr>\n",
       "      <th>11</th>\n",
       "      <td>2.622224</td>\n",
       "      <td>5.222219</td>\n",
       "      <td>all_creds_count_all</td>\n",
       "      <td>Общее количество кредитов</td>\n",
       "    </tr>\n",
       "    <tr>\n",
       "      <th>1</th>\n",
       "      <td>11.330668</td>\n",
       "      <td>4.310161</td>\n",
       "      <td>mfo_inqs_count_month</td>\n",
       "      <td>Количество запросов на кредиты в другие в МФО</td>\n",
       "    </tr>\n",
       "    <tr>\n",
       "      <th>14</th>\n",
       "      <td>5.991318</td>\n",
       "      <td>4.250507</td>\n",
       "      <td>mfo_closed_count_ly</td>\n",
       "      <td>Количество закрытых МФО кредитов, взятых за по...</td>\n",
       "    </tr>\n",
       "    <tr>\n",
       "      <th>7</th>\n",
       "      <td>5.431810</td>\n",
       "      <td>3.857108</td>\n",
       "      <td>cred_sum_cc_ly</td>\n",
       "      <td>Сумма лимитов кредитных карт, оформленных за п...</td>\n",
       "    </tr>\n",
       "    <tr>\n",
       "      <th>4</th>\n",
       "      <td>5.418327</td>\n",
       "      <td>3.641775</td>\n",
       "      <td>cred_max_overdue_max_ly</td>\n",
       "      <td>Максимальная просрочка за год</td>\n",
       "    </tr>\n",
       "    <tr>\n",
       "      <th>17</th>\n",
       "      <td>2.305597</td>\n",
       "      <td>3.532451</td>\n",
       "      <td>all_creds_count_lm</td>\n",
       "      <td>Количество кредитов, взятых за последний месяц</td>\n",
       "    </tr>\n",
       "    <tr>\n",
       "      <th>19</th>\n",
       "      <td>2.800698</td>\n",
       "      <td>3.495925</td>\n",
       "      <td>month_income</td>\n",
       "      <td>Месячный доход</td>\n",
       "    </tr>\n",
       "    <tr>\n",
       "      <th>10</th>\n",
       "      <td>1.141860</td>\n",
       "      <td>1.909360</td>\n",
       "      <td>delay_more_sum_all</td>\n",
       "      <td>Количество просрочек более чем на 90 дней по всем</td>\n",
       "    </tr>\n",
       "    <tr>\n",
       "      <th>13</th>\n",
       "      <td>5.229233</td>\n",
       "      <td>1.343399</td>\n",
       "      <td>cred_max_overdue_max_3lm</td>\n",
       "      <td>Максимальная сумма просроченной задолженности,...</td>\n",
       "    </tr>\n",
       "    <tr>\n",
       "      <th>6</th>\n",
       "      <td>1.846753</td>\n",
       "      <td>1.020242</td>\n",
       "      <td>mfo_last_days_all</td>\n",
       "      <td>Количество дней с последнего займа в МФО</td>\n",
       "    </tr>\n",
       "    <tr>\n",
       "      <th>16</th>\n",
       "      <td>5.505044</td>\n",
       "      <td>0.662985</td>\n",
       "      <td>count_overdue_all_3lm</td>\n",
       "      <td>Количество кредитов на просрочке, взятых за la...</td>\n",
       "    </tr>\n",
       "    <tr>\n",
       "      <th>15</th>\n",
       "      <td>1.229385</td>\n",
       "      <td>0.587205</td>\n",
       "      <td>cred_sum_overdue_cc_all</td>\n",
       "      <td>Сумма просрочек по кредитным картам</td>\n",
       "    </tr>\n",
       "    <tr>\n",
       "      <th>12</th>\n",
       "      <td>0.943053</td>\n",
       "      <td>0.207261</td>\n",
       "      <td>cred_day_overdue_all_sum_all</td>\n",
       "      <td>Суммарное количество дней просрочки текущих ак...</td>\n",
       "    </tr>\n",
       "  </tbody>\n",
       "</table>\n",
       "</div>"
      ],
      "text/plain": [
       "            a          b                             c  \\\n",
       "20   7.917794  12.963582                        region   \n",
       "5    5.523752   9.145701      all_active_creds_sum_all   \n",
       "2    4.242894   8.326008      all_closed_creds_sum_all   \n",
       "18  11.555119   8.057935                     work_code   \n",
       "9    4.628952   7.577755         mfo_cred_mean_sum_3lm   \n",
       "3    2.461938   7.226434       bank_inqs_count_quarter   \n",
       "0    2.257415   6.579274               cred_sum_cc_all   \n",
       "8    9.616167   6.082713       all_closed_creds_sum_ly   \n",
       "11   2.622224   5.222219           all_creds_count_all   \n",
       "1   11.330668   4.310161          mfo_inqs_count_month   \n",
       "14   5.991318   4.250507           mfo_closed_count_ly   \n",
       "7    5.431810   3.857108                cred_sum_cc_ly   \n",
       "4    5.418327   3.641775       cred_max_overdue_max_ly   \n",
       "17   2.305597   3.532451            all_creds_count_lm   \n",
       "19   2.800698   3.495925                  month_income   \n",
       "10   1.141860   1.909360            delay_more_sum_all   \n",
       "13   5.229233   1.343399      cred_max_overdue_max_3lm   \n",
       "6    1.846753   1.020242             mfo_last_days_all   \n",
       "16   5.505044   0.662985         count_overdue_all_3lm   \n",
       "15   1.229385   0.587205       cred_sum_overdue_cc_all   \n",
       "12   0.943053   0.207261  cred_day_overdue_all_sum_all   \n",
       "\n",
       "                                                    d  \n",
       "20                                             Регион  \n",
       "5               Денежная сумма всех активных кредитов  \n",
       "2                             Сумма закрытых кредитов  \n",
       "18                                      Код профессии  \n",
       "9          Средняя сумма МФО кредитов, выданных за 3m  \n",
       "3              Количество запросов на кредиты в банки  \n",
       "0                  Сумма кредитов по кредитным картам  \n",
       "8            Сумма закрытых кредитов за последний год  \n",
       "11                          Общее количество кредитов  \n",
       "1       Количество запросов на кредиты в другие в МФО  \n",
       "14  Количество закрытых МФО кредитов, взятых за по...  \n",
       "7   Сумма лимитов кредитных карт, оформленных за п...  \n",
       "4                       Максимальная просрочка за год  \n",
       "17     Количество кредитов, взятых за последний месяц  \n",
       "19                                     Месячный доход  \n",
       "10  Количество просрочек более чем на 90 дней по всем  \n",
       "13  Максимальная сумма просроченной задолженности,...  \n",
       "6            Количество дней с последнего займа в МФО  \n",
       "16  Количество кредитов на просрочке, взятых за la...  \n",
       "15                Сумма просрочек по кредитным картам  \n",
       "12  Суммарное количество дней просрочки текущих ак...  "
      ]
     },
     "execution_count": 125,
     "metadata": {},
     "output_type": "execute_result"
    }
   ],
   "source": [
    "sosok.sort_values(by=['b'], ascending=False)"
   ]
  },
  {
   "cell_type": "markdown",
   "metadata": {},
   "source": [
    "a - коэфы при фичах у нормально обученного классификатора <br/>\n",
    "b - коэфы у намеренно переобученного классификатора <br/>\n",
    "Обучены на классификацию bad"
   ]
  },
  {
   "cell_type": "code",
   "execution_count": 117,
   "metadata": {},
   "outputs": [],
   "source": [
    "dff = df.copy()\n",
    "dff[['all_closed_creds_sum_all', 'all_active_creds_sum_all', 'cred_sum_debt_all_all', ]] = dff[['all_closed_creds_sum_all', 'all_active_creds_sum_all', 'cred_sum_debt_all_all', ]].round(decimals=-3)\n",
    "dff[['mfo_last_days_all', 'cred_max_overdue_max_3lm', 'cred_day_overdue_all_sum_all']] = dff[['mfo_last_days_all', 'cred_max_overdue_max_3lm', 'cred_day_overdue_all_sum_all']].round(decimals=-2)"
   ]
  },
  {
   "cell_type": "markdown",
   "metadata": {},
   "source": [
    "Моделька классификатор для approved"
   ]
  },
  {
   "cell_type": "code",
   "execution_count": 118,
   "metadata": {},
   "outputs": [],
   "source": [
    "dff = dff.drop(columns=['cred_sum_debt_all_all', 'bad', 'order_id'])\n",
    "target = dff['approved']\n",
    "dff = dff.drop(columns='approved')\n",
    "X_train, X_test, y_train, y_test = train_test_split(dff, target, train_size=0.95, test_size=0.05, random_state=rs)\n",
    "cat_features = ['work_code', 'region']\n",
    "pool = Pool(X_train, y_train, cat_features=cat_features, feature_names=list(X_train.columns))"
   ]
  },
  {
   "cell_type": "code",
   "execution_count": 119,
   "metadata": {},
   "outputs": [
    {
     "data": {
      "application/vnd.jupyter.widget-view+json": {
       "model_id": "e6de8f4966a741c391052bfe1044abab",
       "version_major": 2,
       "version_minor": 0
      },
      "text/plain": [
       "MetricVisualizer(layout=Layout(align_self='stretch', height='500px'))"
      ]
     },
     "metadata": {},
     "output_type": "display_data"
    },
    {
     "data": {
      "application/vnd.jupyter.widget-view+json": {
       "model_id": "6642078d419b4872ab9455f02a0a0913",
       "version_major": 2,
       "version_minor": 0
      },
      "text/plain": [
       "MetricVisualizer(layout=Layout(align_self='stretch', height='500px'))"
      ]
     },
     "metadata": {},
     "output_type": "display_data"
    },
    {
     "data": {
      "text/plain": [
       "<catboost.core.CatBoostClassifier at 0x1c6d0664790>"
      ]
     },
     "execution_count": 119,
     "metadata": {},
     "output_type": "execute_result"
    }
   ],
   "source": [
    "cbc3 = CatBoostClassifier(iterations=300, learning_rate=0.03, depth=4, random_seed=1385, logging_level='Silent')\n",
    "cbc.fit(pool, plot=True)\n",
    "\n",
    "cbc4 = CatBoostClassifier(iterations=5000, learning_rate=0.05, depth=8, random_seed=1385, logging_level='Silent')\n",
    "cbc2.fit(pool, plot=True)"
   ]
  },
  {
   "cell_type": "code",
   "execution_count": 120,
   "metadata": {},
   "outputs": [],
   "source": [
    "d = cbc.feature_importances_ #первый классифаер\n",
    "e = cbc2.feature_importances_#второй ПЕРЕОБУЧЕННЫЙ классифаер\n",
    "f = dff.columns\n",
    "sosok1 = pd.DataFrame()\n",
    "sosok1['a'] = d\n",
    "sosok1['b'] = e\n",
    "sosok1['c'] = f\n",
    "sosok1['d'] = ['Сумма кредитов по кредитным картам', 'Количество запросов на кредиты в другие в МФО','Сумма закрытых кредитов', 'Количество запросов на кредиты в банки', 'Максимальная просрочка за год', 'Денежная сумма всех активных кредитов', 'Количество дней с последнего займа в МФО',\n",
    "    'Сумма лимитов кредитных карт, оформленных за последний год', 'Сумма закрытых кредитов за последний год', 'Средняя сумма МФО кредитов, выданных за 3m', 'Количество просрочек более чем на 90 дней по всем', 'Общее количество кредитов', 'Суммарное количество дней просрочки текущих активных кредитов',\n",
    "    'Максимальная сумма просроченной задолженности, по кредитам взятым за последние 3 месяца', 'Количество закрытых МФО кредитов, взятых за последний год', 'Сумма просрочек по кредитным картам', 'Количество кредитов на просрочке, взятых за last 3m', 'Количество кредитов, взятых за последний месяц',\n",
    "    'Код профессии', 'Месячный доход', 'Регион']"
   ]
  },
  {
   "cell_type": "code",
   "execution_count": 124,
   "metadata": {},
   "outputs": [
    {
     "data": {
      "text/html": [
       "<div>\n",
       "<style scoped>\n",
       "    .dataframe tbody tr th:only-of-type {\n",
       "        vertical-align: middle;\n",
       "    }\n",
       "\n",
       "    .dataframe tbody tr th {\n",
       "        vertical-align: top;\n",
       "    }\n",
       "\n",
       "    .dataframe thead th {\n",
       "        text-align: right;\n",
       "    }\n",
       "</style>\n",
       "<table border=\"1\" class=\"dataframe\">\n",
       "  <thead>\n",
       "    <tr style=\"text-align: right;\">\n",
       "      <th></th>\n",
       "      <th>a</th>\n",
       "      <th>b</th>\n",
       "      <th>c</th>\n",
       "      <th>d</th>\n",
       "    </tr>\n",
       "  </thead>\n",
       "  <tbody>\n",
       "    <tr>\n",
       "      <th>12</th>\n",
       "      <td>32.677573</td>\n",
       "      <td>10.473591</td>\n",
       "      <td>cred_day_overdue_all_sum_all</td>\n",
       "      <td>Суммарное количество дней просрочки текущих ак...</td>\n",
       "    </tr>\n",
       "    <tr>\n",
       "      <th>20</th>\n",
       "      <td>0.019572</td>\n",
       "      <td>9.504745</td>\n",
       "      <td>region</td>\n",
       "      <td>Регион</td>\n",
       "    </tr>\n",
       "    <tr>\n",
       "      <th>5</th>\n",
       "      <td>5.852429</td>\n",
       "      <td>8.062407</td>\n",
       "      <td>all_active_creds_sum_all</td>\n",
       "      <td>Денежная сумма всех активных кредитов</td>\n",
       "    </tr>\n",
       "    <tr>\n",
       "      <th>2</th>\n",
       "      <td>4.490736</td>\n",
       "      <td>7.685468</td>\n",
       "      <td>all_closed_creds_sum_all</td>\n",
       "      <td>Сумма закрытых кредитов</td>\n",
       "    </tr>\n",
       "    <tr>\n",
       "      <th>11</th>\n",
       "      <td>12.000302</td>\n",
       "      <td>7.297244</td>\n",
       "      <td>all_creds_count_all</td>\n",
       "      <td>Общее количество кредитов</td>\n",
       "    </tr>\n",
       "    <tr>\n",
       "      <th>10</th>\n",
       "      <td>8.498030</td>\n",
       "      <td>6.268948</td>\n",
       "      <td>delay_more_sum_all</td>\n",
       "      <td>Количество просрочек более чем на 90 дней по всем</td>\n",
       "    </tr>\n",
       "    <tr>\n",
       "      <th>3</th>\n",
       "      <td>3.565815</td>\n",
       "      <td>5.840570</td>\n",
       "      <td>bank_inqs_count_quarter</td>\n",
       "      <td>Количество запросов на кредиты в банки</td>\n",
       "    </tr>\n",
       "    <tr>\n",
       "      <th>0</th>\n",
       "      <td>2.584674</td>\n",
       "      <td>5.780241</td>\n",
       "      <td>cred_sum_cc_all</td>\n",
       "      <td>Сумма кредитов по кредитным картам</td>\n",
       "    </tr>\n",
       "    <tr>\n",
       "      <th>18</th>\n",
       "      <td>0.076591</td>\n",
       "      <td>5.440926</td>\n",
       "      <td>work_code</td>\n",
       "      <td>Код профессии</td>\n",
       "    </tr>\n",
       "    <tr>\n",
       "      <th>8</th>\n",
       "      <td>8.432062</td>\n",
       "      <td>4.643692</td>\n",
       "      <td>all_closed_creds_sum_ly</td>\n",
       "      <td>Сумма закрытых кредитов за последний год</td>\n",
       "    </tr>\n",
       "    <tr>\n",
       "      <th>9</th>\n",
       "      <td>2.154291</td>\n",
       "      <td>4.218801</td>\n",
       "      <td>mfo_cred_mean_sum_3lm</td>\n",
       "      <td>Средняя сумма МФО кредитов, выданных за 3m</td>\n",
       "    </tr>\n",
       "    <tr>\n",
       "      <th>19</th>\n",
       "      <td>0.835774</td>\n",
       "      <td>3.517918</td>\n",
       "      <td>month_income</td>\n",
       "      <td>Месячный доход</td>\n",
       "    </tr>\n",
       "    <tr>\n",
       "      <th>4</th>\n",
       "      <td>1.387907</td>\n",
       "      <td>3.152882</td>\n",
       "      <td>cred_max_overdue_max_ly</td>\n",
       "      <td>Максимальная просрочка за год</td>\n",
       "    </tr>\n",
       "    <tr>\n",
       "      <th>14</th>\n",
       "      <td>2.467738</td>\n",
       "      <td>2.955134</td>\n",
       "      <td>mfo_closed_count_ly</td>\n",
       "      <td>Количество закрытых МФО кредитов, взятых за по...</td>\n",
       "    </tr>\n",
       "    <tr>\n",
       "      <th>17</th>\n",
       "      <td>3.086431</td>\n",
       "      <td>2.846169</td>\n",
       "      <td>all_creds_count_lm</td>\n",
       "      <td>Количество кредитов, взятых за последний месяц</td>\n",
       "    </tr>\n",
       "    <tr>\n",
       "      <th>15</th>\n",
       "      <td>4.203589</td>\n",
       "      <td>2.510604</td>\n",
       "      <td>cred_sum_overdue_cc_all</td>\n",
       "      <td>Сумма просрочек по кредитным картам</td>\n",
       "    </tr>\n",
       "    <tr>\n",
       "      <th>7</th>\n",
       "      <td>3.253168</td>\n",
       "      <td>2.480508</td>\n",
       "      <td>cred_sum_cc_ly</td>\n",
       "      <td>Сумма лимитов кредитных карт, оформленных за п...</td>\n",
       "    </tr>\n",
       "    <tr>\n",
       "      <th>1</th>\n",
       "      <td>0.010422</td>\n",
       "      <td>2.352062</td>\n",
       "      <td>mfo_inqs_count_month</td>\n",
       "      <td>Количество запросов на кредиты в другие в МФО</td>\n",
       "    </tr>\n",
       "    <tr>\n",
       "      <th>6</th>\n",
       "      <td>0.220919</td>\n",
       "      <td>2.122665</td>\n",
       "      <td>mfo_last_days_all</td>\n",
       "      <td>Количество дней с последнего займа в МФО</td>\n",
       "    </tr>\n",
       "    <tr>\n",
       "      <th>16</th>\n",
       "      <td>3.704051</td>\n",
       "      <td>1.961531</td>\n",
       "      <td>count_overdue_all_3lm</td>\n",
       "      <td>Количество кредитов на просрочке, взятых за la...</td>\n",
       "    </tr>\n",
       "    <tr>\n",
       "      <th>13</th>\n",
       "      <td>0.477925</td>\n",
       "      <td>0.883893</td>\n",
       "      <td>cred_max_overdue_max_3lm</td>\n",
       "      <td>Максимальная сумма просроченной задолженности,...</td>\n",
       "    </tr>\n",
       "  </tbody>\n",
       "</table>\n",
       "</div>"
      ],
      "text/plain": [
       "            a          b                             c  \\\n",
       "12  32.677573  10.473591  cred_day_overdue_all_sum_all   \n",
       "20   0.019572   9.504745                        region   \n",
       "5    5.852429   8.062407      all_active_creds_sum_all   \n",
       "2    4.490736   7.685468      all_closed_creds_sum_all   \n",
       "11  12.000302   7.297244           all_creds_count_all   \n",
       "10   8.498030   6.268948            delay_more_sum_all   \n",
       "3    3.565815   5.840570       bank_inqs_count_quarter   \n",
       "0    2.584674   5.780241               cred_sum_cc_all   \n",
       "18   0.076591   5.440926                     work_code   \n",
       "8    8.432062   4.643692       all_closed_creds_sum_ly   \n",
       "9    2.154291   4.218801         mfo_cred_mean_sum_3lm   \n",
       "19   0.835774   3.517918                  month_income   \n",
       "4    1.387907   3.152882       cred_max_overdue_max_ly   \n",
       "14   2.467738   2.955134           mfo_closed_count_ly   \n",
       "17   3.086431   2.846169            all_creds_count_lm   \n",
       "15   4.203589   2.510604       cred_sum_overdue_cc_all   \n",
       "7    3.253168   2.480508                cred_sum_cc_ly   \n",
       "1    0.010422   2.352062          mfo_inqs_count_month   \n",
       "6    0.220919   2.122665             mfo_last_days_all   \n",
       "16   3.704051   1.961531         count_overdue_all_3lm   \n",
       "13   0.477925   0.883893      cred_max_overdue_max_3lm   \n",
       "\n",
       "                                                    d  \n",
       "12  Суммарное количество дней просрочки текущих ак...  \n",
       "20                                             Регион  \n",
       "5               Денежная сумма всех активных кредитов  \n",
       "2                             Сумма закрытых кредитов  \n",
       "11                          Общее количество кредитов  \n",
       "10  Количество просрочек более чем на 90 дней по всем  \n",
       "3              Количество запросов на кредиты в банки  \n",
       "0                  Сумма кредитов по кредитным картам  \n",
       "18                                      Код профессии  \n",
       "8            Сумма закрытых кредитов за последний год  \n",
       "9          Средняя сумма МФО кредитов, выданных за 3m  \n",
       "19                                     Месячный доход  \n",
       "4                       Максимальная просрочка за год  \n",
       "14  Количество закрытых МФО кредитов, взятых за по...  \n",
       "17     Количество кредитов, взятых за последний месяц  \n",
       "15                Сумма просрочек по кредитным картам  \n",
       "7   Сумма лимитов кредитных карт, оформленных за п...  \n",
       "1       Количество запросов на кредиты в другие в МФО  \n",
       "6            Количество дней с последнего займа в МФО  \n",
       "16  Количество кредитов на просрочке, взятых за la...  \n",
       "13  Максимальная сумма просроченной задолженности,...  "
      ]
     },
     "execution_count": 124,
     "metadata": {},
     "output_type": "execute_result"
    }
   ],
   "source": [
    "sosok1.sort_values(by='b', ascending=False)"
   ]
  },
  {
   "cell_type": "markdown",
   "metadata": {},
   "source": [
    "a - коэфы при фичах у нормально обученного классификатора <br/>\n",
    "b - коэфы у намеренно переобученного классификатора <br/>\n",
    "Обучены на классификацию approved"
   ]
  },
  {
   "cell_type": "markdown",
   "metadata": {},
   "source": []
  }
 ],
 "metadata": {
  "kernelspec": {
   "display_name": "Python 3.9.6 64-bit",
   "language": "python",
   "name": "python3"
  },
  "language_info": {
   "codemirror_mode": {
    "name": "ipython",
    "version": 3
   },
   "file_extension": ".py",
   "mimetype": "text/x-python",
   "name": "python",
   "nbconvert_exporter": "python",
   "pygments_lexer": "ipython3",
   "version": "3.9.6"
  },
  "orig_nbformat": 4,
  "vscode": {
   "interpreter": {
    "hash": "1b24010e48f9066a6a90c6c06fb102c81381300da92a8a7b4c6691d23d6bcce8"
   }
  }
 },
 "nbformat": 4,
 "nbformat_minor": 2
}
